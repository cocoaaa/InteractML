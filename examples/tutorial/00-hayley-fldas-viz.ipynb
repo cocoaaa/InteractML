{
 "cells": [
  {
   "cell_type": "markdown",
   "metadata": {},
   "source": [
    "# `hv.Holomaps` with FLDAS dataset\n",
    "Modified: Jun 2, 2019\n",
    "\n",
    "Eastern & Southern Africa fldas data"
   ]
  },
  {
   "cell_type": "code",
   "execution_count": null,
   "metadata": {},
   "outputs": [],
   "source": [
    "%load_ext autoreload\n",
    "%autoreload 2\n",
    "\n",
    "import os, sys, time\n",
    "import numpy as np\n",
    "import scipy as sp\n",
    "import pandas as pd\n",
    "import intake\n",
    "    \n",
    "from pathlib import Path\n",
    "from pprint import pprint as pp\n",
    "p = print \n",
    "\n",
    "from sklearn.externals import joblib\n",
    "import pdb\n",
    "\n",
    "from tqdm import tqdm, trange\n",
    "import ipywidgets as iw\n",
    "\n",
    "import matplotlib.pyplot as plt\n",
    "%matplotlib inline\n",
    "\n",
    "# ignore warnings\n",
    "import warnings\n",
    "if not sys.warnoptions:\n",
    "    warnings.simplefilter('ignore')\n",
    "    \n",
    "# Don't generate bytecode\n",
    "sys.dont_write_bytecode = True"
   ]
  },
  {
   "cell_type": "code",
   "execution_count": null,
   "metadata": {},
   "outputs": [],
   "source": [
    "import holoviews as hv\n",
    "import xarray as xr\n",
    "\n",
    "from holoviews import opts\n",
    "from holoviews.operation.datashader import datashade, shade, dynspread, rasterize\n",
    "from holoviews.streams import Stream, param\n",
    "from holoviews import streams\n",
    "import geoviews as gv\n",
    "import geoviews.feature as gf\n",
    "from geoviews import tile_sources as gvts\n",
    "\n",
    "import geopandas as gpd\n",
    "import cartopy.crs as ccrs\n",
    "import cartopy.feature as cf\n",
    "\n",
    "hv.notebook_extension('bokeh')\n",
    "hv.Dimension.type_formatters[np.datetime64] = '%Y-%m-%d'"
   ]
  },
  {
   "cell_type": "code",
   "execution_count": null,
   "metadata": {},
   "outputs": [],
   "source": [
    "# Add the utils directory to the search path\n",
    "UTILS_DIR = Path('../utils').absolute()\n",
    "assert UTILS_DIR.exists()\n",
    "if str(UTILS_DIR) not in sys.path:\n",
    "    sys.path.insert(0, str(UTILS_DIR))\n",
    "    print(f\"Added {str(UTILS_DIR)} to sys.path\")\n",
    "\n",
    "pp(sys.path)\n",
    "    "
   ]
  },
  {
   "cell_type": "code",
   "execution_count": null,
   "metadata": {},
   "outputs": [],
   "source": [
    "from utils import get_mro as mro, nprint, dict2json, display_dict2json, is_valid_url\n",
    "import utils\n",
    "\n"
   ]
  },
  {
   "cell_type": "markdown",
   "metadata": {},
   "source": [
    "### Use holoview's colormaps module\n",
    "<img src=\"../assets/hv_colormaps.png\" alt=\"holoviews-colormaps\" width=\"600\"/>"
   ]
  },
  {
   "cell_type": "code",
   "execution_count": null,
   "metadata": {},
   "outputs": [],
   "source": [
    "from holoviews.plotting import list_cmaps"
   ]
  },
  {
   "cell_type": "code",
   "execution_count": null,
   "metadata": {},
   "outputs": [],
   "source": [
    "# list_cmaps(provider='colorcet', category='Sequential')"
   ]
  },
  {
   "cell_type": "code",
   "execution_count": null,
   "metadata": {},
   "outputs": [],
   "source": [
    "%opts Image [colorbar=True, tools=['hover']] Curve [tools=['hover']]"
   ]
  },
  {
   "cell_type": "code",
   "execution_count": null,
   "metadata": {},
   "outputs": [],
   "source": [
    "# Grab registered bokeh renderer\n",
    "print(\"Currently available renderers: \", *hv.Store.renderers.keys())"
   ]
  },
  {
   "cell_type": "code",
   "execution_count": null,
   "metadata": {},
   "outputs": [],
   "source": [
    "renderer = hv.renderer('bokeh')"
   ]
  },
  {
   "cell_type": "code",
   "execution_count": null,
   "metadata": {},
   "outputs": [],
   "source": []
  },
  {
   "cell_type": "code",
   "execution_count": null,
   "metadata": {},
   "outputs": [],
   "source": []
  },
  {
   "cell_type": "code",
   "execution_count": null,
   "metadata": {},
   "outputs": [],
   "source": []
  },
  {
   "cell_type": "code",
   "execution_count": null,
   "metadata": {},
   "outputs": [],
   "source": []
  },
  {
   "cell_type": "code",
   "execution_count": null,
   "metadata": {},
   "outputs": [],
   "source": []
  },
  {
   "cell_type": "code",
   "execution_count": null,
   "metadata": {},
   "outputs": [],
   "source": []
  },
  {
   "cell_type": "code",
   "execution_count": null,
   "metadata": {},
   "outputs": [],
   "source": []
  },
  {
   "cell_type": "code",
   "execution_count": null,
   "metadata": {},
   "outputs": [],
   "source": []
  },
  {
   "cell_type": "code",
   "execution_count": null,
   "metadata": {},
   "outputs": [],
   "source": []
  },
  {
   "cell_type": "code",
   "execution_count": null,
   "metadata": {},
   "outputs": [],
   "source": []
  },
  {
   "cell_type": "markdown",
   "metadata": {},
   "source": [
    "---\n",
    "## Load Datasets"
   ]
  },
  {
   "cell_type": "code",
   "execution_count": null,
   "metadata": {},
   "outputs": [],
   "source": [
    "# Southern Africa Dataset\n",
    "fpath_sa = '/home/hayley/data/mint/FLDAS/FLDAS_NOAH01_A_SA_D.001/2019/04/FLDAS_NOAH01_A_SA_D.A201904*.001.nc'\n",
    "fpath_ea = '/home/hayley/data/mint/FLDAS/FLDAS_NOAH01_A_EA_D.001/2019/04/FLDAS_NOAH01_A_EA_D.A201904*.001.nc'\n",
    "ds_sa = xr.open_mfdataset(fpath_sa)\n",
    "ds_sa = ds_sa.drop_dims('bnds')\n",
    "\n",
    "ds_ea = xr.open_mfdataset(fpath_ea)\n",
    "ds_ea = ds_ea.drop_dims('bnds')\n",
    "\n",
    "         \n",
    "# print(ds_ea)\n",
    "# print(ds_sa)"
   ]
  },
  {
   "cell_type": "code",
   "execution_count": null,
   "metadata": {},
   "outputs": [],
   "source": [
    "xrd_ea = ds_ea.persist()\n",
    "xrd_sa = ds_sa.persist()"
   ]
  },
  {
   "cell_type": "code",
   "execution_count": null,
   "metadata": {},
   "outputs": [],
   "source": [
    "# data variable list\n",
    "varnames_ea = list(ds_ea.data_vars.keys())\n",
    "varnames_sa = list(ds_sa.data_vars.keys())\n",
    "varnames = varnames_ea\n",
    "varname = varnames[3]\n",
    "print(varname)\n",
    "\n",
    "#set height, width for images (for plotting)\n",
    "H_IMG, W_IMG = 400, 400\n",
    "\n",
    "# create holoviews dataset containers \n",
    "kdims = ['X','Y','time']\n",
    "hvd_ea = hv.Dataset(xrd_ea, kdims)\n",
    "hvd_sa = hv.Dataset(xrd_sa, kdims)\n",
    "\n"
   ]
  },
  {
   "cell_type": "code",
   "execution_count": null,
   "metadata": {},
   "outputs": [],
   "source": [
    "# Simple example of `hv.dim()` funnction to transform dimensions\n",
    "# Useful to transform a dimension before mapping it to a visual attribute for plotting custromization\n",
    "# src: http://holoviews.org/user_guide/Style_Mapping.html\n",
    "hv.dim('X').apply(hvd_sa)\n",
    "hv.dim('time').apply(hvd_sa)"
   ]
  },
  {
   "cell_type": "code",
   "execution_count": null,
   "metadata": {},
   "outputs": [],
   "source": [
    "# colormaps\n",
    "## discretize it conveniently using holoview's \"color_level\" option\n",
    "t_fixed = '2019-04-05'\n",
    "varname = varnames[5] \n",
    "print(\"Selecting a datavariable at a fixed time point: \", t_fixed, varname)\n",
    "\n",
    "# timg_ea = hvd_ea.select(time=t_fixed).to(gv.Image, kdims=['X', 'Y'], vdims=varname) #this returns a holomap, not a hv.Image object\n",
    "# To construct an hv.Image object, we need to pass in the xr.DataArray (ie. one value variable)\n",
    "print(xrd_ea[varname].isel(time=3) )\n",
    "timg_ea = hv.Image(xrd_ea[varname].isel(time=3) , ['X','Y']) #Opt: vdims=varname\n",
    "print(timg_ea)\n",
    "\n",
    "timg_ea.opts(width=W_IMG, height=H_IMG)"
   ]
  },
  {
   "cell_type": "code",
   "execution_count": null,
   "metadata": {},
   "outputs": [],
   "source": [
    "# Now let's see how we can use holoview's plotting.opts function with `cmap` and `color_level` keywords to \n",
    "# categorize the values to certain number of color_levels easily\n",
    "\n",
    "( \n",
    "    timg_ea.relabel('default, continuous level cmapping').opts(cmap='PiYG') + \\\n",
    "    timg_ea.relabel('5 color levels').opts(cmap='PiYG', color_levels=5) + \\\n",
    "    timg_ea.relabel('11 color levels').opts(cmap='PiYG', color_levels=11)\n",
    ").opts(width=300,height=300).cols(3)\n",
    "\n",
    "\n"
   ]
  },
  {
   "cell_type": "markdown",
   "metadata": {},
   "source": [
    "Wow, this is really powerful. I love that I didn't need to categorize the values to 5 or 11 levels myself -> no new data variable for the result, so memory efficient too."
   ]
  },
  {
   "cell_type": "markdown",
   "metadata": {},
   "source": [
    "## cycle colormaps\n",
    "Modified: Jun 7, 2019"
   ]
  },
  {
   "cell_type": "code",
   "execution_count": null,
   "metadata": {},
   "outputs": [],
   "source": [
    "gdf"
   ]
  },
  {
   "cell_type": "code",
   "execution_count": null,
   "metadata": {},
   "outputs": [],
   "source": [
    "# gdf\n",
    "# gdf = get_vectile_gdf\n",
    "# lat, lon, z = -5, 37, 9\n",
    "# print(utils.get_latlon('paris, france'))\n",
    "z = 16\n",
    "lat, lon = utils.get_latlon('paris, france')\n",
    "      "
   ]
  },
  {
   "cell_type": "code",
   "execution_count": null,
   "metadata": {},
   "outputs": [],
   "source": [
    "gdf = get_vectile_gdf_at_latlon(lat, lon, z)\n",
    "print(len(gdf))\n",
    "display(gdf.head())"
   ]
  },
  {
   "cell_type": "code",
   "execution_count": null,
   "metadata": {},
   "outputs": [],
   "source": [
    "addr = input('Enter query address: ')\n",
    "lat, lon = utils.get_latlon(addr)\n",
    "print('lat, lon: ', lat, lon)\n",
    "z = int(input('Enter zoom level [0,16]:'))\n",
    "shapes = get_vectile_overlay_at_latlon(lat,lon, z)\n",
    "shapes\n",
    "\n",
    "# try:\n",
    "# addr: national museum of scotland, edinburgh, scotland\n",
    "# lat, lon:  55.9470714 -3.18933554234473\n"
   ]
  },
  {
   "cell_type": "code",
   "execution_count": null,
   "metadata": {},
   "outputs": [],
   "source": [
    "shapes = get_vectile_overlay_at_latlon(lat,lon, 12)\n"
   ]
  },
  {
   "cell_type": "code",
   "execution_count": null,
   "metadata": {},
   "outputs": [],
   "source": [
    "shapes"
   ]
  },
  {
   "cell_type": "code",
   "execution_count": null,
   "metadata": {},
   "outputs": [],
   "source": [
    "# hv.DynamicMap(get_vectile_overlay_at_latlon, kdims=['lat', 'lon', 'z']).\n",
    "# redim.values(lat=["
   ]
  },
  {
   "cell_type": "markdown",
   "metadata": {},
   "source": [
    "## A list of Lat, Lon data for world cities\n",
    "Modified: Jun 7, 2019\n",
    "- Plot a table of word citiy location data\n",
    "and link the table with a DynamicMap that shows the vector tiles at that location \n",
    "(with default zoom of 14(?) \n"
   ]
  },
  {
   "cell_type": "code",
   "execution_count": null,
   "metadata": {},
   "outputs": [],
   "source": []
  },
  {
   "cell_type": "code",
   "execution_count": null,
   "metadata": {},
   "outputs": [],
   "source": []
  },
  {
   "cell_type": "code",
   "execution_count": null,
   "metadata": {},
   "outputs": [],
   "source": [
    "latlons = pd.read_csv('/home/hayley/data/latlon/worldcities.csv')\n",
    "latlons = latlons[['city_ascii', 'lat', 'lng', 'country']]"
   ]
  },
  {
   "cell_type": "code",
   "execution_count": null,
   "metadata": {},
   "outputs": [],
   "source": [
    "sample_latlons = latlons.sample(frac=0.01)\n",
    "len(sample_latlons)"
   ]
  },
  {
   "cell_type": "code",
   "execution_count": null,
   "metadata": {},
   "outputs": [],
   "source": [
    "sample_latlons = (\n",
    "    sample_latlons\n",
    "    .rename({'city_ascii':'city'}, axis='columns')\n",
    "    .sort_values(by='country')\n",
    "#     .reset_index()\n",
    ")"
   ]
  },
  {
   "cell_type": "code",
   "execution_count": null,
   "metadata": {},
   "outputs": [],
   "source": [
    "latlon_table = hv.Table(sample_latlons, \n",
    "                        kdims = ['country', 'city', 'lat', 'lng'],\n",
    "                        label='city_latlon').opts(selectable=True)"
   ]
  },
  {
   "cell_type": "code",
   "execution_count": null,
   "metadata": {},
   "outputs": [],
   "source": [
    "hv.extension('bokeh')"
   ]
  },
  {
   "cell_type": "code",
   "execution_count": null,
   "metadata": {},
   "outputs": [],
   "source": [
    "latlon_table#.opts(tools=['tap'])"
   ]
  },
  {
   "cell_type": "code",
   "execution_count": null,
   "metadata": {},
   "outputs": [],
   "source": [
    "lonlat_stream = streams.Selection1D(source=latlon_table)"
   ]
  },
  {
   "cell_type": "code",
   "execution_count": null,
   "metadata": {},
   "outputs": [],
   "source": [
    "lonlat_stream.contents"
   ]
  },
  {
   "cell_type": "code",
   "execution_count": null,
   "metadata": {},
   "outputs": [],
   "source": [
    "def get_vectiles_from_inds(index, z=14):\n",
    "    \"\"\"\n",
    "    inds: table row index list\n",
    "    \"\"\"\n",
    "    overlay = []\n",
    "    if not index: #no selection \n",
    "        return hv.Overlay([])\n",
    "\n",
    "    for i in tqdm(index):\n",
    "        lat, lon = latlon_table['lat'][i], latlon_table['lng'][i]\n",
    "        country, city = latlon_table['country'][i], latlon_table['city'][i]\n",
    "        overlay.append(get_vectile_overlay_at_latlon(lat,lon,z))\n",
    "    return hv.Overlay(overlay)\n",
    "def get_vectile_overlay_from_index(index, z=14):\n",
    "    \"\"\"\n",
    "    index: table row index (int)\n",
    "    \n",
    "    \"\"\"\n",
    "    index = np.clip(index, 0, len(latlon_table)-1)\n",
    "    lat, lon = latlon_table['lat'][index], latlon_table['lng'][index]\n",
    "    country, city = latlon_table['country'][index], latlon_table['city'][index]\n",
    "    return get_vectile_overlay_at_latlon(lat,lon,z)\n",
    "                       \n",
    "    "
   ]
  },
  {
   "cell_type": "code",
   "execution_count": null,
   "metadata": {},
   "outputs": [],
   "source": [
    "# @output.capture()\n",
    "(\n",
    "    hv.DynamicMap(get_vectile_overlay_from_index, kdims='index')\n",
    "    .redim.range(index=(0,len(latlon_table)-1))\n",
    ").opts(width=600, height=600)"
   ]
  },
  {
   "cell_type": "code",
   "execution_count": null,
   "metadata": {},
   "outputs": [],
   "source": [
    "vectiles = get_vectile_overlay_from_inds(list(range(130)), z=16)"
   ]
  },
  {
   "cell_type": "code",
   "execution_count": null,
   "metadata": {},
   "outputs": [],
   "source": [
    "out = iw.Output(layout={'border': '1px solid black'})\n",
    "out"
   ]
  },
  {
   "cell_type": "markdown",
   "metadata": {},
   "source": [
    "# Continue from here\n",
    "Modified: Jun 8, 2019"
   ]
  },
  {
   "cell_type": "code",
   "execution_count": null,
   "metadata": {},
   "outputs": [],
   "source": []
  },
  {
   "cell_type": "code",
   "execution_count": null,
   "metadata": {},
   "outputs": [],
   "source": []
  },
  {
   "cell_type": "code",
   "execution_count": null,
   "metadata": {},
   "outputs": [],
   "source": []
  },
  {
   "cell_type": "code",
   "execution_count": null,
   "metadata": {},
   "outputs": [],
   "source": []
  },
  {
   "cell_type": "code",
   "execution_count": null,
   "metadata": {},
   "outputs": [],
   "source": []
  },
  {
   "cell_type": "code",
   "execution_count": null,
   "metadata": {},
   "outputs": [],
   "source": []
  },
  {
   "cell_type": "code",
   "execution_count": null,
   "metadata": {},
   "outputs": [],
   "source": []
  },
  {
   "cell_type": "code",
   "execution_count": null,
   "metadata": {},
   "outputs": [],
   "source": []
  },
  {
   "cell_type": "markdown",
   "metadata": {},
   "source": [
    "### Generate a varname dropdown box\n",
    "Modified: Jun 3, 2019"
   ]
  },
  {
   "cell_type": "code",
   "execution_count": null,
   "metadata": {},
   "outputs": [],
   "source": [
    "%%opts Image [width=600, height=600]\n",
    "var_tmap = gv.Dataset(xrd_ea, kdims=kdims, vdims=varname, crs=ccrs.PlateCarree()).to(gv.Image, kdims=['X','Y'], vdims=varname)\n",
    "var_tmap.redim(X='Lon', Y='Lat')"
   ]
  },
  {
   "cell_type": "code",
   "execution_count": null,
   "metadata": {},
   "outputs": [],
   "source": [
    "def get_var_tmap(xr_dataset, varname, label=None, cmap=None):\n",
    "    if label is None:\n",
    "        label = varname\n",
    "    tmap = gv.Dataset(xr_dataset, kdims=kdims, vdims=varname).to(gv.Image, kdims=['X','Y'], vdims=varname, label=label).redim(X='Lon', Y='Lat')\n",
    "    print('type of tmap before datashade: ', type(tmap))\n",
    "    print('\\t\\t after datashade: ', type(tmap))\n",
    "    tmap = datashade(tmap, cmap=cmap)\n",
    "    return tmap\n",
    "\n",
    "def get_var_timg(xr_dataset, varname, t_idx, label=None, cmap=None):\n",
    "    if label is None:\n",
    "        label = varname  \n",
    "    timg = gv.Dataset(xr_dataset.isel(time=t_idx), kdims=['X','Y'], vdims=varname).to(gv.Image, kdims=['X','Y'], vdims=varname, label=label).redim(X='Lon', Y='Lat')\n",
    "    print('type of timg before datashade: ', type(timg))\n",
    "    print('\\t\\t after datashade: ', type(timg))\n",
    "    timg = datashade(timg, cmap=cmap)\n",
    "    return timg\n",
    "\n",
    "\n",
    "def test_get_timg():\n",
    "    varname = varnames[1]\n",
    "    t_idx = 1\n",
    "    from matplotlib.cm import viridis\n",
    "\n",
    "    timg = get_var_timg(xrd_ea, varname, t_idx, cmap=viridis)\n",
    "    \n",
    "    print('varname: ', varname, 't_idx: ', t_idx)\n",
    "    display(timg)\n",
    "    "
   ]
  },
  {
   "cell_type": "code",
   "execution_count": null,
   "metadata": {},
   "outputs": [],
   "source": [
    "%%opts Image [width=600, height=600, tools=['hover']]\n",
    "test_get_timg()"
   ]
  },
  {
   "cell_type": "markdown",
   "metadata": {},
   "source": [
    "Let's add a base landscape vector features\n"
   ]
  },
  {
   "cell_type": "code",
   "execution_count": null,
   "metadata": {},
   "outputs": [],
   "source": [
    "# %%opts Image [global_extent=True, height=600, width=600] (alpha=0.7) Image.EA (cmap='kbc') Image.SA (cmap='fire')\n",
    "sq_cmaps = list_cmaps(provider='colorcet', category='Sequential')\n",
    "varname = varnames[1]\n",
    "t_idx = 1\n",
    "timg_ea = get_var_timg(xrd_ea, varname, t_idx, label='EA', cmap=c_cm.kbc)\n",
    "timg_sa = get_var_timg(xrd_sa, varname, t_idx, label='SA', cmap=c_cm.fire)\n",
    "\n"
   ]
  },
  {
   "cell_type": "code",
   "execution_count": null,
   "metadata": {},
   "outputs": [],
   "source": [
    "overlay = timg_ea + timg_sa\n",
    "print(overlay)"
   ]
  },
  {
   "cell_type": "code",
   "execution_count": null,
   "metadata": {},
   "outputs": [],
   "source": [
    "# Let's see the current plot.state of timg_ea andn timg_sa\n",
    "plot_ea = renderer.get_plot(timg_ea)\n",
    "plot_sa = renderer.get_plot(timg_sa)"
   ]
  },
  {
   "cell_type": "code",
   "execution_count": null,
   "metadata": {},
   "outputs": [],
   "source": [
    "def print_plot_state(hvElem, renderer):\n",
    "    plot = renderer.get_plot(hvElem)\n",
    "    print(\"Plot state: \")\n",
    "    plot.print_param_values()\n",
    "    \n",
    "def print_param_state(hvElem):\n",
    "    print(\"param values: \")\n",
    "    hvElem.print_param_values()\n",
    "    \n",
    "def print_all_states(hvElem, renderer):\n",
    "    print(\"=\"*80)\n",
    "    print_param_state(hvElem)\n",
    "    \n",
    "    print(\"=\"*80)\n",
    "    print_plot_state(hvElem, renderer)\n",
    "    \n",
    "def test_print_param_state():\n",
    "    print_param_state(timg_sa)\n",
    "def test_print_plot_state():\n",
    "    print_plot_state( timg_sa, renderer)\n",
    "def test_print_all_states():\n",
    "    print_all_states(timg_sa, renderer)   \n",
    "    \n",
    "# test_print_param_state()\n",
    "# test_print_plot_state()\n",
    "# test_print_all_states()\n"
   ]
  },
  {
   "cell_type": "code",
   "execution_count": null,
   "metadata": {},
   "outputs": [],
   "source": [
    "tmap_ea = get_var_tmap(xrd_ea, varname, label='EA', cmap=c_cm.kbc)\n",
    "tmap_sa = get_var_tmap(xrd_sa, varname, label='SA', cmap=c_cm.fire)"
   ]
  },
  {
   "cell_type": "code",
   "execution_count": null,
   "metadata": {},
   "outputs": [],
   "source": [
    "%%opts RGB [global_extent=False, height=500, width=500, tools=['hover']] (alpha=0.7) \n",
    "temp = (tmap_ea + tmap_sa).opts(width=500, height=500)\n",
    "temp\n"
   ]
  },
  {
   "cell_type": "code",
   "execution_count": null,
   "metadata": {},
   "outputs": [],
   "source": [
    "# Get tiles\n",
    "tile = gvts.EsriImagery"
   ]
  },
  {
   "cell_type": "code",
   "execution_count": null,
   "metadata": {},
   "outputs": [],
   "source": [
    "%%opts RGB [global_extent=False, height=H_IMG, width=W_IMG, tools=['hover']] (alpha=0.7) \n",
    "tile * tmap_ea * tmap_sa * gf.coastline"
   ]
  },
  {
   "cell_type": "markdown",
   "metadata": {},
   "source": [
    "---\n",
    "## TODO: \n",
    "Modified: Jun 4, 2019\n",
    "- [ ] add latlon PointXY stream -> plot across time for this particular variable\n",
    "- [ ] datashader statistics on a selected region by adding an extra layer on top of this:)\n",
    "- [ ] Work with osm and spacenet dataset"
   ]
  },
  {
   "cell_type": "code",
   "execution_count": null,
   "metadata": {},
   "outputs": [],
   "source": [
    "lon,lat = (22.35, -11.45)\n",
    "pt = gv.Points([ (lon,lat) ], ['X', 'Y'])\n",
    "LonLat = Stream.define('LonLat', X=22.35, Y=-11.45)\n",
    "\n",
    "pt_stream = LonLat()\n",
    "print(pt_stream.X, pt_stream.Y)"
   ]
  },
  {
   "cell_type": "code",
   "execution_count": null,
   "metadata": {},
   "outputs": [],
   "source": [
    "tmap_ea * pt.opts(size=10, color='r')"
   ]
  },
  {
   "cell_type": "code",
   "execution_count": null,
   "metadata": {},
   "outputs": [],
   "source": [
    "# PointerXY, a Linked Stream, to get a 2D dataview across Lat or Lon at the specific location and time\n",
    "# We can explicitly add a source to the stream by passing the source object (eg. holompas, image) as an \n",
    "# argument to 'source' at the construction time of the Linked Stream object\n",
    "pointer = streams.PointerXY(source=tmap_ea)\n",
    "print(pointer.source is tmap_ea)"
   ]
  },
  {
   "cell_type": "code",
   "execution_count": null,
   "metadata": {},
   "outputs": [],
   "source": [
    "# Let's see if it works\n",
    "hv.DynamicMap(lambda x,y: hv.Points([(x,y)]).opts(size=10, framewise=True), streams=[pointer])"
   ]
  },
  {
   "cell_type": "markdown",
   "metadata": {},
   "source": [
    "Awesome!\n"
   ]
  },
  {
   "cell_type": "markdown",
   "metadata": {},
   "source": [
    "We can add the pointer stream to its original plot source (ie. `tmap_ea`)\n",
    "def tmap_and_pointer("
   ]
  },
  {
   "cell_type": "code",
   "execution_count": null,
   "metadata": {},
   "outputs": [],
   "source": [
    "tmap_ea.redim.values(time=pd.date_range('2019-04-13', '2019-04-20'))"
   ]
  },
  {
   "cell_type": "code",
   "execution_count": null,
   "metadata": {},
   "outputs": [],
   "source": [
    "hv.Dataset(xrd_ea.sel(X=lon, Y=lat, method='nearest'), 'time')"
   ]
  },
  {
   "cell_type": "code",
   "execution_count": null,
   "metadata": {},
   "outputs": [],
   "source": [
    "def get_tseries_at_lon_lat(lon, lat):\n",
    "    return (\n",
    "        hv.Curve(xrd_ea.sel(X=lon, Y=lat, method='nearest'), 'time', varname)\n",
    "        .relabel(f'Lon: {lon}, Lat: {lat}')\n",
    "        .opts(width=1000, framewise=True)\n",
    "    )\n"
   ]
  },
  {
   "cell_type": "code",
   "execution_count": null,
   "metadata": {},
   "outputs": [],
   "source": [
    "def test_get_tseries_at_lon_lat():\n",
    "    lon, lat = 35, -5\n",
    "    display(get_tseries_at_lon_lat(lon, lat))\n",
    "test_get_tseries_at_lon_lat()"
   ]
  },
  {
   "cell_type": "code",
   "execution_count": null,
   "metadata": {},
   "outputs": [],
   "source": [
    "dmap = hv.DynamicMap(get_tseries_at_lon_lat, streams = [pointer.rename(x='lon', y='lat')])"
   ]
  },
  {
   "cell_type": "code",
   "execution_count": null,
   "metadata": {},
   "outputs": [],
   "source": [
    "dmap.streams[0].source is pointer.source\n"
   ]
  },
  {
   "cell_type": "code",
   "execution_count": null,
   "metadata": {},
   "outputs": [],
   "source": [
    "tmap_sa"
   ]
  },
  {
   "cell_type": "code",
   "execution_count": null,
   "metadata": {},
   "outputs": [],
   "source": [
    "tmap_ea + dmap.opts(xticks=30)"
   ]
  },
  {
   "cell_type": "markdown",
   "metadata": {},
   "source": [
    "The timeseries at a specific lat,lon is working! nice:)"
   ]
  },
  {
   "cell_type": "markdown",
   "metadata": {},
   "source": [
    "## Basemap + EA, SA variable data + timeseries at lon/lat \n",
    "Modified: Jun 6, 2019\n",
    "\n",
    "Let's put these together. Then we will \n",
    "- [ ] add another interactivity to select an area on the timage map and compute some meaning statistics on that region \n",
    "    - [ ] Use datashader's functionality here?\n",
    "    \n",
    "- [ ] take a look at the osm vector tile data (on the 2D space) \n",
    "- [ ] compute infrastructure distribution of \n",
    "    - [ ] the entire area\n",
    "    - [ ] selected area\n",
    "    \n",
    "---\n",
    "## Extra todos:\n",
    "Modified: Jun 7, 2019\n",
    "- [ ] if any of the coordinate of the pointer stream is out of bound, all tseries values should be zeros\n",
    "\n",
    " "
   ]
  },
  {
   "cell_type": "markdown",
   "metadata": {},
   "source": [
    "1. Putting things together"
   ]
  },
  {
   "cell_type": "code",
   "execution_count": null,
   "metadata": {},
   "outputs": [],
   "source": [
    "(\n",
    "    (tile * tmap_ea).opts(width=1000,height=700) + \\\n",
    "    dmap.opts(xticks=30)\n",
    ").cols(1)"
   ]
  },
  {
   "cell_type": "code",
   "execution_count": null,
   "metadata": {},
   "outputs": [],
   "source": [
    "    "
   ]
  },
  {
   "cell_type": "code",
   "execution_count": null,
   "metadata": {},
   "outputs": [],
   "source": []
  },
  {
   "cell_type": "code",
   "execution_count": null,
   "metadata": {},
   "outputs": [],
   "source": []
  },
  {
   "cell_type": "code",
   "execution_count": null,
   "metadata": {},
   "outputs": [],
   "source": []
  },
  {
   "cell_type": "code",
   "execution_count": null,
   "metadata": {},
   "outputs": [],
   "source": []
  },
  {
   "cell_type": "code",
   "execution_count": null,
   "metadata": {},
   "outputs": [],
   "source": []
  },
  {
   "cell_type": "code",
   "execution_count": null,
   "metadata": {},
   "outputs": [],
   "source": []
  },
  {
   "cell_type": "code",
   "execution_count": null,
   "metadata": {},
   "outputs": [],
   "source": []
  },
  {
   "cell_type": "code",
   "execution_count": null,
   "metadata": {},
   "outputs": [],
   "source": []
  },
  {
   "cell_type": "code",
   "execution_count": null,
   "metadata": {},
   "outputs": [],
   "source": []
  },
  {
   "cell_type": "code",
   "execution_count": null,
   "metadata": {},
   "outputs": [],
   "source": []
  },
  {
   "cell_type": "code",
   "execution_count": null,
   "metadata": {},
   "outputs": [],
   "source": []
  },
  {
   "cell_type": "code",
   "execution_count": null,
   "metadata": {},
   "outputs": [],
   "source": []
  },
  {
   "cell_type": "code",
   "execution_count": null,
   "metadata": {},
   "outputs": [],
   "source": []
  },
  {
   "cell_type": "code",
   "execution_count": null,
   "metadata": {},
   "outputs": [],
   "source": []
  },
  {
   "cell_type": "code",
   "execution_count": null,
   "metadata": {},
   "outputs": [],
   "source": []
  },
  {
   "cell_type": "code",
   "execution_count": null,
   "metadata": {},
   "outputs": [],
   "source": [
    "def get_tseries(xrd, varname, lon,lat):\n",
    "    tseries = xrd[varname].sel(X=lon, Y=lat, method='nearest')\n",
    "    return gv.Dataset(tseries, 'time', varname).to(hv.Curve)\n"
   ]
  },
  {
   "cell_type": "code",
   "execution_count": null,
   "metadata": {},
   "outputs": [],
   "source": [
    "renamed_stream = LonLat().rename(X='lon', Y='lat')\n",
    "# dmap_tseries = hv.DynamicMap(get_tseries, streams=[pt_stream.rename(X='lon', Y='lat')])\n",
    "dmap_tseries = hv.DynamicMap(lambda lon,lat: get_tseries(xrd_ea, varnames[1], lon, lat), \n",
    "                            streams=[renamed_stream])"
   ]
  },
  {
   "cell_type": "code",
   "execution_count": null,
   "metadata": {},
   "outputs": [],
   "source": [
    "dmap_tseries.opts(width=800, height=500)"
   ]
  },
  {
   "cell_type": "code",
   "execution_count": null,
   "metadata": {},
   "outputs": [],
   "source": [
    "lons, lats, times = map(np.array, ds_ea[varname].coords.values())"
   ]
  },
  {
   "cell_type": "code",
   "execution_count": null,
   "metadata": {},
   "outputs": [],
   "source": [
    "\n",
    "for i,(lon,lat) in enumerate(zip(lons[::10],lats[::10])):\n",
    "    if i>9:\n",
    "        break\n",
    "    print(i, \"lon,lat: \", lon,lat)\n",
    "    dmap_tseries.event(lon=lon, lat=lat)\n",
    "    time.sleep(3)\n",
    "    \n",
    "        "
   ]
  },
  {
   "cell_type": "code",
   "execution_count": null,
   "metadata": {},
   "outputs": [],
   "source": [
    "dmap_tseries"
   ]
  },
  {
   "cell_type": "code",
   "execution_count": null,
   "metadata": {},
   "outputs": [],
   "source": [
    "\n",
    "for i,(lon,lat) in enumerate(zip(lons[::10],lats[::10])):\n",
    "    if i>5:\n",
    "        break\n",
    "    print(i, \"lon,lat: \", lon,lat)\n",
    "    dmap_tseries.event(lon=lon, lat=lat)\n",
    "    time.sleep(1)\n",
    "    "
   ]
  },
  {
   "cell_type": "code",
   "execution_count": null,
   "metadata": {},
   "outputs": [],
   "source": [
    "dmap_tseries.opts(width=1000,height=300,framewise=True)"
   ]
  },
  {
   "cell_type": "markdown",
   "metadata": {},
   "source": [
    "---\n",
    "## Vector Tile Sources\n",
    "Modified: Jun 5, 2019"
   ]
  },
  {
   "cell_type": "code",
   "execution_count": null,
   "metadata": {},
   "outputs": [],
   "source": [
    "tile_url ='https://tile.nextzen.org/tilezen/vector/v1/512/all/16/19293/24641.json?api_key=GpjLSbvrQsa98MgMMuodzw'\n",
    "gv.Tiles(tile_url, name=\"vector_tile\").opts(width=600, height=550)\n"
   ]
  },
  {
   "cell_type": "code",
   "execution_count": null,
   "metadata": {},
   "outputs": [],
   "source": [
    "gv.T"
   ]
  },
  {
   "cell_type": "code",
   "execution_count": null,
   "metadata": {},
   "outputs": [],
   "source": [
    "vectile_path = '../data/24641.geojson'\n",
    "gdf = gpd.read_file(vectile_path)\n",
    "gdf.head()"
   ]
  },
  {
   "cell_type": "code",
   "execution_count": null,
   "metadata": {},
   "outputs": [],
   "source": [
    "gdf.plot()"
   ]
  },
  {
   "cell_type": "code",
   "execution_count": null,
   "metadata": {},
   "outputs": [],
   "source": [
    "gdf_vectile.crs\n"
   ]
  },
  {
   "cell_type": "code",
   "execution_count": null,
   "metadata": {},
   "outputs": [],
   "source": [
    "import requests"
   ]
  },
  {
   "cell_type": "code",
   "execution_count": null,
   "metadata": {},
   "outputs": [],
   "source": [
    "%%time\n",
    "r = requests.get(url=tile_url)"
   ]
  },
  {
   "cell_type": "code",
   "execution_count": null,
   "metadata": {},
   "outputs": [],
   "source": [
    "data = r.json()"
   ]
  },
  {
   "cell_type": "code",
   "execution_count": null,
   "metadata": {},
   "outputs": [],
   "source": [
    "gdf2 = gpd.GeoDataFrame(data)"
   ]
  },
  {
   "cell_type": "code",
   "execution_count": null,
   "metadata": {},
   "outputs": [],
   "source": [
    "gdf2"
   ]
  },
  {
   "cell_type": "code",
   "execution_count": null,
   "metadata": {},
   "outputs": [],
   "source": [
    "import json\n",
    "with open('./temp.geojson', 'w') as f:\n",
    "    json.dump(data,f)"
   ]
  },
  {
   "cell_type": "code",
   "execution_count": null,
   "metadata": {},
   "outputs": [],
   "source": [
    "gdf2 = gpd.read_file('./temp.geojson')\n",
    "gdf2.head()"
   ]
  },
  {
   "cell_type": "code",
   "execution_count": null,
   "metadata": {},
   "outputs": [],
   "source": [
    "#Modified: Jun 7, 2019\n",
    "import json\n",
    "\n",
    "VECTILE_CACHE = {}\n",
    "def get_vectile_gdf_at_xyz(xtile, ytile, z,\n",
    "                    size=256,layer='all',\n",
    "                    fformat='json', \n",
    "                    cache_dir='../data/vectile_cache/'):\n",
    "    \"\"\"\n",
    "    Given xtile, ytile and z(oom level), \n",
    "    request the vector tile from nextzen vector tile endpoint\n",
    "    \n",
    "    If the tile was requested before and is saved, \n",
    "    it will check the current python session's cache, then the local\n",
    "    disk to read the tile from memory.\n",
    "    \n",
    "    If not cached, it will send a request to the vector tile server,\n",
    "    save the tile data both in python memory and local disk.\n",
    "    \n",
    "    Returns geopandas.DataFrame that contains some meta data like osm_id \n",
    "    and most importantly) geometries\n",
    "    \n",
    "    Args:\n",
    "    - xtile, ytile, z (int)\n",
    "    - size (int) : currently only supports 256 because of the latlon->tile\n",
    "        conversion calculation is constrained to that size\n",
    "    - fformat (str): currently it must be json because I don't know\n",
    "        how to read mvt or topojson formats to geopandas.DataFrame\n",
    "        \n",
    "    \"\"\"\n",
    "    #check if VEC_CACHE object exists in global namespace\n",
    "    global VECTILE_CACHE\n",
    "    try:\n",
    "        VECTILE_CACHE\n",
    "    except NameError:\n",
    "        VECTILE_CACHE = {}\n",
    "        \n",
    "    cache_key = (size,layer,z,xtile,ytile)\n",
    "    # Check if this tile is in python session memory\n",
    "    # If so, read from the memory, otherwise read from the disk\n",
    "    if VECTILE_CACHE.get( cache_key ):\n",
    "        if VECTILE_CACHE[cache_key].get('loaded'):\n",
    "            \"Reading from python session memory\"\n",
    "            return VECTILE_CACHE[cache_key].get('dframe') #geopandas.gdf\n",
    "        else:\n",
    "            \"Reading from disk cache\"\n",
    "            return gpd.GeoDataFrame.read_file(VECTILE_CACHE[cache_key].get('fpath'))\n",
    "    \n",
    "    # Request a new tile\n",
    "    tile_url = f'https://tile.nextzen.org/tilezen/vector/v1/{size}/{layer}/{z}/{xtile}/{ytile}.{fformat}?api_key=GpjLSbvrQsa98MgMMuodzw'\n",
    "    r = requests.get(url=tile_url)\n",
    "    if not r.ok:\n",
    "        raise ValueError('reponse not ok: ', r.status_code)\n",
    "    data = r.json()\n",
    "    \n",
    "    # Write to disk\n",
    "    fdir = (Path(cache_dir) / f'{size}/{layer}/{z}/{xtile}/').resolve()\n",
    "    if not fdir.exists():\n",
    "        fdir.mkdir(parents=True)\n",
    "        print(f'{fdir} created')\n",
    "    fpath = fdir/ f'{ytile}.{fformat}'\n",
    "    print('Saving to: ', fpath)\n",
    "    with open(fpath, 'w') as f:\n",
    "        json.dump(data,f)\n",
    "        \n",
    "    while not fpath.exists():\n",
    "        time.sleep(0.3)\n",
    "    if fpath.exists():\n",
    "        gdf = gpd.read_file(fpath)\n",
    "    else:\n",
    "        raise IOError('File was not correctly written to disk: ', fpath)\n",
    "    \n",
    "    # Write to cache\n",
    "    VECTILE_CACHE[cache_key] = {\n",
    "        'loaded': True,\n",
    "        'dframe': gdf,\n",
    "        'fpath': fpath\n",
    "    }\n",
    "    return gdf\n",
    "def get_vectile_gdf_at_latlon(lat, lon, z,\n",
    "                             **kwargs):\n",
    "    \"\"\"\n",
    "    kwargs:\n",
    "    - size (256) : tile size\n",
    "    - layer ('all')\n",
    "    - format='json', \n",
    "    - cache_dir='../data/vectile_cache/'\n",
    "    \"\"\"\n",
    "    \n",
    "    xtile, ytile = VectorTile.deg2tile_xy(lat, lon, z)\n",
    "\n",
    "    return get_vectile_gdf_at_xyz(xtile, ytile, z, **kwargs)\n",
    "\n",
    "def get_vectile_overlay_at_xyz(xtile, ytile, z, **kwargs):\n",
    "    \"\"\"\n",
    "    Fetches the vector tile (from python cache or from the local disk or from the web service <- search order)\n",
    "    and returns a NdOverlay of Shape Elements with a numeric index\n",
    "    \n",
    "    args:\n",
    "    - xtile, ytile, z (int)\n",
    "\n",
    "    kwargs:    \n",
    "    - colors (iterable of color values, or str indicating a colormap definted in holoviews)\n",
    "        : Used to generate a itertools.cycle to cycle through color values. \n",
    "        : Default is 'Category20'\n",
    "        eg: color=bokeh.palettes.Category20_10\n",
    "    - size: (default is 256) \n",
    "    - layer: (default is 'all')\n",
    "    - fformat: (default is 'json')  \n",
    "    - cache_dir: (default is '../data/vectile_cache/')\n",
    "    \n",
    "    For hv.Cycle('colomap_name')'s usage, refer to: \n",
    "    http://holoviews.org/user_guide/Style_Mapping.html\n",
    "    \"\"\"\n",
    "\n",
    "    gdf = get_vectile_gdf_at_xyz(xtile, ytile, z, **kwargs)\n",
    "    \n",
    "    # colormap iterator\n",
    "    import itertools\n",
    "    from bokeh.palettes import Category20_10\n",
    "\n",
    "    colors = kwargs.get('colors', 'Category20')\n",
    "    \n",
    "    # return ndoverlay of each shape\n",
    "#     return hv.NdOverlay( {i:gv.Shape(geom).opts(fill_color=c) for i, (geom,c) in enumerate( zip(vtile_gdf.geometry, cmap_cycler) ) })\n",
    "    return hv.NdOverlay({i: gv.Shape(geom).opts(fill_color=hv.Cycle(colors))\n",
    "                      for (i,geom) in enumerate(gdf.geometry)})\n",
    "\n",
    "def get_vectile_overlay_at_latlon(lat, lon, z, **kwargs):\n",
    "    \"\"\"\n",
    "    Args:\n",
    "    - lat, lon (float): lat lon in degrees\n",
    "    - z (int): zoom level\n",
    "    \n",
    "    kwargs:    \n",
    "    - colors (iterable): to be used to generate a itertools.cycle to cycle through \n",
    "        color values\n",
    "        eg: color=bokeh.palettes.Category20_10\n",
    "    - size: (default is 256) \n",
    "    - layer: (default is 'all')\n",
    "    - fformat: (default is 'json')  \n",
    "    - cache_dir: (default is '../data/vectile_cache/')\n",
    "    \"\"\"\n",
    "    xtile, ytile = VectorTile.deg2tile_xy(lat, lon,z)\n",
    "\n",
    "    return get_vectile_overlay_at_xyz(xtile, ytile, z, **kwargs)  \n",
    "\n",
    "\n",
    "## Tests\n",
    "def test_get_vectile_gdf():\n",
    "    test_vectile = get_vectile_gdf()\n",
    "#     print(test_vectile.geometry[0])\n",
    "#     shapes = {i:gv.Shape(geom) for i,geom in enumerate(test_vectile.geometry)}\n",
    "    vectiles = hv.NdOverlay({i:gv.Shape(geom) for i,geom in enumerate(test_vectile.geometry)})\n",
    "    \n",
    "    display(vectiles.opts(\n",
    "        opts.Shape(cmap='viridis'))\n",
    "           )\n",
    "    \n",
    "\n",
    "def test_get_vectile_overlay_at_xyz():\n",
    "    xtile=19293\n",
    "    ytile=24641\n",
    "    z=16\n",
    "    display(get_vectile_overlay_at_xyz(xtile, ytile,z))\n",
    "    \n",
    "    \n",
    "def test_get_vectile_overlay_at_latlon():\n",
    "#     lat, lon = (40.709792012434946, -74.0203857421875)\n",
    "    lat, lon = (-10, 30)\n",
    "    z=16\n",
    "    display(get_vectile_overlay_at_latlon(lat, lon, z))\n",
    "    \n",
    "    \n",
    "    "
   ]
  },
  {
   "cell_type": "code",
   "execution_count": null,
   "metadata": {},
   "outputs": [],
   "source": [
    "test_get_vectile_overlay_at_latlon()"
   ]
  },
  {
   "cell_type": "code",
   "execution_count": null,
   "metadata": {},
   "outputs": [],
   "source": [
    "lat, lon = (-10, 30)\n",
    "z=16\n",
    "display(get_vectile_overlay_at_latlon(lat, lon, z))"
   ]
  },
  {
   "cell_type": "code",
   "execution_count": null,
   "metadata": {},
   "outputs": [],
   "source": [
    "VectorTile.deg2tile_xy(lat,lon,z)"
   ]
  },
  {
   "cell_type": "code",
   "execution_count": null,
   "metadata": {},
   "outputs": [],
   "source": []
  },
  {
   "cell_type": "code",
   "execution_count": null,
   "metadata": {},
   "outputs": [],
   "source": []
  },
  {
   "cell_type": "code",
   "execution_count": null,
   "metadata": {},
   "outputs": [],
   "source": []
  },
  {
   "cell_type": "code",
   "execution_count": null,
   "metadata": {},
   "outputs": [],
   "source": []
  },
  {
   "cell_type": "code",
   "execution_count": null,
   "metadata": {},
   "outputs": [],
   "source": []
  },
  {
   "cell_type": "code",
   "execution_count": null,
   "metadata": {},
   "outputs": [],
   "source": [
    "vtile_gdf = get_vectile_gdf()\n",
    "vtile_gdf"
   ]
  },
  {
   "cell_type": "code",
   "execution_count": null,
   "metadata": {},
   "outputs": [],
   "source": [
    "# Create colormap cycle iterator\n",
    "import itertools\n",
    "from bokeh.palettes import Category20_10\n",
    "cmap_cycler = itertools.cycle(Category20_10)"
   ]
  },
  {
   "cell_type": "code",
   "execution_count": null,
   "metadata": {},
   "outputs": [],
   "source": [
    "hv.NdOverlay( {i:gv.Shape(geom).opts(fill_color=c) for i, (geom,c) in enumerate( zip(vtile_gdf.geometry, cmap_cycler) ) })"
   ]
  },
  {
   "cell_type": "code",
   "execution_count": null,
   "metadata": {},
   "outputs": [],
   "source": [
    "g = vtile_gdf.geometry[0]\n",
    "display(gv.Shape(g).opts(fill_color='r'))\n",
    "print(g)"
   ]
  },
  {
   "cell_type": "code",
   "execution_count": null,
   "metadata": {},
   "outputs": [],
   "source": [
    "import math\n",
    "\n",
    "class VectorTile():\n",
    "\n",
    "    @staticmethod\n",
    "    def deg2tile_xy(lat_deg, lon_deg, zoom):\n",
    "        \"\"\"\n",
    "        Lat,Lon to tile numbers\n",
    "        - src: https://is.gd/mjvdR7\n",
    "        \"\"\"\n",
    "        lat_rad = math.radians(lat_deg)\n",
    "        n = 2.0 ** zoom\n",
    "        xtile = int((lon_deg + 180.0) / 360.0 * n)\n",
    "        ytile = int((1.0 - math.log(math.tan(lat_rad) + (1 / math.cos(lat_rad))) / math.pi) / 2.0 * n)\n",
    "        return (xtile, ytile)\n",
    "\n",
    "    @staticmethod\n",
    "    def tile_xyz2deg(xtile, ytile, zoom):\n",
    "        \"\"\"\n",
    "        Tile numbers to lat/lon in degree\n",
    "        This returns the NW-corner of the square. \n",
    "        Use the function with xtile+1 and/or ytile+1 to get the other corners. \n",
    "        With xtile+0.5 & ytile+0.5 it will return the center of the tile.\n",
    "        - src: https://is.gd/mjvdR7\n",
    "        \"\"\"\n",
    "        n = 2.0 ** zoom\n",
    "        lon_deg = xtile / n * 360.0 - 180.0\n",
    "        lat_rad = math.atan(math.sinh(math.pi * (1 - 2 * ytile / n)))\n",
    "        lat_deg = math.degrees(lat_rad)\n",
    "        return (lat_deg, lon_deg)"
   ]
  },
  {
   "cell_type": "code",
   "execution_count": null,
   "metadata": {},
   "outputs": [],
   "source": [
    "VectorTile.tile_xyz2deg(19293, 24641, 16)"
   ]
  },
  {
   "cell_type": "code",
   "execution_count": null,
   "metadata": {},
   "outputs": [],
   "source": [
    "vectiles = hv.NdOverlay({i:gv.Shape(geom) for i,geom in enumerate(test.geometry)})"
   ]
  },
  {
   "cell_type": "code",
   "execution_count": null,
   "metadata": {},
   "outputs": [],
   "source": [
    "vtile_ndo = get_vectile_overlay("
   ]
  },
  {
   "cell_type": "code",
   "execution_count": null,
   "metadata": {},
   "outputs": [],
   "source": [
    "f"
   ]
  },
  {
   "cell_type": "code",
   "execution_count": null,
   "metadata": {},
   "outputs": [],
   "source": []
  },
  {
   "cell_type": "code",
   "execution_count": null,
   "metadata": {},
   "outputs": [],
   "source": []
  },
  {
   "cell_type": "code",
   "execution_count": null,
   "metadata": {},
   "outputs": [],
   "source": []
  },
  {
   "cell_type": "code",
   "execution_count": null,
   "metadata": {},
   "outputs": [],
   "source": []
  },
  {
   "cell_type": "code",
   "execution_count": null,
   "metadata": {},
   "outputs": [],
   "source": []
  },
  {
   "cell_type": "code",
   "execution_count": null,
   "metadata": {},
   "outputs": [],
   "source": []
  },
  {
   "cell_type": "code",
   "execution_count": null,
   "metadata": {},
   "outputs": [],
   "source": []
  },
  {
   "cell_type": "code",
   "execution_count": null,
   "metadata": {},
   "outputs": [],
   "source": []
  },
  {
   "cell_type": "code",
   "execution_count": null,
   "metadata": {},
   "outputs": [],
   "source": []
  },
  {
   "cell_type": "code",
   "execution_count": null,
   "metadata": {},
   "outputs": [],
   "source": []
  },
  {
   "cell_type": "code",
   "execution_count": null,
   "metadata": {},
   "outputs": [],
   "source": []
  },
  {
   "cell_type": "code",
   "execution_count": null,
   "metadata": {},
   "outputs": [],
   "source": []
  },
  {
   "cell_type": "code",
   "execution_count": null,
   "metadata": {},
   "outputs": [],
   "source": []
  },
  {
   "cell_type": "markdown",
   "metadata": {},
   "source": [
    "Let's get a better vector features with national boundaries. `geoviews.features` is a warpper of `cartopy.crs.feature` which supports easy feature collection downloading from `Natural Earth Data`.\n",
    "    - [link](https://is.gd/jmmPRV)\n"
   ]
  },
  {
   "cell_type": "code",
   "execution_count": null,
   "metadata": {},
   "outputs": [],
   "source": [
    "gf_land_110 = gv.Feature(cf.NaturalEarthFeature('cultural', 'admin_0_boundary_lines_land', '110m'))\n",
    "\n",
    "# nice bboxfinder\n",
    "# https://is.gd/L163zr\n",
    "extents = (-32.343750,-43.580391,69.257813,47.279229)\n",
    "xlim = (extents[0], extents[2])\n",
    "ylim = (extents[1], extents[3])\n",
    "\n",
    "# reset the extent for visualization only\n",
    "# gf_land_110.extents =  extents\n",
    "# gf_land_110"
   ]
  },
  {
   "cell_type": "code",
   "execution_count": null,
   "metadata": {},
   "outputs": [],
   "source": [
    "timg_ea.bounds"
   ]
  },
  {
   "cell_type": "code",
   "execution_count": null,
   "metadata": {},
   "outputs": [],
   "source": [
    "gf_land_110.extents"
   ]
  },
  {
   "cell_type": "code",
   "execution_count": null,
   "metadata": {},
   "outputs": [],
   "source": [
    "%%opts Feature [global_extent=False]\n",
    "gf_land_110"
   ]
  },
  {
   "cell_type": "code",
   "execution_count": null,
   "metadata": {},
   "outputs": [],
   "source": [
    "%%opts WMTS [height=1200, width=1200] Image [height=1200, width=1200] (alpha=0.7) Image.EA (cmap='kbc') Image.SA (cmap='fire')\n",
    "tile * gf_land_110 * tmap_ea * tmap_sa"
   ]
  },
  {
   "cell_type": "code",
   "execution_count": null,
   "metadata": {},
   "outputs": [],
   "source": []
  },
  {
   "cell_type": "code",
   "execution_count": null,
   "metadata": {},
   "outputs": [],
   "source": []
  },
  {
   "cell_type": "code",
   "execution_count": null,
   "metadata": {},
   "outputs": [],
   "source": []
  },
  {
   "cell_type": "code",
   "execution_count": null,
   "metadata": {},
   "outputs": [],
   "source": []
  },
  {
   "cell_type": "code",
   "execution_count": null,
   "metadata": {},
   "outputs": [],
   "source": []
  },
  {
   "cell_type": "code",
   "execution_count": null,
   "metadata": {},
   "outputs": [],
   "source": [
    "%%opts  Image [ height=600, width=600] (alpha=0.7) Image.EA (cmap='kbc') Image.SA (cmap='fire')\n",
    "\n",
    "# gf_land_110 * timg_ea"
   ]
  },
  {
   "cell_type": "code",
   "execution_count": null,
   "metadata": {},
   "outputs": [],
   "source": [
    "gf_land_110.extents=tuple([None for i in range(4)])"
   ]
  },
  {
   "cell_type": "code",
   "execution_count": null,
   "metadata": {},
   "outputs": [],
   "source": [
    "gf_land_110"
   ]
  },
  {
   "cell_type": "code",
   "execution_count": null,
   "metadata": {},
   "outputs": [],
   "source": []
  },
  {
   "cell_type": "code",
   "execution_count": null,
   "metadata": {},
   "outputs": [],
   "source": []
  },
  {
   "cell_type": "code",
   "execution_count": null,
   "metadata": {},
   "outputs": [],
   "source": []
  },
  {
   "cell_type": "code",
   "execution_count": null,
   "metadata": {},
   "outputs": [],
   "source": [
    "timg_ea.opts(opts.Image(xlim=xlim, ylim=ylim))"
   ]
  },
  {
   "cell_type": "code",
   "execution_count": null,
   "metadata": {},
   "outputs": [],
   "source": [
    "(timg_ea * timg_sa * gf_land_110)\n"
   ]
  },
  {
   "cell_type": "code",
   "execution_count": null,
   "metadata": {},
   "outputs": [],
   "source": [
    "\n",
    "\n",
    "# ( \n",
    "#     (timg_ea * gf_land_110) + \\\n",
    "#     (timg_sa * gf_land_110) + \\\n",
    "#     (timg_ea * timg_sa * gf_land_110)\n",
    "# ).cols(1)"
   ]
  },
  {
   "cell_type": "code",
   "execution_count": null,
   "metadata": {},
   "outputs": [],
   "source": [
    "%%opts Feature [global_extent=True, height=600, width=1200] Points [global_extent=True] (size=10)\n",
    "# WMTS [projection=ccrs.Geostationary()] Image [projection=ccrs.Geostationary()]\n",
    "lon, lat = 40.0, 8.0\n",
    "pt = gv.Points([(lon,lat)], crs=ccrs.PlateCarree())\n",
    "(gf.land * pt)"
   ]
  },
  {
   "cell_type": "markdown",
   "metadata": {},
   "source": [
    "---\n",
    "## Load vector data using geopandas interface\n",
    "Modified: Jun 4, 2019"
   ]
  },
  {
   "cell_type": "code",
   "execution_count": null,
   "metadata": {},
   "outputs": [],
   "source": [
    "fpath = '../assets/cities.csv'\n",
    "gdf = gpd.read_file(fpath)\n",
    "gdf.head()"
   ]
  },
  {
   "cell_type": "code",
   "execution_count": null,
   "metadata": {},
   "outputs": [],
   "source": []
  },
  {
   "cell_type": "code",
   "execution_count": null,
   "metadata": {},
   "outputs": [],
   "source": []
  },
  {
   "cell_type": "code",
   "execution_count": null,
   "metadata": {},
   "outputs": [],
   "source": []
  },
  {
   "cell_type": "code",
   "execution_count": null,
   "metadata": {},
   "outputs": [],
   "source": []
  },
  {
   "cell_type": "code",
   "execution_count": null,
   "metadata": {},
   "outputs": [],
   "source": []
  },
  {
   "cell_type": "code",
   "execution_count": null,
   "metadata": {},
   "outputs": [],
   "source": []
  },
  {
   "cell_type": "code",
   "execution_count": null,
   "metadata": {},
   "outputs": [],
   "source": []
  },
  {
   "cell_type": "code",
   "execution_count": null,
   "metadata": {},
   "outputs": [],
   "source": []
  },
  {
   "cell_type": "code",
   "execution_count": null,
   "metadata": {},
   "outputs": [],
   "source": []
  },
  {
   "cell_type": "code",
   "execution_count": null,
   "metadata": {},
   "outputs": [],
   "source": []
  },
  {
   "cell_type": "code",
   "execution_count": null,
   "metadata": {},
   "outputs": [],
   "source": []
  },
  {
   "cell_type": "code",
   "execution_count": null,
   "metadata": {},
   "outputs": [],
   "source": []
  },
  {
   "cell_type": "markdown",
   "metadata": {},
   "source": [
    "---\n",
    "## Load dataset using intake"
   ]
  },
  {
   "cell_type": "code",
   "execution_count": null,
   "metadata": {},
   "outputs": [],
   "source": [
    "cat = intake.open_catalog('./fldas_catalog.yml')\n",
    "list(cat)"
   ]
  },
  {
   "cell_type": "code",
   "execution_count": null,
   "metadata": {},
   "outputs": [],
   "source": [
    "ds_ea1 = cat.fldas_noah01_a_regional_daily_single(region='EA', day=2)\n",
    "xr_ea1 = ds_ea1.to_dask()"
   ]
  },
  {
   "cell_type": "code",
   "execution_count": null,
   "metadata": {},
   "outputs": [],
   "source": [
    "xr_ea1"
   ]
  },
  {
   "cell_type": "code",
   "execution_count": null,
   "metadata": {},
   "outputs": [],
   "source": [
    "ds_ea = cat.fldas_noah01_a_regional_daily_all(region='EA')\n",
    "ds_sa = cat.fldas_noah01_a_regional_daily_all(region='SA')"
   ]
  },
  {
   "cell_type": "code",
   "execution_count": null,
   "metadata": {},
   "outputs": [],
   "source": [
    "%%time\n",
    "ea = ds_ea.read()"
   ]
  },
  {
   "cell_type": "code",
   "execution_count": null,
   "metadata": {},
   "outputs": [],
   "source": [
    "%%time\n",
    "sa = ds_sa.read()"
   ]
  },
  {
   "cell_type": "code",
   "execution_count": null,
   "metadata": {},
   "outputs": [],
   "source": [
    "ea = ea.drop_dims('bnds')\n",
    "sa = sa.drop_dims('bnds')"
   ]
  },
  {
   "cell_type": "code",
   "execution_count": null,
   "metadata": {},
   "outputs": [],
   "source": [
    "ea\n"
   ]
  },
  {
   "cell_type": "code",
   "execution_count": null,
   "metadata": {},
   "outputs": [],
   "source": [
    "kdims = ['X', 'Y', 'time']\n",
    "varnames = list(ea.data_vars.keys())\n",
    "print(varnames)\n",
    "\n"
   ]
  },
  {
   "cell_type": "code",
   "execution_count": null,
   "metadata": {},
   "outputs": [],
   "source": [
    "hvd_ea = hv.Dataset(ea, kdims=kdims)\n",
    "hvd_sa = hv.Dataset(sa, kdims=kdims)\n",
    "# print(hvd_ea)"
   ]
  },
  {
   "cell_type": "code",
   "execution_count": null,
   "metadata": {},
   "outputs": [],
   "source": [
    "def get_hvm_var(xr_dset, varname):\n",
    "    \n",
    "    hvd_var = hv.Dataset(xr_dset[varname], kdims=kdims)\n",
    "    hvd_var.to(gv.Image, ['X','Y'], dynamic=True)\n",
    "    \n",
    "get_hvm_var(hvd_sa, varnames[2])"
   ]
  },
  {
   "cell_type": "code",
   "execution_count": null,
   "metadata": {},
   "outputs": [],
   "source": [
    "def get_varimg(xrd, varname, t):\n",
    "    hvd = hv.Dataset(xrd[varname].isel(time=t), kdims=['X','Y'])\n",
    "    return hvd.to(gv.Image, kdims=['X','Y'], vdims=varname)\n",
    "\n",
    "varname = varnames[3]\n",
    "t = 19\n",
    "img0 = get_varimg(ea, varname, t)"
   ]
  },
  {
   "cell_type": "code",
   "execution_count": null,
   "metadata": {},
   "outputs": [],
   "source": [
    "dmap = hv.DynamicMap(lambda varname, t: get_varimg(ea, varname, t),\n",
    "            kdims=['varname', 't'])\n",
    "              "
   ]
  },
  {
   "cell_type": "code",
   "execution_count": null,
   "metadata": {},
   "outputs": [],
   "source": [
    "dmap[varnames[-1,1]"
   ]
  },
  {
   "cell_type": "code",
   "execution_count": null,
   "metadata": {},
   "outputs": [],
   "source": [
    "varname = varnames[1]\n",
    "hv.Dataset(ea[varname], kdims=['X','Y','time']).to(gv.Image, ['X','Y'], dynamic=True)"
   ]
  },
  {
   "cell_type": "code",
   "execution_count": null,
   "metadata": {},
   "outputs": [],
   "source": []
  },
  {
   "cell_type": "code",
   "execution_count": null,
   "metadata": {},
   "outputs": [],
   "source": []
  },
  {
   "cell_type": "code",
   "execution_count": null,
   "metadata": {},
   "outputs": [],
   "source": []
  },
  {
   "cell_type": "code",
   "execution_count": null,
   "metadata": {},
   "outputs": [],
   "source": []
  },
  {
   "cell_type": "code",
   "execution_count": null,
   "metadata": {},
   "outputs": [],
   "source": []
  },
  {
   "cell_type": "code",
   "execution_count": null,
   "metadata": {},
   "outputs": [],
   "source": []
  },
  {
   "cell_type": "code",
   "execution_count": null,
   "metadata": {},
   "outputs": [],
   "source": []
  },
  {
   "cell_type": "code",
   "execution_count": null,
   "metadata": {},
   "outputs": [],
   "source": []
  },
  {
   "cell_type": "code",
   "execution_count": null,
   "metadata": {},
   "outputs": [],
   "source": []
  },
  {
   "cell_type": "code",
   "execution_count": null,
   "metadata": {},
   "outputs": [],
   "source": []
  },
  {
   "cell_type": "code",
   "execution_count": null,
   "metadata": {},
   "outputs": [],
   "source": []
  },
  {
   "cell_type": "code",
   "execution_count": null,
   "metadata": {},
   "outputs": [],
   "source": [
    "tile = gv.tile_sources.EsriImagery\n",
    "tile"
   ]
  },
  {
   "cell_type": "code",
   "execution_count": null,
   "metadata": {},
   "outputs": [],
   "source": [
    "%%opts Overlay [global_extent=True, width=600, height=600]\n",
    "gf.coastline * img0"
   ]
  },
  {
   "cell_type": "code",
   "execution_count": null,
   "metadata": {},
   "outputs": [],
   "source": [
    "img0"
   ]
  },
  {
   "cell_type": "code",
   "execution_count": null,
   "metadata": {},
   "outputs": [],
   "source": []
  },
  {
   "cell_type": "code",
   "execution_count": null,
   "metadata": {},
   "outputs": [],
   "source": []
  },
  {
   "cell_type": "code",
   "execution_count": null,
   "metadata": {},
   "outputs": [],
   "source": []
  },
  {
   "cell_type": "code",
   "execution_count": null,
   "metadata": {},
   "outputs": [],
   "source": []
  },
  {
   "cell_type": "code",
   "execution_count": null,
   "metadata": {},
   "outputs": [],
   "source": []
  },
  {
   "cell_type": "code",
   "execution_count": null,
   "metadata": {},
   "outputs": [],
   "source": []
  },
  {
   "cell_type": "code",
   "execution_count": null,
   "metadata": {},
   "outputs": [],
   "source": []
  },
  {
   "cell_type": "code",
   "execution_count": null,
   "metadata": {},
   "outputs": [],
   "source": []
  }
 ],
 "metadata": {
  "kernelspec": {
   "display_name": "Python [conda env:earthml]",
   "language": "python",
   "name": "conda-env-earthml-py"
  },
  "language_info": {
   "codemirror_mode": {
    "name": "ipython",
    "version": 3
   },
   "file_extension": ".py",
   "mimetype": "text/x-python",
   "name": "python",
   "nbconvert_exporter": "python",
   "pygments_lexer": "ipython3",
   "version": "3.7.1"
  }
 },
 "nbformat": 4,
 "nbformat_minor": 2
}
