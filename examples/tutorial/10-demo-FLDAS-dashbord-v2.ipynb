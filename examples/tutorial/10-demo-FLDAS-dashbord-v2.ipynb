{
 "cells": [
  {
   "cell_type": "code",
   "execution_count": null,
   "metadata": {},
   "outputs": [],
   "source": []
  },
  {
   "cell_type": "code",
   "execution_count": null,
   "metadata": {},
   "outputs": [],
   "source": [
    "%load_ext autoreload\n",
    "%autoreload 2\n",
    "\n",
    "import os, sys, time\n",
    "import datetime as dt\n",
    "import numpy as np\n",
    "import scipy as sp\n",
    "import pandas as pd\n",
    "import geopandas as gpd\n",
    "import intake,param\n",
    "    \n",
    "from pathlib import Path\n",
    "from pprint import pprint as pp\n",
    "p = print \n",
    "\n",
    "from sklearn.externals import joblib\n",
    "import pdb\n",
    "\n",
    "from tqdm import tqdm, trange\n",
    "import ipywidgets as iw\n",
    "\n",
    "import matplotlib.pyplot as plt\n",
    "%matplotlib inline\n",
    "\n",
    "# ignore warnings\n",
    "import warnings\n",
    "if not sys.warnoptions:\n",
    "    warnings.simplefilter('ignore')\n",
    "    \n",
    "# Don't generate bytecode\n",
    "sys.dont_write_bytecode = True"
   ]
  },
  {
   "cell_type": "code",
   "execution_count": null,
   "metadata": {},
   "outputs": [],
   "source": [
    "import holoviews as hv\n",
    "import xarray as xr\n",
    "import xarray.ufuncs as xu\n",
    "\n",
    "from holoviews import opts\n",
    "from holoviews.util import Dynamic\n",
    "from holoviews.operation.datashader import datashade, shade, dynspread, rasterize\n",
    "\n",
    "from holoviews.streams import *\n",
    "from holoviews import streams\n",
    "import geoviews as gv\n",
    "import geoviews.feature as gf\n",
    "from geoviews import tile_sources as gvts\n",
    "\n",
    "import panel as pn\n",
    "\n",
    "import geopandas as gpd\n",
    "import cartopy.crs as ccrs\n",
    "import cartopy.feature as cf\n",
    "\n",
    "\n",
    "hv.notebook_extension('bokeh')\n",
    "hv.Dimension.type_formatters[np.datetime64] = '%Y-%m-%d'\n",
    "pn.extension()\n",
    "\n",
    "# set pandas dataframe float precision \n",
    "pd.set_option('display.precision',2)\n"
   ]
  },
  {
   "cell_type": "code",
   "execution_count": null,
   "metadata": {},
   "outputs": [],
   "source": [
    "# Add the utils directory to the search path\n",
    "UTILS_DIR = Path('../utils').absolute()\n",
    "assert UTILS_DIR.exists()\n",
    "if str(UTILS_DIR) not in sys.path:\n",
    "    sys.path.insert(0, str(UTILS_DIR))\n",
    "    print(f\"Added {str(UTILS_DIR)} to sys.path\")    "
   ]
  },
  {
   "cell_type": "code",
   "execution_count": null,
   "metadata": {},
   "outputs": [],
   "source": [
    "import utils as u\n",
    "import hv_utils as  hvu\n"
   ]
  },
  {
   "cell_type": "code",
   "execution_count": null,
   "metadata": {},
   "outputs": [],
   "source": []
  },
  {
   "cell_type": "code",
   "execution_count": null,
   "metadata": {},
   "outputs": [],
   "source": [
    "mro = u.get_mro"
   ]
  },
  {
   "cell_type": "code",
   "execution_count": null,
   "metadata": {},
   "outputs": [],
   "source": [
    "# Grab registered bokeh renderer\n",
    "print(\"Currently available renderers: \", *hv.Store.renderers.keys())\n",
    "renderer = hv.renderer('bokeh')"
   ]
  },
  {
   "cell_type": "markdown",
   "metadata": {},
   "source": [
    "## Set default holoviews style options"
   ]
  },
  {
   "cell_type": "code",
   "execution_count": null,
   "metadata": {},
   "outputs": [],
   "source": [
    "%opts Image [colorbar=True, tools=['hover'], active_tools=['wheel_zoom']] Curve [tools=['hover']]"
   ]
  },
  {
   "cell_type": "code",
   "execution_count": null,
   "metadata": {},
   "outputs": [],
   "source": [
    "opts.defaults(\n",
    "    opts.WMTS(active_tools=['wheel_zoom']),\n",
    "    opts.Image(active_tools=['wheel_zoom'], tools=['hover'], colorbar=True),\n",
    "    opts.Curve(active_tools=['wheel_zoom'], tools=['hover']),\n",
    "    opts.Scatter(active_tools=['wheel_zoom'], tools=['hover']),\n",
    "    opts.HLine(active_tools=['wheel_zoom'], tools=['hover']),\n",
    "\n",
    "    opts.RGB(active_tools=['wheel_zoom']),\n",
    "    opts.Overlay(active_tools=['wheel_zoom']),\n",
    ")\n"
   ]
  },
  {
   "cell_type": "code",
   "execution_count": null,
   "metadata": {},
   "outputs": [],
   "source": [
    "H,W = 500,500"
   ]
  },
  {
   "cell_type": "markdown",
   "metadata": {},
   "source": [
    "---\n",
    "## Load Datasets"
   ]
  },
  {
   "cell_type": "code",
   "execution_count": null,
   "metadata": {},
   "outputs": [],
   "source": [
    "# Southern Africa Dataset\n",
    "data_dir = Path.home()/'data'\n",
    "fpath_sa = str(\n",
    "    data_dir/'mint/FLDAS/FLDAS_NOAH01_A_SA_D.001/2019/04/FLDAS_NOAH01_A_SA_D.A201904*.001.nc'\n",
    ")\n",
    "fpath_ea = str(\n",
    "    data_dir/'mint/FLDAS/FLDAS_NOAH01_A_EA_D.001/2019/04/FLDAS_NOAH01_A_EA_D.A201904*.001.nc'\n",
    ")\n",
    "ds_sa = xr.open_mfdataset(fpath_sa)\n",
    "ds_sa = ds_sa.drop_dims('bnds')\n",
    "\n",
    "ds_ea = xr.open_mfdataset(fpath_ea)\n",
    "ds_ea = ds_ea.drop_dims('bnds')\n",
    "\n",
    "         \n",
    "# print(ds_ea)\n",
    "# print(ds_sa)"
   ]
  },
  {
   "cell_type": "code",
   "execution_count": null,
   "metadata": {},
   "outputs": [],
   "source": [
    "xrd_ea = ds_ea.persist()\n",
    "xrd_sa = ds_sa.persist()"
   ]
  },
  {
   "cell_type": "code",
   "execution_count": null,
   "metadata": {},
   "outputs": [],
   "source": [
    "# data variable list\n",
    "varnames_ea = list(ds_ea.data_vars.keys())\n",
    "varnames_sa = list(ds_sa.data_vars.keys())\n",
    "varnames = varnames_ea\n",
    "varname = varnames[3]\n",
    "print(varname)\n",
    "\n",
    "# create holoviews dataset containers \n",
    "kdims = ['X','Y','time']\n",
    "hvd_ea = hv.Dataset(xrd_ea, kdims)\n",
    "hvd_sa = hv.Dataset(xrd_sa, kdims)\n"
   ]
  },
  {
   "cell_type": "code",
   "execution_count": null,
   "metadata": {},
   "outputs": [],
   "source": [
    "# colormaps\n",
    "## discretize it conveniently using holoview's \"color_level\" option\n",
    "t_fixed = '2019-04-05'\n",
    "varname = varnames[5] \n",
    "print(\"Selecting a datavariable at a fixed time point: \", t_fixed, varname)\n",
    "\n",
    "# timg_ea = hvd_ea.select(time=t_fixed).to(gv.Image, kdims=['X', 'Y'], vdims=varname) #this returns a holomap, not a hv.Image object\n",
    "# To construct an hv.Image object, we need to pass in the xr.DataArray (ie. one value variable)\n",
    "print(xrd_ea[varname].isel(time=3) )\n",
    "timg_ea = gv.Image(xrd_ea[varname].isel(time=3) , ['X','Y'], crs=ccrs.PlateCarree()) #Opt: vdims=varname\n",
    "timg_sa = gv.Image(xrd_sa[varname].isel(time=3) , ['X','Y'], crs=ccrs.PlateCarree()) #Opt: vdims=varname\n",
    "# print(timg_sa)\n",
    "# gv.tile_sources.Wikipedia * timg_ea.opts(alpha=0.5,width=W_IMG, height=H_IMG) #+ timg_sa.opts(width=W_IMG, height=H_IMG)"
   ]
  },
  {
   "cell_type": "markdown",
   "metadata": {},
   "source": [
    "## Basemap tile\n",
    "\n",
    "We need to handle the projection from latlon to web mercator (which is what the hv.tiles expect).\n"
   ]
  },
  {
   "cell_type": "code",
   "execution_count": null,
   "metadata": {},
   "outputs": [],
   "source": [
    "wmts_url = 'https://maps.wikimedia.org/osm-intl/{Z}/{X}/{Y}@2x.png'\n",
    "basemap = gv.tile_sources.EsriImagery"
   ]
  },
  {
   "cell_type": "markdown",
   "metadata": {},
   "source": [
    "---\n",
    "## Back to FLDAS\n",
    "Modified: Jun 25, 2019\n",
    "\n",
    "Combining holoviews objects with Bokeh models for custome interactive visualization\n"
   ]
  },
  {
   "cell_type": "code",
   "execution_count": null,
   "metadata": {},
   "outputs": [],
   "source": [
    "# Set extra style opts (in addition to default from above)\n",
    "W_IMG = 500; H_IMG = 500\n",
    "W_PLOT = 300; H_PLOT = 300"
   ]
  },
  {
   "cell_type": "code",
   "execution_count": null,
   "metadata": {},
   "outputs": [],
   "source": [
    "scatter_opts = dict(width=W_PLOT, height=H_PLOT,\n",
    "                    tools=['hover', 'tap'], \n",
    "                    framewise = True)\n",
    "curve_opts = dict(width=W_PLOT, height=H_PLOT,\n",
    "                  framewise=True)\n",
    "img_opts = dict(width=W_IMG, height=H_IMG,\n",
    "                axiswise=True, \n",
    "                framewise=False,\n",
    "                tools=['hover', 'tap'],\n",
    "                colorbar=True\n",
    "               )\n",
    "wmts_opts = dict(width=W_IMG, height=H_IMG)\n",
    "\n",
    "tbl_opts = dict(width = W_PLOT)\n",
    "\n",
    "# datashader opts\n",
    "ds_opts = dict(width=W_IMG, height=H_IMG,\n",
    "#             x_sampling=0.5, \n",
    "#             y_sampling=0.5,\n",
    "            )"
   ]
  },
  {
   "cell_type": "markdown",
   "metadata": {},
   "source": [
    "## Put the holoviews objects together \n",
    "- to form a parameterized class object\n",
    "\n",
    "Modified: Jun 27, 2019\n"
   ]
  },
  {
   "cell_type": "code",
   "execution_count": null,
   "metadata": {},
   "outputs": [],
   "source": []
  },
  {
   "cell_type": "code",
   "execution_count": null,
   "metadata": {},
   "outputs": [],
   "source": [
    "trange = list(map(pd.Timestamp, hvd_ea.range('time')))\n",
    "\n",
    "class ZonalExplorer(param.Parameterized):\n",
    "    \n",
    "    ################################################################################\n",
    "    ## Parameters\n",
    "    ################################################################################\n",
    "    region = param.ObjectSelector(default='EA', objects=['EA', 'SA'])\n",
    "    varname = param.ObjectSelector(default=varnames[10], objects=varnames)\n",
    "    \n",
    "    \n",
    "    ################################################################################\n",
    "    ## Initialize instance\n",
    "    ################################################################################\n",
    "    def __init__(self, **params):\n",
    "        super().__init__(**params)\n",
    "        self._update()\n",
    "        \n",
    "#         self._init_streams()\n",
    "#         self._set_dyn_main()\n",
    "#         self._set_dyn_funcs()\n",
    "        \n",
    "    @param.depends('region', 'varname', watch=True)\n",
    "    def _update(self):\n",
    "        \"\"\"\n",
    "        (Re)Set main attributes: region data, time_values, empty_tplot\n",
    "        in reaction to region and variable name parameter change from the user\n",
    "        \"\"\"\n",
    "        print(\"Update is called\")\n",
    "        self.xrd = xrd_ea if self.region == 'EA' else xrd_sa\n",
    "        self.time_values = u.to_datetime(self.xrd.get_index('time'))\n",
    "        self.empty_tplot = self.get_empty_tplot()\n",
    "        self.vlines = self.get_dmap_vlines()\n",
    "        self.dmap_timg = self.get_dmap_timg()\n",
    "        self.realize_dmaps()\n",
    "        \n",
    "        # add polygons and reset boxedit stream\n",
    "        self.polys = gv.Polygons([], crs=ccrs.PlateCarree())\n",
    "        self.box_stream = BoxEdit(source=self.polys)\n",
    "        self.dmap_timg = basemap * self.dmap_timg * self.polys\n",
    "        self.dmap_roi_curves = hv.DynamicMap(self.roi_curves, streams=[self.box_stream])\n",
    "        print(\"Finished updating xrd, time_values, empty_tplot, dmap_vlines)\")\n",
    "        \n",
    "    def _set_streams(self):\n",
    "        # Set BoxEdit stream\n",
    "        self.polys = gv.Polygons([], crs=ccrs.PlateCarree())\n",
    "        self.box_stream = BoxEdit(source=self.polys)\n",
    "\n",
    "    ################################################################################\n",
    "    ## Basic Building Blocks -- generic functions\n",
    "    ################################################################################  \n",
    "    def get_empty_tplot(self):\n",
    "        \"\"\"\n",
    "        Get an 'empty' time curve (hv.Curve) with the xaxis set as dt.datetime values\n",
    "        correpsonding to self.time_values. This can serve as the background plot for \n",
    "        hv.VLine and roi_curves for boxedit selection functionality\n",
    "        \n",
    "        Returns:\n",
    "        - hv.Curve\n",
    "        \"\"\"\n",
    "        print(\"get_empty_tplot is called\")\n",
    "        dummy_df = pd.DataFrame({'time': self.time_values, \n",
    "                                 self.varname: np.zeros(len(self.time_values))})\n",
    "        empty_tplot= hv.Curve(dummy_df, 'time', self.varname).opts(line_alpha=0., \n",
    "                                                                  bgcolor=(0,0,0,0))\n",
    "        return empty_tplot\n",
    "    \n",
    "    def get_dmap_vlines(self, **vline_opts):\n",
    "        \"\"\"\n",
    "        Construct a hv.Holomap of VLines at each time point in self.time_values\n",
    "        \n",
    "        Returns:\n",
    "        hv.Holomap of hv.VLines with kdims of time\n",
    "        \"\"\"\n",
    "        vlines = hv.DynamicMap(lambda time: self.empty_tplot * hv.VLine(time), kdims='time') \n",
    "        return vlines#.opts(**vline_opts)\n",
    "        \n",
    "    def get_dmap_timg(self):\n",
    "        dmap_timg = datashade(hv.DynamicMap(self.get_timg, kdims='time'),\n",
    "                      **ds_opts)\n",
    "        return dmap_timg\n",
    "\n",
    "    def get_timg(self, time):\n",
    "        print(\"Getting a new timg...\")\n",
    "        print(f'-- Time: {time}, Region: {self.region}, Variable: {self.varname}')\n",
    "        \n",
    "        data = self.xrd[self.varname].sel(time=time)\n",
    "        return gv.Image(data, ['X','Y'], self.varname, crs=ccrs.PlateCarree())\n",
    "    \n",
    "    def realize_dmaps(self):\n",
    "        \"\"\"\n",
    "        Set the values for dimensions of dynamic maps\n",
    "        Inplace operation on any dynamic map type attributes\n",
    "        \"\"\"\n",
    "        self.vlines = self.vlines.redim.values(time=self.time_values)\n",
    "        self.dmap_timg = self.dmap_timg.redim.values(time=self.time_values)\n",
    "\n",
    "        \n",
    "    ################################################################################\n",
    "    ## Link streams Callbacks\n",
    "    ################################################################################\n",
    "    def roi_curves(self, data):\n",
    "        if not data or not any(len(d) for d in data.values()):\n",
    "            return hv.NdOverlay({0: self.empty_tplot})\n",
    "        curves = {}\n",
    "        data = zip(data['x0'], data['x1'], data['y0'], data['y1'])\n",
    "        for i, (x0,x1,y0,y1) in enumerate(data):\n",
    "            selection = hv.Dataset( self.xrd[self.varname].sel(X=slice(x0,x1), Y=slice(y0,y1)), \n",
    "                                   kdims=['X','Y','time'])\n",
    "            curves[i] = hv.Curve(selection.aggregate('time', np.nanmean), 'time', self.varname)\n",
    "        return hv.NdOverlay(curves, label='roi_curves').opts(\n",
    "            opts.Curve(framewise=True))\n",
    "    \n",
    "    \n",
    "    ################################################################################\n",
    "    ## Print states\n",
    "    ################################################################################ \n",
    "    def pp(self):\n",
    "        self.print_param_values()\n",
    "        \n",
    "    ################################################################################\n",
    "    ## Layouts and Views\n",
    "    ################################################################################\n",
    "    @param.depends('region', 'varname', watch=True)\n",
    "    def panel_roi(self):\n",
    "        layout = (self.dmap_timg + self.dmap_roi_curves*self.vlines).opts(\n",
    "                opts.Curve(width=400,framewise=True),\n",
    "                opts.VLine(color='black'),\n",
    "                opts.Polygons(fill_alpha=0.2, line_color='white', fill_color='orange'), \n",
    "                )\n",
    "        p = pn.panel(layout)\n",
    "        roi_twidget =  p[1][0]\n",
    "        roi_main = p[0]\n",
    "        \n",
    "        # Customize the components and final arrangement\n",
    "        \n",
    "        return pn.Column(roi_main, roi_twidget)"
   ]
  },
  {
   "cell_type": "code",
   "execution_count": null,
   "metadata": {},
   "outputs": [],
   "source": [
    "ze = ZonalExplorer()"
   ]
  },
  {
   "cell_type": "code",
   "execution_count": null,
   "metadata": {},
   "outputs": [],
   "source": [
    "## initialization test\n",
    "# ex.pp()"
   ]
  },
  {
   "cell_type": "code",
   "execution_count": null,
   "metadata": {},
   "outputs": [],
   "source": [
    "# ex.vlines\n",
    "# ex.empty_tplot\n",
    "# ex.dmap_timg + ex.vlines"
   ]
  },
  {
   "cell_type": "code",
   "execution_count": null,
   "metadata": {},
   "outputs": [],
   "source": [
    "pn.Column(\n",
    "    pn.panel(ze.param),\n",
    "    pn.panel(ze.panel_roi)\n",
    ").servable()"
   ]
  },
  {
   "cell_type": "code",
   "execution_count": null,
   "metadata": {},
   "outputs": [],
   "source": []
  }
 ],
 "metadata": {
  "kernelspec": {
   "display_name": "Python [conda env:earthml]",
   "language": "python",
   "name": "conda-env-earthml-py"
  },
  "language_info": {
   "codemirror_mode": {
    "name": "ipython",
    "version": 3
   },
   "file_extension": ".py",
   "mimetype": "text/x-python",
   "name": "python",
   "nbconvert_exporter": "python",
   "pygments_lexer": "ipython3",
   "version": "3.7.3"
  }
 },
 "nbformat": 4,
 "nbformat_minor": 2
}
