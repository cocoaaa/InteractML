{
 "cells": [
  {
   "cell_type": "code",
   "execution_count": null,
   "metadata": {},
   "outputs": [],
   "source": []
  },
  {
   "cell_type": "code",
   "execution_count": null,
   "metadata": {},
   "outputs": [],
   "source": [
    "%load_ext autoreload\n",
    "%autoreload 2\n",
    "\n",
    "import os, sys, time\n",
    "import numpy as np\n",
    "import scipy as sp\n",
    "import pandas as pd\n",
    "import intake\n",
    "    \n",
    "from pathlib import Path\n",
    "from pprint import pprint as pp\n",
    "p = print \n",
    "\n",
    "from sklearn.externals import joblib\n",
    "import pdb\n",
    "\n",
    "import matplotlib.pyplot as plt\n",
    "%matplotlib inline\n",
    "\n",
    "# ignore warnings\n",
    "import warnings\n",
    "if not sys.warnoptions:\n",
    "    warnings.simplefilter('ignore')\n",
    "    \n",
    "# Don't generate bytecode\n",
    "sys.dont_write_bytecode = True"
   ]
  },
  {
   "cell_type": "code",
   "execution_count": null,
   "metadata": {},
   "outputs": [],
   "source": [
    "import holoviews as hv\n",
    "import xarray as xr\n",
    "\n",
    "from holoviews import opts\n",
    "from holoviews.operation.datashader import datashade, shade, dynspread, rasterize\n",
    "from holoviews.streams import *\n",
    "from holoviews import streams\n",
    "import geoviews as gv\n",
    "import geoviews.feature as gf\n",
    "from geoviews import tile_sources as gvts\n",
    "\n",
    "\n",
    "import geopandas as gpd\n",
    "import cartopy.crs as ccrs\n",
    "import cartopy.feature as cf\n",
    "\n",
    "import panel as pn\n",
    "hv.notebook_extension('bokeh')\n",
    "hv.Dimension.type_formatters[np.datetime64] = '%Y-%m-%d'\n",
    "pn.extension()"
   ]
  },
  {
   "cell_type": "code",
   "execution_count": null,
   "metadata": {},
   "outputs": [],
   "source": [
    "# Add the utils directory to the search path\n",
    "UTILS_DIR = Path('../utils').absolute()\n",
    "assert UTILS_DIR.exists()\n",
    "if str(UTILS_DIR) not in sys.path:\n",
    "    sys.path.insert(0, str(UTILS_DIR))\n",
    "    print(f\"Added {str(UTILS_DIR)} to sys.path\")\n",
    "\n",
    "pp(sys.path)\n",
    "    "
   ]
  },
  {
   "cell_type": "code",
   "execution_count": null,
   "metadata": {},
   "outputs": [],
   "source": [
    "from utils import get_mro as mro, nprint\n",
    "import utils as u"
   ]
  },
  {
   "cell_type": "code",
   "execution_count": null,
   "metadata": {},
   "outputs": [],
   "source": [
    "# Grab registered bokeh renderer\n",
    "print(\"Currently available renderers: \", *hv.Store.renderers.keys())\n",
    "renderer = hv.renderer('bokeh')"
   ]
  },
  {
   "cell_type": "markdown",
   "metadata": {},
   "source": [
    "To deinf a curve on a plane (ie. planary curve) we need\n",
    "- parameter, eg. p $\\in [0,1]$\n",
    "- two functions $x(p)$ and $y(p)$, which define the coordinate of the point $C(p)$ in x and y axis, respectively"
   ]
  },
  {
   "cell_type": "code",
   "execution_count": null,
   "metadata": {},
   "outputs": [],
   "source": [
    "class Curve(param.Parameterized):\n",
    "    p = param.Number(default=0.0, bounds=(0,1))\n",
    "    \n",
    "    def __init__(self, xfunc=None, yfunc=None):\n",
    "        self.xfunc= xfunc or (lambda p: np.sin(2*np.pi*p))\n",
    "        self.yfunc = yfunc or (lambda p: np.cos(2*np.pi*p))\n",
    "\n",
    "        self.overview = self.get_overview()\n",
    "        self.x = self.xfunc(self.p)\n",
    "        self.y = self.yfunc(self.p)\n",
    "        self.dmap_point = hv.Dynamic(hv.Points( [(self.x, self.y)], kdims=['x','y']))\n",
    "\n",
    "        \n",
    "    @param.depends('p')\n",
    "    def update_xy(self):\n",
    "        print('p changed and get_xy is called')\n",
    "        self.x = self.xfunc(self.p)\n",
    "        self.y = self.yfunc(self.p)\n",
    "        self.hv_point = hv\n",
    "        \n",
    "    def get_overview(self):\n",
    "        xs = [self.xfunc(p) for p in np.linspace(0,1,100)]\n",
    "        ys = [self.yfunc(p) for p in np.linspace(0,1,100)]\n",
    "        overview = hv.Points( (xs,ys), ['x','y'] ).opts(padding=0.1)\n",
    "#         display(points)\n",
    "        return overview\n",
    "    \n",
    "    def view(self):\n",
    "        display(self.overview * hv."
   ]
  },
  {
   "cell_type": "code",
   "execution_count": null,
   "metadata": {},
   "outputs": [],
   "source": [
    "curve = Curve()"
   ]
  },
  {
   "cell_type": "code",
   "execution_count": null,
   "metadata": {},
   "outputs": [],
   "source": [
    "curve.show()"
   ]
  },
  {
   "cell_type": "code",
   "execution_count": null,
   "metadata": {},
   "outputs": [],
   "source": [
    "PStream = Stream.define('pstream', p=0.0, bounds=(0,1))"
   ]
  },
  {
   "cell_type": "code",
   "execution_count": null,
   "metadata": {},
   "outputs": [],
   "source": [
    "pstream = PStream()"
   ]
  },
  {
   "cell_type": "code",
   "execution_count": null,
   "metadata": {},
   "outputs": [],
   "source": [
    "pstream.print_param_values()"
   ]
  },
  {
   "cell_type": "code",
   "execution_count": null,
   "metadata": {},
   "outputs": [],
   "source": [
    "pstream.event(p=2.)"
   ]
  },
  {
   "cell_type": "code",
   "execution_count": null,
   "metadata": {},
   "outputs": [],
   "source": []
  },
  {
   "cell_type": "code",
   "execution_count": null,
   "metadata": {},
   "outputs": [],
   "source": [
    "#using `pipe` to push data to the visualization\n",
    "## 1. setup a dynamicmap with empty element \n",
    "pipe = Pipe(data=[])\n",
    "dmap_points = hv.DynamicMap(hv.Points,streams=[pipe])\n",
    "dmap_points.opts(\n",
    "    opts.Points(color='green', \n",
    "                size=5,\n",
    "                xlim=(-1,1), ylim=(-1,1),width=500, height=500)\n",
    ").opts(padding=0.1);\n"
   ]
  },
  {
   "cell_type": "markdown",
   "metadata": {},
   "source": [
    "## Curve Generator"
   ]
  },
  {
   "cell_type": "code",
   "execution_count": null,
   "metadata": {},
   "outputs": [],
   "source": [
    "def gen_curve(cfunc, n_steps=100):\n",
    "    p = 0\n",
    "    dp = 1./n_steps\n",
    "    count = 0\n",
    "    while p<=1:\n",
    "        x,y = cfunc(p)\n",
    "        p, curr_p = p+dp, p\n",
    "        count, curr_count = count+1, count\n",
    "        yield pd.DataFrame([(curr_count, curr_p, x, y)], columns=['count', 'p', 'x','y'])\n",
    "        "
   ]
  },
  {
   "cell_type": "code",
   "execution_count": null,
   "metadata": {},
   "outputs": [],
   "source": [
    "n = 100\n",
    "ps = np.linspace(0,1,num=n)\n",
    "\n",
    "# define curve function\n",
    "xfunc = lambda p: np.sin(2*np.pi*p)\n",
    "yfunc = lambda p: np.cos(2*np.pi*p)\n",
    "cfunc = lambda p: (xfunc(p), yfunc(p))"
   ]
  },
  {
   "cell_type": "code",
   "execution_count": null,
   "metadata": {},
   "outputs": [],
   "source": [
    "# another function\n",
    "xfunc = lambda p: np.sin(2*np.pi*p)\n",
    "yfunc = lambda p: np.sin(2*np.pi*p)\n",
    "cfunc = lambda p: (xfunc(p), yfunc(p))"
   ]
  },
  {
   "cell_type": "code",
   "execution_count": null,
   "metadata": {},
   "outputs": [],
   "source": [
    "# another function\n",
    "xfunc = lambda p: np.sin(4*np.pi*p)\n",
    "yfunc = lambda p: np.cos(2*np.pi*p)\n",
    "cfunc = lambda p: (xfunc(p), yfunc(p))"
   ]
  },
  {
   "cell_type": "code",
   "execution_count": null,
   "metadata": {},
   "outputs": [],
   "source": [
    "cfunc(0), cfunc(1)"
   ]
  },
  {
   "cell_type": "code",
   "execution_count": null,
   "metadata": {},
   "outputs": [],
   "source": [
    "g_curve = gen_curve(cfunc, n)\n",
    "next(g_curve)\n",
    "# "
   ]
  },
  {
   "cell_type": "code",
   "execution_count": null,
   "metadata": {},
   "outputs": [],
   "source": []
  },
  {
   "cell_type": "markdown",
   "metadata": {},
   "source": [
    "---\n",
    "## Method1: Buffer to push data\n",
    "Push data  using pipe or buffer"
   ]
  },
  {
   "cell_type": "code",
   "execution_count": null,
   "metadata": {},
   "outputs": [],
   "source": [
    "# Define buffer \n",
    "example = pd.DataFrame({'count': [], 'p': [], 'x':[], 'y':[]})\n",
    "dfstream = Buffer(example, length=100, index=False)"
   ]
  },
  {
   "cell_type": "code",
   "execution_count": null,
   "metadata": {},
   "outputs": [],
   "source": [
    "## visualization components\n",
    "H,W = 500,500\n",
    "dmap_points = hv.DynamicMap(\n",
    "    lambda data: hv.Points(data, kdims=['x','y'], group='Curve'),\n",
    "    streams=[dfstream]).opts(color='p')\n",
    "curve_opts = opts.Points(size=5,xlim=(-1,1), ylim=(-1,1),width=W, height=H)\n",
    "dmap_points.opts(curve_opts);\n",
    "# dmap_points"
   ]
  },
  {
   "cell_type": "code",
   "execution_count": null,
   "metadata": {},
   "outputs": [],
   "source": [
    "dmap_x = hv.DynamicMap(\n",
    "    lambda data: hv.Points( data, kdims=['p','x'], group='XCoord'),\n",
    "    streams=[dfstream]).opts(color='p')\n",
    "xopts = opts.Points('XCoord', width=W, height=H, size=5, xlim=(0,1), \n",
    "                    padding=0.1, invert_axes=True, invert_yaxis=True)\n",
    "\n",
    "dmap_x.opts(xopts);\n",
    "# dmap_x"
   ]
  },
  {
   "cell_type": "code",
   "execution_count": null,
   "metadata": {},
   "outputs": [],
   "source": [
    "dmap_y = hv.DynamicMap(\n",
    "    lambda data: hv.Points( data, kdims=['p','y'], group='YCoord'),\n",
    "    streams=[dfstream]).opts(color='p')\n",
    "yopts = opts.Points('YCoord', width=W, height=H, size=5, xlim=(0,1), padding=0.1, invert_xaxis=True)\n",
    "dmap_y.opts(yopts);\n",
    "# dmap_y\n"
   ]
  },
  {
   "cell_type": "code",
   "execution_count": null,
   "metadata": {},
   "outputs": [],
   "source": [
    "(\n",
    "    dmap_points + dmap_y\n",
    "    + dmap_x\n",
    ").cols(2)"
   ]
  },
  {
   "cell_type": "code",
   "execution_count": null,
   "metadata": {},
   "outputs": [],
   "source": [
    "# send data through the buffer\n",
    "dfstream.clear()\n",
    "n = 100\n",
    "g_curve = gen_curve(cfunc, n)\n",
    "for i in range(n):\n",
    "    dfstream.send(next(g_curve))\n",
    "    time.sleep(0.3)"
   ]
  },
  {
   "cell_type": "markdown",
   "metadata": {},
   "source": [
    "---\n",
    "## Method2: Use `streamz.dataframe` and `hv.streams.Buffer`"
   ]
  },
  {
   "cell_type": "code",
   "execution_count": null,
   "metadata": {},
   "outputs": [],
   "source": [
    "import streamz\n",
    "import streamz.dataframe"
   ]
  },
  {
   "cell_type": "code",
   "execution_count": null,
   "metadata": {},
   "outputs": [],
   "source": [
    "sdf = streamz.dataframe.DataFrame(example=example)"
   ]
  },
  {
   "cell_type": "code",
   "execution_count": null,
   "metadata": {},
   "outputs": [],
   "source": [
    "sdf.example\n"
   ]
  },
  {
   "cell_type": "code",
   "execution_count": null,
   "metadata": {},
   "outputs": [],
   "source": [
    "next(gen_curve())\n"
   ]
  },
  {
   "cell_type": "code",
   "execution_count": null,
   "metadata": {},
   "outputs": [],
   "source": [
    "dmap2 = hv.DynamicMap(\n",
    "    lambda data: hv.Points(data, kdims=['x','y'], group='Curve'),\n",
    "    streams=[Buffer(sdf)]).opts(color='p')\n",
    "# dmap2"
   ]
  },
  {
   "cell_type": "code",
   "execution_count": null,
   "metadata": {},
   "outputs": [],
   "source": [
    "dmap2_x = hv.DynamicMap(\n",
    "    lambda data: hv.Points( data, kdims=['p','x'], group='XCoord'),\n",
    "    streams=[Buffer(sdf)]).opts(color='p')\n",
    "\n",
    "xopts = opts.Points('XCoord', width=W, height=H, size=5, xlim=(0,1), \n",
    "                    padding=0.1, invert_axes=True, invert_yaxis=True)\n",
    "\n",
    "dmap2_x.opts(xopts);\n",
    "# dmap_x"
   ]
  },
  {
   "cell_type": "code",
   "execution_count": null,
   "metadata": {},
   "outputs": [],
   "source": [
    "dmap2_y = hv.DynamicMap(\n",
    "    lambda data: hv.Points( data, kdims=['p','y'], group='YCoord'),\n",
    "    streams=[Buffer(sdf)]).opts(color='p')\n",
    "yopts = opts.Points('YCoord', width=W, height=H, size=5, xlim=(0,1), padding=0.1)\n",
    "dmap_y.opts(yopts);"
   ]
  },
  {
   "cell_type": "code",
   "execution_count": null,
   "metadata": {},
   "outputs": [],
   "source": [
    "g_curve = gen_curve()\n",
    "for i in range(100):\n",
    "    sdf.emit(next(g_curve))"
   ]
  },
  {
   "cell_type": "code",
   "execution_count": null,
   "metadata": {},
   "outputs": [],
   "source": [
    "(dmap2 + dmap2_y +dmap2_x).cols(2)"
   ]
  },
  {
   "cell_type": "markdown",
   "metadata": {},
   "source": [
    "## Let's encaptulate the simulation process, given a curve generator \n"
   ]
  },
  {
   "cell_type": "code",
   "execution_count": null,
   "metadata": {},
   "outputs": [],
   "source": [
    "def get_new_plots(dfstream):\n",
    "    \n",
    "    ## visualization components\n",
    "    H,W = 500,500\n",
    "    dmap_points = hv.DynamicMap(\n",
    "        lambda data: hv.Points(data, kdims=['x','y'], group='Curve'),\n",
    "        streams=[dfstream]).opts(color='p')\n",
    "    \n",
    "    curve_opts = opts.Points(size=5,xlim=(-1,1), ylim=(-1,1),width=W, height=H)\n",
    "    dmap_points.opts(curve_opts);\n",
    "    # dmap_points\n",
    "    \n",
    "    \n",
    "    dmap_x = hv.DynamicMap(\n",
    "    lambda data: hv.Points( data, kdims=['p','x'], group='XCoord'),\n",
    "    streams=[dfstream]).opts(color='p')\n",
    "    xopts = opts.Points('XCoord', width=W, height=H, size=5, xlim=(0,1), \n",
    "                        padding=0.1, invert_axes=True, invert_yaxis=True)\n",
    "\n",
    "    dmap_x.opts(xopts);\n",
    "    \n",
    "    dmap_y = hv.DynamicMap(\n",
    "    lambda data: hv.Points( data, kdims=['p','y'], group='YCoord'),\n",
    "    streams=[dfstream]).opts(color='p')\n",
    "    yopts = opts.Points('YCoord', width=W, height=H, size=5, xlim=(0,1), padding=0.1, invert_xaxis=True)\n",
    "    dmap_y.opts(yopts);\n",
    "\n",
    "    overlay = (dmap_points + dmap_y + dmap_x).cols(2)\n",
    "    return overlay"
   ]
  },
  {
   "cell_type": "markdown",
   "metadata": {},
   "source": [
    "### Setup for the simulation"
   ]
  },
  {
   "cell_type": "code",
   "execution_count": null,
   "metadata": {},
   "outputs": [],
   "source": [
    "# Define buffer \n",
    "example = pd.DataFrame({'count': [], 'p': [], 'x':[], 'y':[]})\n",
    "dfstream = Buffer(example, length=100, index=False)\n",
    "\n",
    "# Define curve function\n",
    "n_steps = 100\n",
    "a,b = 1,0.5\n",
    "xfunc = lambda p: (a-b)*np.cos(p) + b*np.cos((a/b-1)*p)\n",
    "yfunc = lambda p: (a-b)*np.sin(p) - b*np.sin((a/b-1)*p)\n",
    "cfunc = lambda p: (xfunc(p), yfunc(p))\n",
    "g_curve = gen_curve(cfunc, n_steps)\n",
    "\n",
    "\n",
    "# run\n",
    "# get a new overlay\n",
    "display(get_new_plots(dfstream))\n",
    "\n",
    "\n",
    "# send data through the buffer\n",
    "dfstream.clear()\n",
    "for i in range(n_steps):\n",
    "    dfstream.send(next(g_curve))\n",
    "    time.sleep(0.3)\n"
   ]
  },
  {
   "cell_type": "markdown",
   "metadata": {},
   "source": [
    "Try the simulation with various curve equations\n",
    "- [fifty famous curves](https://elepa.files.wordpress.com/2013/11/fifty-famous-curves.pdf)"
   ]
  },
  {
   "cell_type": "markdown",
   "metadata": {},
   "source": [
    "## Let's make a simulator class\n",
    "- [important reference](http://holoviews.org/user_guide/Dashboards.html)\n",
    "- [Linking pn.widgets and holoviews plots](https://panel.pyviz.org/user_guide/Links.html)"
   ]
  },
  {
   "cell_type": "code",
   "execution_count": null,
   "metadata": {},
   "outputs": [],
   "source": [
    "import streamz\n",
    "import streamz.dataframe"
   ]
  },
  {
   "cell_type": "code",
   "execution_count": null,
   "metadata": {},
   "outputs": [],
   "source": [
    "class Simulator(param.Parameterized):\n",
    "    \n",
    "    ################################################################################\n",
    "    # Instance Parameters\n",
    "    ################################################################################\n",
    "    a = param.Number(default=1.0)\n",
    "    b = param.Number(default=0.25)\n",
    "    to_run_clean = param.Boolean(False, doc='Simulation run boolean parameter')\n",
    "    \n",
    "    \n",
    "    ################################################################################\n",
    "    # Constant class properties\n",
    "    ################################################################################\n",
    "    H,W = 500,500\n",
    "    curve_opts = opts.Points(size=5,xlim=(-1,1), ylim=(-1,1),width=W, height=H)\n",
    "    xopts = opts.Points('XCoord', width=W, height=H, size=5, xlim=(0,1), \n",
    "                        padding=0.1, invert_axes=True, invert_yaxis=True)\n",
    "    yopts = opts.Points('YCoord', width=W, height=H, size=5, xlim=(0,1), padding=0.1, invert_xaxis=True)\n",
    "\n",
    "    \n",
    "    ################################################################################\n",
    "    # Initialization\n",
    "    ################################################################################\n",
    "    def __init__(self, n_steps=100, **kwargs):\n",
    "        super().__init__(**kwargs)\n",
    "\n",
    "        self.count = defaultdict(int)\n",
    "        self.n_steps = n_steps\n",
    "        self.example = pd.DataFrame({'count': [], 'p': [], 'x':[], 'y':[]})\n",
    "        self.data_src = streamz.dataframe.DataFrame(example=self.example)\n",
    "        self.dfstream = Buffer(self.data_src, length=100, index=False)\n",
    "        self.set_dmap_curve()\n",
    "        self.set_dmap_x()\n",
    "        self.set_dmap_y()\n",
    "        self.overlay = (self.dmap_curve + self.dmap_y + self.dmap_x).cols(2)\n",
    "        \n",
    "        self.set_funcs()\n",
    "\n",
    "    def set_dmap_curve(self):\n",
    "        self.count['set_curve'] += 1\n",
    "\n",
    "        dmap_curve = hv.DynamicMap(\n",
    "            lambda data: hv.Points(data, kdims=['x','y'], group='Curve'),\n",
    "            streams=[self.dfstream]).opts(color='p')\n",
    "        self.dmap_curve = dmap_curve.opts(self.curve_opts);\n",
    "\n",
    "    def set_dmap_x(self):\n",
    "        self.count['set_x'] += 1\n",
    "        dmap_x = hv.DynamicMap(\n",
    "            lambda data: hv.Points( data, kdims=['p','x'], group='XCoord'),\n",
    "            streams=[self.dfstream]).opts(color='p')\n",
    "        self.dmap_x = dmap_x.opts(self.xopts)\n",
    "        \n",
    "    def set_dmap_y(self):\n",
    "        self.count['set_y'] += 1\n",
    "        dmap_y = hv.DynamicMap(\n",
    "            lambda data: hv.Points( data, kdims=['p','y'], group='YCoord'),\n",
    "            streams=[self.dfstream]).opts(color='p')\n",
    "        self.dmap_y = dmap_y.opts(self.yopts)\n",
    "        \n",
    "    @param.depends('a','b',watch=True)\n",
    "    def set_funcs(self):\n",
    "        print('set_funcs called')\n",
    "        self.count['set_funcs'] += 1\n",
    "        self.xfunc = lambda p: (self.a-self.b)*np.cos(p) + self.b*np.cos((self.a/self.b-1)*p)\n",
    "        self.yfunc = lambda p: (self.a-self.b)*np.sin(p) - self.b*np.sin((self.a/self.b-1)*p)\n",
    "        self.cfunc = lambda p: (self.xfunc(p), self.yfunc(p))\n",
    "        \n",
    "    ################################################################################\n",
    "    # Holoviews components\n",
    "    ################################################################################\n",
    "    @param.depends('a','b','to_run_clean', watch=True)\n",
    "    def get_count(self):\n",
    "        df = pd.DataFrame(self.count.items(), columns=['name', 'count'])\n",
    "        return hv.Table(df)\n",
    "    \n",
    "\n",
    "    @param.depends('to_run_clean', watch=True)\n",
    "    def run_clean(self):\n",
    "        # send data through the buffer\n",
    "        self.count['run'] += 1\n",
    "        self.dfstream.clear()\n",
    "\n",
    "        if self.to_run_clean:\n",
    "            curve_generator = gen_curve(self.cfunc, self.n_steps)\n",
    "\n",
    "            for i in range(self.n_steps):\n",
    "                self.data_src.emit(next(curve_generator))\n",
    "                time.sleep(0.1)\n",
    "        \n",
    "        \n",
    "    ################################################################################\n",
    "    # Set DynamicMaps for linking the plots with parameters\n",
    "    ################################################################################\n",
    "    def view(self):\n",
    "        return pn.panel(self.overlay)\n",
    "\n",
    "    def dyn_count(self):\n",
    "        return pn.panel(hv.DynamicMap(self.get_count))\n",
    "\n",
    "    "
   ]
  },
  {
   "cell_type": "code",
   "execution_count": null,
   "metadata": {},
   "outputs": [],
   "source": [
    "sim = Simulator()\n",
    "# pn.panel( sim.view())"
   ]
  },
  {
   "cell_type": "code",
   "execution_count": null,
   "metadata": {},
   "outputs": [],
   "source": [
    "pn.Column(\n",
    "    pn.Row(pn.WidgetBox(sim.param), sim.view()),\n",
    "    pn.panel(sim.dyn_count())\n",
    ")"
   ]
  },
  {
   "cell_type": "markdown",
   "metadata": {},
   "source": [
    "# Continue here!\n",
    "Modified: Jul 13, 2019 (evening)\n"
   ]
  },
  {
   "cell_type": "code",
   "execution_count": null,
   "metadata": {},
   "outputs": [],
   "source": [
    "# todo 1:\n",
    "# Define a button widget (bokeh or panel.widgets object) outside here\n",
    "# then, link this widget's parameter's callable to a parameterized object's method to set the value of p parameter to 0\n",
    "# reset_button = Button(label='Reset')\n",
    "# show(reset_button)\n",
    "\n",
    "## but the widget shown by `show` function doesn't actually change the value. Check reset_button.clicks to confirm this.\n",
    "## this is because we need to add `curdoc().add_root(bt)` and then launch bokeh server: `bokeh serve --show example.py`.\n",
    "## but I dont want to use bokeh server....:( i just want simple interactivity.... what to do then?\n",
    "## Ans: use param.Action with panel.widgets.Button (which is the default choice of widget for param.Action parameters"
   ]
  },
  {
   "cell_type": "code",
   "execution_count": null,
   "metadata": {},
   "outputs": [],
   "source": [
    "class CurveSimulator(param.Parameterized):\n",
    "\n",
    "    n_steps = param.Integer(label='Number of simulation steps', default=100)\n",
    "    p = param.ObjectSelector(label='p', default=0., objects=np.linspace(0,1,num=n_steps.default))\n",
    "    reset = param.Action(lambda x: x.reset_handler(), doc=\"Click to clear the buffer and reset p\")\n",
    "#     t_interval = param.Number(default=0.1)\n",
    "    t_interval = param.Number(label='t_interval', doc='Time interval between plotting two points',\n",
    "                              softbounds=(0., 5.),\n",
    "                              default=0.2)\n",
    "\n",
    "    \n",
    "    ################################################################################\n",
    "    # Constant class properties\n",
    "    ################################################################################\n",
    "    H,W = 500,500\n",
    "    curve_opts = opts.Points(size=5,xlim=(-1,1), ylim=(-1,1),width=W, height=H)\n",
    "    xopts = opts.Points('XCoord', width=W, height=H, size=5, xlim=(0,1), \n",
    "                        padding=0.1, invert_axes=True, invert_yaxis=True)\n",
    "    yopts = opts.Points('YCoord', width=W, height=H, size=5, xlim=(0,1), padding=0.1, invert_xaxis=True)\n",
    "    \n",
    "    \n",
    "    ################################################################################\n",
    "    # Parameter Dependencies\n",
    "    ################################################################################    \n",
    "    @param.depends('n_steps', watch=True)\n",
    "    def _update_p(self):\n",
    "        self.count['p'] += 1\n",
    "        self.param['p'].objects = np.linspace(0,1,num=self.n_steps)\n",
    "        print('updated p with new number of simulation steps: ', self.n_steps)\n",
    "    \n",
    "    @param.depends('p', watch=True)\n",
    "    def send_point(self):\n",
    "        point = pd.DataFrame([(self.p, *self.cfunc(self.p))], columns=['p', 'x','y'])\n",
    "        self.data_src.emit(point)\n",
    "        time.sleep(self.t_interval)\n",
    "        \n",
    "    def reset_handler(self):\n",
    "        self.count['reset'] += 1\n",
    "        self.set_param(p=0.0)\n",
    "        self.dfstream.clear()\n",
    "\n",
    "        \n",
    "    ################################################################################\n",
    "    # Initialization\n",
    "    ################################################################################\n",
    "    def __init__(self, cfunc, n_steps=100, **kwargs):\n",
    "        \"\"\"\n",
    "        Args:\n",
    "        - cfunc (function): given an input of a float p in [0,1], returns (x,y), a \n",
    "        tuple of x and y coords\n",
    "        \n",
    "        - n_steps (int): number of simulation steps along the range of [0,1] for \n",
    "        the parameter, p\n",
    "        \"\"\"\n",
    "        super().__init__(**kwargs) # this is super important\n",
    "        self.count = defaultdict(int)\n",
    "        self.cfunc = cfunc \n",
    "        self.n_steps = n_steps\n",
    "        self.curve_generator = gen_curve(self.cfunc, self.n_steps)\n",
    "        \n",
    "        self.example = pd.DataFrame({'p': [], 'x':[], 'y':[]})\n",
    "        self.data_src = streamz.dataframe.DataFrame(example=self.example)\n",
    "        self.dfstream = Buffer(self.data_src, length=100, index=False)\n",
    "        self.set_dmap_curve()\n",
    "        self.set_dmap_x()\n",
    "        self.set_dmap_y()\n",
    "        self.overlay = (self.dmap_curve + self.dmap_y + self.dmap_x).cols(2)\n",
    "    \n",
    "    def set_curve_generator(self):\n",
    "        self.curve_generator = gen_curve(self.cfunc, self.n_steps)\n",
    "\n",
    "    def set_dmap_curve(self):\n",
    "        self.count['set_curve'] += 1\n",
    "        dmap_curve = hv.DynamicMap(\n",
    "            lambda data: hv.Points(data, kdims=['x','y'], group='Curve'),\n",
    "            streams=[self.dfstream]).opts(color='p')\n",
    "        self.dmap_curve = dmap_curve.opts(self.curve_opts)\n",
    "        \n",
    "    def set_dmap_x(self):\n",
    "        self.count['set_x'] += 1\n",
    "        dmap_x = hv.DynamicMap(\n",
    "            lambda data: hv.Points( data, kdims=['p','x'], group='XCoord'),\n",
    "            streams=[self.dfstream]).opts(color='p')\n",
    "        self.dmap_x = dmap_x.opts(self.xopts)\n",
    "        \n",
    "    def set_dmap_y(self):\n",
    "        self.count['set_y'] += 1\n",
    "        dmap_y = hv.DynamicMap(\n",
    "            lambda data: hv.Points( data, kdims=['p','y'], group='YCoord'),\n",
    "            streams=[self.dfstream]).opts(color='p')\n",
    "        self.dmap_y = dmap_y.opts(self.yopts)\n",
    "    \n",
    "    \n",
    "    ################################################################################\n",
    "    # Display DynammicMaps\n",
    "    ################################################################################ \n",
    "    def viewable(self):\n",
    "        return self.overlay\n",
    "        \n",
    "    ################################################################################\n",
    "    # Print Info\n",
    "    ################################################################################ \n",
    "    def get_info(self):\n",
    "        info = dict()\n",
    "        info['n_steps']= self.n_steps\n",
    "        info['example'] = self.example\n",
    "        info['data_src'] = self.data_src\n",
    "        info['dfstream'] = self.dfstream.data.describe() if len(self.dfstream.data)  else None\n",
    "        info['to_go']= self.to_go\n",
    "        return info \n",
    "\n",
    "    \n",
    "        "
   ]
  },
  {
   "cell_type": "code",
   "execution_count": null,
   "metadata": {},
   "outputs": [],
   "source": [
    "# define curve function\n",
    "xfunc = lambda p: np.sin(2*np.pi*p)\n",
    "yfunc = lambda p: np.cos(2*np.pi*p)\n",
    "cfunc = lambda p: (xfunc(p), yfunc(p))\n",
    "c = CurveSimulator(cfunc)"
   ]
  },
  {
   "cell_type": "code",
   "execution_count": null,
   "metadata": {},
   "outputs": [],
   "source": [
    "# pp(c.get_info())"
   ]
  },
  {
   "cell_type": "code",
   "execution_count": null,
   "metadata": {},
   "outputs": [],
   "source": [
    "\n",
    "pn.Row(\n",
    "    pn.Param(c.param, width=500, widgets={\n",
    "        'p': pn.widgets.DiscretePlayer,\n",
    "        'reset': pn.widgets.Button(name=c.param['reset'].label),\n",
    "        't_interval': pn.widgets.FloatSlider\n",
    "    }),\n",
    "    pn.panel(c.viewable())\n",
    ")\n"
   ]
  },
  {
   "cell_type": "markdown",
   "metadata": {},
   "source": [
    "---\n",
    "Modified: Jul 14, 2019\n",
    "## Try different curve equations\n",
    "- [resource](https://is.gd/3p4jBP)\n"
   ]
  },
  {
   "cell_type": "code",
   "execution_count": null,
   "metadata": {},
   "outputs": [],
   "source": [
    "# Define curve function\n",
    "xfunc = lambda p: np.sin(2*np.pi*p)\n",
    "yfunc = lambda p: np.cos(2*np.pi*p)\n",
    "cfunc = lambda p: (xfunc(p), yfunc(p))\n",
    "c = CurveSimulator(cfunc)"
   ]
  },
  {
   "cell_type": "code",
   "execution_count": null,
   "metadata": {},
   "outputs": [],
   "source": [
    "# Create the widgets\n",
    "pn.Row(\n",
    "    pn.Param(c.param, widgets={'p': pn.widgets.DiscretePlayer,'reset': pn.widgets.Button}, width=500),\n",
    "    pn.panel(c.viewable())\n",
    ")"
   ]
  },
  {
   "cell_type": "code",
   "execution_count": null,
   "metadata": {},
   "outputs": [],
   "source": [
    "def deg2rad(angle):\n",
    "    return angle*np.pi/180.\n",
    "\n",
    "\n",
    "\n",
    "class SpirographSimulator(CurveSimulator):\n",
    "\n",
    "    R = param.Number(label='R', default=1., \n",
    "                     doc=\"\"\"Radius of a circle (Doesn't affect the shape)\"\"\")\n",
    "    k = param.Number(label='k', default=0.5, bounds=(0., 1.), softbounds=(1e-4, 1.0),\n",
    "                     doc=\"\"\"Ratio between the radius of the inner circle to the outer one\"\"\")\n",
    "    l = param.Number(label='l', default=0.5, bounds=(0., 1.),\n",
    "                     doc=\"\"\"Parameter for how far the point A is located from the inner circle\"\"\")\n",
    "    \n",
    "    def __init__(self, **kwargs):\n",
    "        self.temp_count = defaultdict(int)\n",
    "        self._update_cfunc()\n",
    "        super().__init__(self.cfunc, **kwargs)\n",
    "        \n",
    "    @param.depends('k','R','l', watch=True)\n",
    "    def _update_cfunc(self):\n",
    "        self.temp_count['cfunc'] += 1\n",
    "        xfunc = lambda p: self.R*( (1-self.k)*np.cos(2*np.pi*p) + self.l*self.k*np.cos( ((1-self.k)/self.k)*2*np.pi*p))\n",
    "        yfunc = lambda p: self.R*( (1-self.k)*np.sin(2*np.pi*p) + self.l*self.k*np.sin( ((1-self.k)/self.k)*2*np.pi*p))\n",
    "        cfunc = lambda p: (xfunc(p), yfunc(p))\n",
    "        self.cfunc = cfunc\n",
    "        \n",
    "        "
   ]
  },
  {
   "cell_type": "code",
   "execution_count": null,
   "metadata": {},
   "outputs": [],
   "source": [
    "spiro = SpirographSimulator()"
   ]
  },
  {
   "cell_type": "code",
   "execution_count": null,
   "metadata": {},
   "outputs": [],
   "source": [
    "# Create the widgets\n",
    "pn.Row(\n",
    "    pn.Param(spiro.param, width=500, widgets={\n",
    "        'p': pn.widgets.DiscretePlayer,\n",
    "        'reset': pn.widgets.Button,\n",
    "        'k': pn.widgets.FloatSlider(name=spiro.param.k.label,\n",
    "                                    value=spiro.k, \n",
    "                                    #callback_policy=\"mouseup\" \n",
    "                                   ),\n",
    "        'l': pn.widgets.FloatSlider(name=spiro.param.l.label,\n",
    "                                    value=spiro.l, \n",
    "                                    #callback_policy=\"mouseup\"\n",
    "                                    ),\n",
    "    }),\n",
    "    pn.panel(spiro.viewable())\n",
    ")"
   ]
  },
  {
   "cell_type": "markdown",
   "metadata": {},
   "source": [
    "---\n",
    "Modified: Jul 16, 2019\n",
    "## PyTorch Version \n",
    "Incorporate autograd's auto-differentiation functionality to add velocity vector along the curve.\n",
    "- We modify the original CurveSimulator to perform computations in torch-land (ie. using torch.Tensor and torch.nn.Function objects),\n",
    "    and get the data points and the velocity at the current point on the curve.  \n",
    "- Convert the tensor results to numpy and create a pd.DataFrame to send to the buffer stream\n",
    "\n",
    "To do so, we need to modify two parts: \n",
    "- `cfunc` to use torch functions\n",
    "- `send_point` method to convert the result of cfunc and velocity computation suitable for pd.DataFrame construction and buffer stream\n",
    "\n"
   ]
  },
  {
   "cell_type": "code",
   "execution_count": null,
   "metadata": {},
   "outputs": [],
   "source": [
    "import torch\n",
    "from torch import nn\n",
    "from torchviz import make_dot, make_dot_from_trace"
   ]
  },
  {
   "cell_type": "code",
   "execution_count": null,
   "metadata": {},
   "outputs": [],
   "source": [
    "xfunc = torch.sin\n",
    "yfunc = torch.cos\n",
    "cfunc = lambda p: (xfunc(p), yfunc(p))\n",
    "tensor_p = torch.tensor(0.1, requires_grad=True)\n",
    "make_dot(cfunc(tensor_p), params=dict(p=tensor_p))"
   ]
  },
  {
   "cell_type": "code",
   "execution_count": null,
   "metadata": {},
   "outputs": [],
   "source": [
    "point = cfunc(tensor_p); point\n",
    "\n",
    "# velocity vector = (dxfunc/dp (at tensor_p), dyfunc/dp at tensor_p)\n",
    "tensor_p1 = torch.tensor(0.1, requires_grad=True)\n",
    "tensor_p2 = torch.tensor(0.1, requires_grad=True)\n",
    "tensor_x = xfunc(tensor_p1)\n",
    "tensor_y = yfunc(tensor_p2)\n",
    "\n"
   ]
  },
  {
   "cell_type": "code",
   "execution_count": null,
   "metadata": {},
   "outputs": [],
   "source": [
    "tensor_p1.grad.data.zero_()\n",
    "# point.backward(torch.ones(point.shape))\n"
   ]
  },
  {
   "cell_type": "code",
   "execution_count": null,
   "metadata": {},
   "outputs": [],
   "source": [
    "tensor_p.grad"
   ]
  },
  {
   "cell_type": "code",
   "execution_count": null,
   "metadata": {},
   "outputs": [],
   "source": [
    "torch.stack(point)"
   ]
  },
  {
   "cell_type": "code",
   "execution_count": null,
   "metadata": {},
   "outputs": [],
   "source": [
    "tensor_x.grad_fn"
   ]
  },
  {
   "cell_type": "code",
   "execution_count": null,
   "metadata": {},
   "outputs": [],
   "source": [
    "tensor_x.backward()"
   ]
  },
  {
   "cell_type": "code",
   "execution_count": null,
   "metadata": {},
   "outputs": [],
   "source": [
    "tensor_p1.grad"
   ]
  },
  {
   "cell_type": "code",
   "execution_count": null,
   "metadata": {},
   "outputs": [],
   "source": [
    "tensor_y.backward()\n",
    "print(tensor_p2.grad)"
   ]
  },
  {
   "cell_type": "markdown",
   "metadata": {},
   "source": [
    "### Conversion helpers"
   ]
  },
  {
   "cell_type": "code",
   "execution_count": null,
   "metadata": {},
   "outputs": [],
   "source": [
    "def euclidean2raidal(x,y):\n",
    "    \"\"\"\n",
    "    Change the coordinate system from Euclidean to Radial.\n",
    "    Returns (angle, magnitude), ie. (theta, r)\n",
    "    \"\"\"\n",
    "    \n",
    "    mag = np.sqrt(x**2+y**2)\n",
    "    angle = (np.pi/2.) - np.arctan2(x/mag, y/mag)\n",
    "    return(angle, mag)\n",
    "\n",
    "            "
   ]
  },
  {
   "cell_type": "code",
   "execution_count": null,
   "metadata": {},
   "outputs": [],
   "source": [
    "from holoviews import dim"
   ]
  },
  {
   "cell_type": "markdown",
   "metadata": {},
   "source": [
    "\n",
    "### Simulator for curve and velocity"
   ]
  },
  {
   "cell_type": "code",
   "execution_count": null,
   "metadata": {},
   "outputs": [],
   "source": [
    "class CurveVelocitySimulator(param.Parameterized):\n",
    "\n",
    "    n_steps = param.Integer(label='Number of simulation steps', default=100)\n",
    "    p = param.ObjectSelector(label='p', default=0., objects=np.linspace(0,1,num=n_steps.default))\n",
    "    reset = param.Action(lambda x: x.reset_handler(), doc=\"Click to clear the buffer and reset p\")\n",
    "#     t_interval = param.Number(default=0.)\n",
    "    t_interval = param.Number(label='t_interval', doc='Time interval between plotting two points',\n",
    "                              softbounds=(0., 5.),\n",
    "                              default=0.2)\n",
    "    \n",
    "    ################################################################################\n",
    "    # Constant class properties\n",
    "    ################################################################################\n",
    "    H,W = 500,500\n",
    "    curve_opts = opts.Points(size=5,width=W, height=H, padding=0.1, \n",
    "                            xlim=(-10,10), ylim=(-10,10),\n",
    "                            color=dim('p')+10\n",
    "                            )\n",
    "    vel_opts = opts.VectorField(width=W, height=H, color='green', padding=0.1,\n",
    "                                rescale_lengths=False,\n",
    "                                xlim=(-10,10), ylim=(-10,10),\n",
    "                               )#, bgcolor=(0,0,0,0))\n",
    "    xopts = opts.Points('XCoord', width=W, height=H, size=5, xlim=(0,1), \n",
    "                        padding=0.1, invert_axes=True, invert_yaxis=True)\n",
    "    yopts = opts.Points('YCoord', width=W, height=H, size=5, xlim=(0,1), padding=0.1, invert_xaxis=True)\n",
    "    \n",
    "    \n",
    "    ################################################################################\n",
    "    # Parameter Dependencies\n",
    "    ################################################################################    \n",
    "    @param.depends('n_steps', watch=True)\n",
    "    def _update_p(self):\n",
    "        self.count['p'] += 1\n",
    "        self.param['p'].objects = np.linspace(0,1,num=self.n_steps)\n",
    "        print('updated p with new number of simulation steps: ', self.n_steps)\n",
    "    \n",
    "    @param.depends('p', watch=True)\n",
    "    def send_point(self):\n",
    "        x, y, dx, dy, ang, mag = self.get_point_and_vel(self.p)\n",
    "        data = pd.DataFrame([(self.p, x,y,dx,dy,ang,mag)], columns=self.example.columns)\n",
    "        self.data_src.emit(data)\n",
    "        time.sleep(self.t_interval)\n",
    "        \n",
    "    def reset_handler(self):\n",
    "        self.count['reset'] += 1\n",
    "        self.set_param(p=0.0)\n",
    "        self.dfstream.clear()\n",
    "\n",
    "        \n",
    "    ################################################################################\n",
    "    # Initialization\n",
    "    ################################################################################\n",
    "    def __init__(self, xfunc, yfunc, n_steps=100, **kwargs):\n",
    "        \"\"\"\n",
    "        Args:\n",
    "        - xfunc (torch.function): given an input of a float p in [0,1], returns x coord of the curve\n",
    "        - yfunc (torch.function): given an input of a float p in [0,1], returns y coord of the curve\n",
    "\n",
    "        \n",
    "        - n_steps (int): number of simulation steps along the range of [0,1] for \n",
    "        the parameter, p\n",
    "        \"\"\"\n",
    "        super().__init__(**kwargs) # this is super important\n",
    "        self.count = defaultdict(int)\n",
    "        self.xfunc, self.yfunc = xfunc, yfunc\n",
    "        self.n_steps = n_steps\n",
    "        \n",
    "        self.example = pd.DataFrame({'p': [], 'x':[], 'y':[], 'dx':[], 'dy':[], 'ang':[], 'mag':[]})\n",
    "        self.data_src = streamz.dataframe.DataFrame(example=self.example)\n",
    "        self.dfstream = Buffer(self.data_src, length=100, index=False)\n",
    "        self.set_dmap_curve()\n",
    "        self.set_dmap_vel()\n",
    "        self.set_dmap_x()\n",
    "        self.set_dmap_y()\n",
    "        self.overlay = (self.dmap_vel * self.dmap_curve + self.dmap_y + self.dmap_x).cols(2)\n",
    "    \n",
    "\n",
    "    def set_dmap_curve(self):\n",
    "        self.count['set_curve'] += 1\n",
    "        dmap_curve = hv.DynamicMap(\n",
    "            lambda data: hv.Points(data, kdims=['x','y'], group='Curve'),\n",
    "            streams=[self.dfstream])#.opts(color='p')\n",
    "        self.dmap_curve = dmap_curve.opts(self.curve_opts)\n",
    "        \n",
    "    def set_dmap_vel(self):\n",
    "        self.count['set_velocity'] += 1\n",
    "        dmap_vel = hv.DynamicMap(\n",
    "            lambda data: hv.VectorField(data, kdims=['x','y'], vdims=['ang','mag'] ),\n",
    "            streams=[self.dfstream])#.opts(color='p')\n",
    "        self.dmap_vel = dmap_vel.opts(self.vel_opts)\n",
    "        \n",
    "    def set_dmap_x(self):\n",
    "        self.count['set_x'] += 1\n",
    "        dmap_x = hv.DynamicMap(\n",
    "            lambda data: hv.Points( data, kdims=['p','x'], group='XCoord'),\n",
    "            streams=[self.dfstream]).opts(color='p')\n",
    "        self.dmap_x = dmap_x.opts(self.xopts)\n",
    "        \n",
    "    def set_dmap_y(self):\n",
    "        self.count['set_y'] += 1\n",
    "        dmap_y = hv.DynamicMap(\n",
    "            lambda data: hv.Points( data, kdims=['p','y'], group='YCoord'),\n",
    "            streams=[self.dfstream]).opts(color='p')\n",
    "        self.dmap_y = dmap_y.opts(self.yopts)\n",
    "    \n",
    "    \n",
    "    ################################################################################\n",
    "    # Display DynammicMaps\n",
    "    ################################################################################ \n",
    "    def viewable(self):\n",
    "        return self.overlay\n",
    "        \n",
    "    \n",
    "    ################################################################################\n",
    "    # Tensor computation helper\n",
    "    ################################################################################  \n",
    "    def get_point_and_vel(self,p):\n",
    "        \"\"\"\n",
    "        Args: \n",
    "        - p (float): a float corresponding to a curve parameter's specific value. Must be in between [0,1]?\n",
    "\n",
    "        Returns:\n",
    "        - (x,y,dx,dy): a tuple of floats corresponding to xcoord, ycoord, x and y components of the velocity at (x,y) \n",
    "        \"\"\"\n",
    "\n",
    "        tensor_p1, tensor_p2 = torch.tensor([p,p]).unbind()\n",
    "        tensor_p1.requires_grad_(); tensor_p2.requires_grad_()\n",
    "        \n",
    "        tensor_x, tensor_y = self.xfunc(tensor_p1),  self.yfunc(tensor_p2)\n",
    "\n",
    "        # compute gradient\n",
    "        tensor_x.backward()\n",
    "        tensor_y.backward()\n",
    "        dx = tensor_p1.grad.data.item()\n",
    "        dy = tensor_p2.grad.data.item()\n",
    "        ang,vel = euclidean2raidal(dx,dy)\n",
    "\n",
    "        return (tensor_x.data.item(), tensor_y.data.item(), dx, dy, ang, vel)\n",
    "            "
   ]
  },
  {
   "cell_type": "code",
   "execution_count": null,
   "metadata": {},
   "outputs": [],
   "source": [
    "xfunc = lambda p: torch.log(torch.sin(p*2*np.pi))\n",
    "yfunc = lambda p: torch.cos(p*2*np.pi)\n",
    "\n",
    "c = CurveVelocitySimulator(xfunc, yfunc, 100)\n",
    "c"
   ]
  },
  {
   "cell_type": "code",
   "execution_count": null,
   "metadata": {},
   "outputs": [],
   "source": [
    "%%opts Curve [active_tools=['wheel_zoom']]\n",
    "pn.Row(\n",
    "    pn.Param(c.param, width=500, widgets={\n",
    "        'p': pn.widgets.DiscretePlayer,\n",
    "        'reset': pn.widgets.Button(name=c.param['reset'].label),\n",
    "        't_interval': pn.widgets.FloatSlider\n",
    "    }),\n",
    "    pn.panel(c.viewable())\n",
    "#     pn.Column(\n",
    "#     pn.panel(c.dmap_vel), pn.panel(c.dmap_curve)\n",
    "#     )\n",
    "\n",
    ")\n"
   ]
  },
  {
   "cell_type": "code",
   "execution_count": null,
   "metadata": {},
   "outputs": [],
   "source": [
    "hv."
   ]
  },
  {
   "cell_type": "code",
   "execution_count": null,
   "metadata": {},
   "outputs": [],
   "source": [
    "c.dmap_vel"
   ]
  },
  {
   "cell_type": "code",
   "execution_count": null,
   "metadata": {},
   "outputs": [],
   "source": [
    "todo:\n",
    "    - curve generator by creating the dataset all at once\n",
    "    autograddd!!!:DDDD"
   ]
  },
  {
   "cell_type": "markdown",
   "metadata": {},
   "source": [
    "---\n",
    "Modified: Jul 16, 2019\n",
    "## Use torch's autograd to compute velocity vector"
   ]
  },
  {
   "cell_type": "code",
   "execution_count": null,
   "metadata": {},
   "outputs": [],
   "source": [
    "def get_point_and_vel(xfunc, yfunc, p):\n",
    "    \"\"\"\n",
    "    Args: \n",
    "    - xfunc: torch function that takes in a tensor and outputs a scalar tensor correpsonding to the x-coordinate of the curve\n",
    "    - yfunc: torch function that takes in a tensor and outputs a scalar tensor correpsonding to the y-coordinate of the curve\n",
    "    - p (float or a list of floats): each float corresponding to a curve parameter's specific value. Must be in between [0,1]?\n",
    "    \n",
    "    Returns:\n",
    "    \n",
    "    - (x,y,dx,dy): a tuple of floats corresponding to xcoord, ycoord, x and y components of the velocity at (x,y) \n",
    "    each x,y,dx,dy has the same shape as p.\n",
    "    In other words, this is a vectorized operation.\n",
    "    \"\"\"\n",
    "    \n",
    "    tensor_p1 = torch.tensor(p, requires_grad=True)\n",
    "    tensor_p2 = torch.tensor(p, requires_grad=True)\n",
    "    tensor_x, tensor_y =xfunc(tensor_p1), yfunc(tensor_p2)\n",
    "\n",
    "    # compute gradient\n",
    "    tensor_x.backward(torch.ones(tensor_x.shape))\n",
    "    tensor_y.backward(torch.ones(tensor_y.shape))\n",
    "    dx = tensor_p1.grad.data.numpy()\n",
    "    dy = tensor_p2.grad.data.numpy()\n",
    "    ang,mag = euclidean2raidal(dx,dy)\n",
    "\n",
    "    return (tensor_x.data.numpy(), tensor_y.data.numpy(), dx, dy, ang, mag)"
   ]
  },
  {
   "cell_type": "code",
   "execution_count": null,
   "metadata": {},
   "outputs": [],
   "source": [
    "def test_get_point_and_vel_single_p():\n",
    "    p = np.pi\n",
    "    xfunc = torch.sin\n",
    "    yfunc = torch.cos\n",
    "    x,y,dx,dy,ang,mag = get_point_and_vel(xfunc, yfunc, p)\n",
    "    df =  pd.DataFrame([(x,y,dx,dy,ang,mag)], columns='x,y,dx,dy,ang,mag'.split(','))\n",
    "    display(df.head())\n",
    "   "
   ]
  },
  {
   "cell_type": "code",
   "execution_count": null,
   "metadata": {},
   "outputs": [],
   "source": [
    " \n",
    "def test_get_point_and_vel_multiple_ps():\n",
    "    p = np.linspace(0., 1., num=10, dtype=np.float32)\n",
    "    xfunc = torch.sin\n",
    "    yfunc = torch.cos\n",
    "    x,y,dx,dy,ang,mag = get_point_and_vel(xfunc, yfunc, p)\n",
    "    df =  pd.DataFrame(list(zip(x,y,dx,dy,ang,mag)), columns='x,y,dx,dy,ang,mag'.split(','))\n",
    "    display(df.head())\n",
    "# test_get_point_and_vel()"
   ]
  },
  {
   "cell_type": "code",
   "execution_count": null,
   "metadata": {},
   "outputs": [],
   "source": [
    "def create_curve_data(xfunc, yfunc, n_steps=100):\n",
    "    ps = np.linspace(0., 1., num=n_steps, dtype=np.float32)\n",
    "    x,y,dx,dy,ang,mag = get_point_and_vel(xfunc,yfunc, ps)\n",
    "    df =  pd.DataFrame(list(zip(x,y,dx,dy,ang,mag)), columns='x,y,dx,dy,ang,mag'.split(','))\n",
    "    return df"
   ]
  },
  {
   "cell_type": "code",
   "execution_count": null,
   "metadata": {},
   "outputs": [],
   "source": [
    "create_curve_data(xfunc, yfunc,10)"
   ]
  },
  {
   "cell_type": "code",
   "execution_count": null,
   "metadata": {},
   "outputs": [],
   "source": []
  },
  {
   "cell_type": "code",
   "execution_count": null,
   "metadata": {},
   "outputs": [],
   "source": []
  },
  {
   "cell_type": "code",
   "execution_count": null,
   "metadata": {},
   "outputs": [],
   "source": []
  },
  {
   "cell_type": "code",
   "execution_count": null,
   "metadata": {},
   "outputs": [],
   "source": []
  },
  {
   "cell_type": "code",
   "execution_count": null,
   "metadata": {},
   "outputs": [],
   "source": []
  },
  {
   "cell_type": "code",
   "execution_count": null,
   "metadata": {},
   "outputs": [],
   "source": [
    "class CurveBulkSimulator(param.Parameterized):\n",
    "    \"\"\"\n",
    "    Creats all `n_steps` number of points on the curve at once \n",
    "    and saves in memory\n",
    "    \n",
    "    For simulation, each data point is emitted to the buffer stream \n",
    "    by reading from the in-memory data points\n",
    "    \n",
    "    Params:\n",
    "    - n_steps: Number of points on the curve, ie. number of steps in [0,1] range\n",
    "    - p : parameter for curve function. It runs from 0 to 1, inclusively\n",
    "    - reset : action parameter that sets the p parameter to zero and clears out the buffer stream\n",
    "    - t_interval: time interval to pause in between sending data points while simulation is running\n",
    "    \n",
    "    \"\"\"\n",
    "    \n",
    "\n",
    "    n_steps = param.Integer(label='Number of simulation steps', default=100)\n",
    "    p = param.ObjectSelector(label='p', default=0., objects=np.linspace(0.,1.,num=n_steps.default))\n",
    "    pidx = param.ObjectSelector(label='pidx', default=0, objects=list(range(n_steps.default)))\n",
    "\n",
    "    reset = param.Action(lambda x: x.reset_handler(), doc=\"Click to clear the buffer and reset p\")\n",
    "    t_interval = param.Number(label='t_interval', doc='Time interval between plotting two points',\n",
    "                              softbounds=(0., 5.),\n",
    "                              default=0.2)\n",
    "    \n",
    "    ################################################################################\n",
    "    # Constant class properties\n",
    "    ################################################################################\n",
    "    H,W = 500,500\n",
    "    curve_opts = opts.Points(size=5,width=W, height=H, padding=0.1, \n",
    "#                             xlim=(-10,10), ylim=(-10,10),\n",
    "                            color=dim('p')*256-50\n",
    "                            )\n",
    "    vel_opts = opts.VectorField(width=W, height=H, color='green', padding=0.1,\n",
    "#                                 rescale_lengths=False,\n",
    "#                                 xlim=(-10,10), ylim=(-10,10),\n",
    "                               )#, bgcolor=(0,0,0,0))\n",
    "    xopts = opts.Points('XCoord', width=W, height=H, size=5, xlim=(0,1), \n",
    "                        padding=0.1, invert_axes=True, invert_yaxis=True)\n",
    "    yopts = opts.Points('YCoord', width=W, height=H, size=5, xlim=(0,1), padding=0.1, invert_xaxis=True)\n",
    "    \n",
    "    \n",
    "    ################################################################################\n",
    "    # Parameter Dependencies\n",
    "    ################################################################################    \n",
    "    @param.depends('n_steps', watch=True)\n",
    "    def _update_p(self):\n",
    "        self.count['p'] += 1\n",
    "        self.param['p'].objects = np.linspace(0.,1.,num=self.n_steps)\n",
    "        self.param['pidx'].objects = list(range(self.n_steps))\n",
    "        print('updated p with new number of simulation steps: ', self.n_steps)\n",
    "    \n",
    "    @param.depends('n_steps', watch=True)\n",
    "    def _update_curve_data(self):\n",
    "        ps = np.linspace(0., 1., num=self.n_steps, dtype=np.float32)\n",
    "        x,y,dx,dy,ang,mag = get_point_and_vel(self.xfunc, self.yfunc, ps)\n",
    "        self.data = pd.DataFrame(list(zip(ps,x,y,dx,dy,ang,mag)), \n",
    "                                 columns='p,x,y,dx,dy,ang,mag'.split(','),\n",
    "                                 dtype=np.float32)#.set_index('p')\n",
    "        \n",
    "    \n",
    "    @param.depends('pidx', watch=True)\n",
    "    def send_point(self):\n",
    "        # p(float in [0,1] to index into np.linspace(0,1,n_steps) list\n",
    "#         pidx = val2idx(p, \n",
    "        data = self.data.iloc[[self.pidx]]\n",
    "        self.data_src.emit(data)\n",
    "        time.sleep(self.t_interval)\n",
    "    \n",
    "    \n",
    "    def reset_handler(self):\n",
    "        self.count['reset'] += 1\n",
    "        self.set_param(p=0.0)\n",
    "        self.dfstream.clear()\n",
    "\n",
    "        \n",
    "    ################################################################################\n",
    "    # Initialization\n",
    "    ################################################################################\n",
    "    def __init__(self, xfunc, yfunc, n_steps=100, **kwargs):\n",
    "        \"\"\"\n",
    "        Args:\n",
    "        - xfunc (torch.function): given an input of a float p in [0,1], returns x coord of the curve\n",
    "        - yfunc (torch.function): given an input of a float p in [0,1], returns y coord of the curve\n",
    "\n",
    "        \n",
    "        - n_steps (int): number of simulation steps along the range of [0,1] for \n",
    "        the parameter, p\n",
    "        \"\"\"\n",
    "        super().__init__(**kwargs) # this is super important\n",
    "        self.count = defaultdict(int)\n",
    "        self.xfunc, self.yfunc = xfunc, yfunc\n",
    "        self.n_steps = n_steps\n",
    "        \n",
    "        self.example = pd.DataFrame({'p': [], 'x':[], 'y':[], 'dx':[], 'dy':[], 'ang':[], 'mag':[]})\n",
    "        self.data_src = streamz.dataframe.DataFrame(example=self.example)\n",
    "        self.dfstream = Buffer(self.data_src, length=100, index=False)\n",
    "        self.set_dmap_curve()\n",
    "        self.set_dmap_vel()\n",
    "        self.set_dmap_x()\n",
    "        self.set_dmap_y()\n",
    "        self.overlay = (self.dmap_vel * self.dmap_curve + self.dmap_y + self.dmap_x).cols(2)\n",
    "    \n",
    "        # create all curve data\n",
    "        self._update_curve_data()\n",
    "        \n",
    "    def set_dmap_curve(self):\n",
    "        self.count['set_curve'] += 1\n",
    "        dmap_curve = hv.DynamicMap(\n",
    "            lambda data: hv.Points(data, kdims=['x','y'], group='Curve'),\n",
    "            streams=[self.dfstream])#.opts(color='p')\n",
    "        self.dmap_curve = dmap_curve.opts(self.curve_opts)\n",
    "        \n",
    "    def set_dmap_vel(self):\n",
    "        self.count['set_velocity'] += 1\n",
    "        dmap_vel = hv.DynamicMap(\n",
    "            lambda data: hv.VectorField(data, kdims=['x','y'], vdims=['ang','mag'] ),\n",
    "            streams=[self.dfstream])#.opts(color='p')\n",
    "        self.dmap_vel = dmap_vel.opts(self.vel_opts)\n",
    "        \n",
    "    def set_dmap_x(self):\n",
    "        self.count['set_x'] += 1\n",
    "        dmap_x = hv.DynamicMap(\n",
    "            lambda data: hv.Points( data, kdims=['p','x'], group='XCoord'),\n",
    "            streams=[self.dfstream]).opts(color='p')\n",
    "        self.dmap_x = dmap_x.opts(self.xopts)\n",
    "        \n",
    "    def set_dmap_y(self):\n",
    "        self.count['set_y'] += 1\n",
    "        dmap_y = hv.DynamicMap(\n",
    "            lambda data: hv.Points( data, kdims=['p','y'], group='YCoord'),\n",
    "            streams=[self.dfstream]).opts(color='p')\n",
    "        self.dmap_y = dmap_y.opts(self.yopts)\n",
    "    \n",
    "    \n",
    "    ################################################################################\n",
    "    # Display DynammicMaps\n",
    "    ################################################################################ \n",
    "    def viewable(self):\n",
    "        return self.overlay\n",
    "        \n",
    "    "
   ]
  },
  {
   "cell_type": "code",
   "execution_count": null,
   "metadata": {},
   "outputs": [],
   "source": [
    "xfunc = lambda p: torch.cos(p*2*np.pi)* torch.sin(p*2*np.pi)\n",
    "yfunc = lambda p: torch.cos(p*2*np.pi)\n",
    "\n",
    "c = CurveBulkSimulator(xfunc, yfunc)"
   ]
  },
  {
   "cell_type": "code",
   "execution_count": null,
   "metadata": {},
   "outputs": [],
   "source": [
    "c.data.head()"
   ]
  },
  {
   "cell_type": "code",
   "execution_count": null,
   "metadata": {},
   "outputs": [],
   "source": [
    "%%opts Points [active_tools=['wheel_zoom'], tools=['hover']]\n",
    "pn.Column(\n",
    "    pn.Param(c.param.n_steps),\n",
    "    pn.Param(c.param.pidx, widgets={'pidx': pn.widgets.DiscretePlayer}),\n",
    "    pn.Param(c.param.reset, widgets={'reset': pn.widgets.Button(name=c.param['reset'].label)}),\n",
    "    pn.Param(c.param.t_interval, widgets={'t_interval': pn.widgets.FloatSlider}),\n",
    "    pn.panel(c.viewable())\n",
    "# #     pn.Column(\n",
    "# #     pn.panel(c.dmap_vel), pn.panel(c.dmap_curve)\n",
    "# #     )\n",
    " )\n"
   ]
  },
  {
   "cell_type": "code",
   "execution_count": null,
   "metadata": {},
   "outputs": [],
   "source": []
  },
  {
   "cell_type": "code",
   "execution_count": null,
   "metadata": {},
   "outputs": [],
   "source": []
  },
  {
   "cell_type": "code",
   "execution_count": null,
   "metadata": {},
   "outputs": [],
   "source": []
  },
  {
   "cell_type": "code",
   "execution_count": null,
   "metadata": {},
   "outputs": [],
   "source": []
  },
  {
   "cell_type": "code",
   "execution_count": null,
   "metadata": {},
   "outputs": [],
   "source": []
  },
  {
   "cell_type": "markdown",
   "metadata": {},
   "source": [
    "---\n",
    "Modified: Jul 16, 2019\n",
    "## Use torch's autograd to compute velocity vector"
   ]
  },
  {
   "cell_type": "code",
   "execution_count": null,
   "metadata": {},
   "outputs": [],
   "source": [
    "def get_point_and_vel(xfunc, yfunc, p):\n",
    "    \"\"\"\n",
    "    Args: \n",
    "    - xfunc: torch function that takes in a tensor and outputs a scalar tensor correpsonding to the x-coordinate of the curve\n",
    "    - yfunc: torch function that takes in a tensor and outputs a scalar tensor correpsonding to the y-coordinate of the curve\n",
    "    - p (float): a float corresponding to a curve parameter's specific value. Must be in between [0,1]?\n",
    "    \n",
    "    Returns:\n",
    "    - (x,y,dx,dy): a tuple of floats corresponding to xcoord, ycoord, x and y components of the velocity at (x,y) \n",
    "    \"\"\"\n",
    "    \n",
    "    tensor_p1, tensor_p2 = torch.tensor([p,p]).unbind()\n",
    "    tensor_p1.requires_grad_()\n",
    "    tensor_p2.requires_grad_()\n",
    "    tensor_x, tensor_y =xfunc(tensor_p1), yfunc(tensor_p2)\n",
    "\n",
    "    # compute gradient\n",
    "    tensor_x.backward()\n",
    "    tensor_y.backward()\n",
    "    dx = tensor_p1.grad.data.item()\n",
    "    dy = tensor_p2.grad.data.item()\n",
    "    ang,mag = euclidean2raidal(dx,dy)\n",
    "\n",
    "    return (tensor_x.data.item(), tensor_y.data.item(), dx, dy, ang, mag)"
   ]
  },
  {
   "cell_type": "code",
   "execution_count": null,
   "metadata": {},
   "outputs": [],
   "source": [
    "def test_get_point_and_vel():\n",
    "    p = np.pi\n",
    "    xfunc = torch.sin\n",
    "    yfunc = torch.cos\n",
    "    x,y,dx,dy,ang,mag = get_point_and_vel(xfunc, yfunc, p)\n",
    "    df =  pd.DataFrame([(x,y,dx,dy,ang,mag)], columns='x,y,dx,dy,ang,mag'.split(','))\n",
    "    print(df)\n",
    "    "
   ]
  },
  {
   "cell_type": "code",
   "execution_count": null,
   "metadata": {},
   "outputs": [],
   "source": [
    "p = np.pi\n",
    "xfunc = torch.sin\n",
    "yfunc = torch.cos\n",
    "print(get_point_and_vel(xfunc, yfunc, p))"
   ]
  },
  {
   "cell_type": "code",
   "execution_count": null,
   "metadata": {},
   "outputs": [],
   "source": [
    "x,y,dx,dy,ang,mag"
   ]
  },
  {
   "cell_type": "code",
   "execution_count": null,
   "metadata": {},
   "outputs": [],
   "source": [
    "temp = pd.DataFrame([(x,y,dx,dy,ang,mag)], columns='x,y,dx,dy,ang,mag'.split(','))"
   ]
  },
  {
   "cell_type": "code",
   "execution_count": null,
   "metadata": {},
   "outputs": [],
   "source": [
    "temp"
   ]
  },
  {
   "cell_type": "code",
   "execution_count": null,
   "metadata": {},
   "outputs": [],
   "source": [
    "hv.VectorField(temp['x,y,ang,mag'.split(',')])"
   ]
  },
  {
   "cell_type": "code",
   "execution_count": null,
   "metadata": {},
   "outputs": [],
   "source": [
    "temp['x,y,ang,mag'.split(',')]"
   ]
  },
  {
   "cell_type": "code",
   "execution_count": null,
   "metadata": {},
   "outputs": [],
   "source": [
    "from holoviews import dim\n"
   ]
  },
  {
   "cell_type": "code",
   "execution_count": null,
   "metadata": {},
   "outputs": [],
   "source": [
    "vfield_opts = opts.VectorField(width=500, height=500, color='blue',\n",
    "                               magnitude=dim('mag').norm()*0.5, \n",
    "                               rescale_lengths=False)"
   ]
  },
  {
   "cell_type": "code",
   "execution_count": null,
   "metadata": {},
   "outputs": [],
   "source": [
    "vfield = hv.VectorField( [\n",
    "    (0, 0, np.pi, 0.1),\n",
    "    (0, 1,np.pi/4., 0.5),\n",
    "    (0, 1,np.pi, 0.2)\n",
    "], kdims=['x','y'], vdims=['ang','mag']\n",
    ")#.opts(width=500, height=500,color='blue',magnitude=dim('Magnitude').norm()*0.2, rescale_lengths=False)"
   ]
  },
  {
   "cell_type": "code",
   "execution_count": null,
   "metadata": {},
   "outputs": [],
   "source": [
    "vfield.opts(vfield_opts)"
   ]
  },
  {
   "cell_type": "code",
   "execution_count": null,
   "metadata": {},
   "outputs": [],
   "source": [
    "data = [(0.,1., np.pi, 10.0), (0.,0., np.pi, 20.0), (0.,-1., np.pi, 20.0), (-1.,-1., np.pi, 20.0)] \n",
    "df = pd.DataFrame(data, columns='x,y,ang,mag'.split(','))\n",
    "df"
   ]
  },
  {
   "cell_type": "code",
   "execution_count": null,
   "metadata": {},
   "outputs": [],
   "source": [
    "vfield = hv.VectorField( df, kdims=['x','y'], vdims=['ang','mag'] )\n",
    "# vfield.opts(opts.VectorField(magnitude=dim('mag').min(),rescale_lengths=False))"
   ]
  },
  {
   "cell_type": "code",
   "execution_count": null,
   "metadata": {},
   "outputs": [],
   "source": [
    "vfield.opts.clear()"
   ]
  },
  {
   "cell_type": "code",
   "execution_count": null,
   "metadata": {},
   "outputs": [],
   "source": [
    "vfield.opts(opts.VectorField(rescale_lengths=True))"
   ]
  },
  {
   "cell_type": "code",
   "execution_count": null,
   "metadata": {},
   "outputs": [],
   "source": []
  },
  {
   "cell_type": "code",
   "execution_count": null,
   "metadata": {},
   "outputs": [],
   "source": []
  },
  {
   "cell_type": "code",
   "execution_count": null,
   "metadata": {},
   "outputs": [],
   "source": []
  },
  {
   "cell_type": "code",
   "execution_count": null,
   "metadata": {},
   "outputs": [],
   "source": []
  },
  {
   "cell_type": "code",
   "execution_count": null,
   "metadata": {},
   "outputs": [],
   "source": []
  },
  {
   "cell_type": "code",
   "execution_count": null,
   "metadata": {},
   "outputs": [],
   "source": []
  },
  {
   "cell_type": "code",
   "execution_count": null,
   "metadata": {},
   "outputs": [],
   "source": []
  },
  {
   "cell_type": "code",
   "execution_count": null,
   "metadata": {},
   "outputs": [],
   "source": []
  },
  {
   "cell_type": "code",
   "execution_count": null,
   "metadata": {},
   "outputs": [],
   "source": []
  },
  {
   "cell_type": "code",
   "execution_count": null,
   "metadata": {},
   "outputs": [],
   "source": []
  },
  {
   "cell_type": "code",
   "execution_count": null,
   "metadata": {},
   "outputs": [],
   "source": []
  },
  {
   "cell_type": "code",
   "execution_count": null,
   "metadata": {},
   "outputs": [],
   "source": []
  },
  {
   "cell_type": "code",
   "execution_count": null,
   "metadata": {},
   "outputs": [],
   "source": []
  },
  {
   "cell_type": "code",
   "execution_count": null,
   "metadata": {},
   "outputs": [],
   "source": []
  },
  {
   "cell_type": "code",
   "execution_count": null,
   "metadata": {},
   "outputs": [],
   "source": []
  },
  {
   "cell_type": "code",
   "execution_count": null,
   "metadata": {},
   "outputs": [],
   "source": []
  },
  {
   "cell_type": "code",
   "execution_count": null,
   "metadata": {},
   "outputs": [],
   "source": []
  },
  {
   "cell_type": "code",
   "execution_count": null,
   "metadata": {},
   "outputs": [],
   "source": []
  },
  {
   "cell_type": "code",
   "execution_count": null,
   "metadata": {},
   "outputs": [],
   "source": []
  },
  {
   "cell_type": "code",
   "execution_count": null,
   "metadata": {},
   "outputs": [],
   "source": []
  },
  {
   "cell_type": "code",
   "execution_count": null,
   "metadata": {},
   "outputs": [],
   "source": []
  },
  {
   "cell_type": "code",
   "execution_count": null,
   "metadata": {},
   "outputs": [],
   "source": []
  },
  {
   "cell_type": "code",
   "execution_count": null,
   "metadata": {},
   "outputs": [],
   "source": []
  },
  {
   "cell_type": "code",
   "execution_count": null,
   "metadata": {},
   "outputs": [],
   "source": []
  },
  {
   "cell_type": "code",
   "execution_count": null,
   "metadata": {},
   "outputs": [],
   "source": []
  },
  {
   "cell_type": "code",
   "execution_count": null,
   "metadata": {},
   "outputs": [],
   "source": []
  },
  {
   "cell_type": "code",
   "execution_count": null,
   "metadata": {},
   "outputs": [],
   "source": []
  },
  {
   "cell_type": "code",
   "execution_count": null,
   "metadata": {},
   "outputs": [],
   "source": []
  },
  {
   "cell_type": "code",
   "execution_count": null,
   "metadata": {},
   "outputs": [],
   "source": []
  },
  {
   "cell_type": "code",
   "execution_count": null,
   "metadata": {},
   "outputs": [],
   "source": []
  },
  {
   "cell_type": "code",
   "execution_count": null,
   "metadata": {},
   "outputs": [],
   "source": []
  },
  {
   "cell_type": "code",
   "execution_count": null,
   "metadata": {},
   "outputs": [],
   "source": []
  },
  {
   "cell_type": "code",
   "execution_count": null,
   "metadata": {},
   "outputs": [],
   "source": []
  },
  {
   "cell_type": "markdown",
   "metadata": {},
   "source": [
    "### Todo2: levelset implementation\n",
    "- [ ] how to implement affine transformation in discrete space?\n",
    "    - we need a `warp` function"
   ]
  },
  {
   "cell_type": "code",
   "execution_count": null,
   "metadata": {},
   "outputs": [],
   "source": []
  },
  {
   "cell_type": "code",
   "execution_count": null,
   "metadata": {},
   "outputs": [],
   "source": []
  },
  {
   "cell_type": "code",
   "execution_count": null,
   "metadata": {},
   "outputs": [],
   "source": []
  },
  {
   "cell_type": "code",
   "execution_count": null,
   "metadata": {},
   "outputs": [],
   "source": []
  },
  {
   "cell_type": "code",
   "execution_count": null,
   "metadata": {},
   "outputs": [],
   "source": []
  },
  {
   "cell_type": "code",
   "execution_count": null,
   "metadata": {},
   "outputs": [],
   "source": []
  },
  {
   "cell_type": "code",
   "execution_count": null,
   "metadata": {},
   "outputs": [],
   "source": []
  },
  {
   "cell_type": "code",
   "execution_count": null,
   "metadata": {},
   "outputs": [],
   "source": []
  },
  {
   "cell_type": "code",
   "execution_count": null,
   "metadata": {},
   "outputs": [],
   "source": []
  },
  {
   "cell_type": "code",
   "execution_count": null,
   "metadata": {},
   "outputs": [],
   "source": []
  },
  {
   "cell_type": "code",
   "execution_count": null,
   "metadata": {},
   "outputs": [],
   "source": []
  },
  {
   "cell_type": "code",
   "execution_count": null,
   "metadata": {},
   "outputs": [],
   "source": []
  },
  {
   "cell_type": "code",
   "execution_count": null,
   "metadata": {},
   "outputs": [],
   "source": []
  },
  {
   "cell_type": "code",
   "execution_count": null,
   "metadata": {},
   "outputs": [],
   "source": []
  },
  {
   "cell_type": "code",
   "execution_count": null,
   "metadata": {},
   "outputs": [],
   "source": []
  },
  {
   "cell_type": "code",
   "execution_count": null,
   "metadata": {},
   "outputs": [],
   "source": []
  },
  {
   "cell_type": "code",
   "execution_count": null,
   "metadata": {},
   "outputs": [],
   "source": []
  },
  {
   "cell_type": "code",
   "execution_count": null,
   "metadata": {},
   "outputs": [],
   "source": []
  },
  {
   "cell_type": "code",
   "execution_count": null,
   "metadata": {},
   "outputs": [],
   "source": []
  },
  {
   "cell_type": "code",
   "execution_count": null,
   "metadata": {},
   "outputs": [],
   "source": []
  },
  {
   "cell_type": "code",
   "execution_count": null,
   "metadata": {},
   "outputs": [],
   "source": []
  },
  {
   "cell_type": "code",
   "execution_count": null,
   "metadata": {},
   "outputs": [],
   "source": []
  },
  {
   "cell_type": "code",
   "execution_count": null,
   "metadata": {},
   "outputs": [],
   "source": []
  },
  {
   "cell_type": "code",
   "execution_count": null,
   "metadata": {},
   "outputs": [],
   "source": []
  },
  {
   "cell_type": "code",
   "execution_count": null,
   "metadata": {},
   "outputs": [],
   "source": []
  },
  {
   "cell_type": "code",
   "execution_count": null,
   "metadata": {},
   "outputs": [],
   "source": []
  },
  {
   "cell_type": "code",
   "execution_count": null,
   "metadata": {},
   "outputs": [],
   "source": []
  },
  {
   "cell_type": "code",
   "execution_count": null,
   "metadata": {},
   "outputs": [],
   "source": []
  }
 ],
 "metadata": {
  "kernelspec": {
   "display_name": "Python [conda env:earthml_v2]",
   "language": "python",
   "name": "conda-env-earthml_v2-py"
  },
  "language_info": {
   "codemirror_mode": {
    "name": "ipython",
    "version": 3
   },
   "file_extension": ".py",
   "mimetype": "text/x-python",
   "name": "python",
   "nbconvert_exporter": "python",
   "pygments_lexer": "ipython3",
   "version": "3.7.3"
  }
 },
 "nbformat": 4,
 "nbformat_minor": 2
}
