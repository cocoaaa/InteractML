{
 "cells": [
  {
   "cell_type": "markdown",
   "metadata": {},
   "source": [
    "# Simulate curve generation defined by a parametric equation\n",
    "Modified: Jul 17, 2019  \n",
    "Author: Hayley Song\n"
   ]
  },
  {
   "cell_type": "code",
   "execution_count": null,
   "metadata": {},
   "outputs": [],
   "source": [
    "%load_ext autoreload\n",
    "%autoreload 2"
   ]
  },
  {
   "cell_type": "code",
   "execution_count": null,
   "metadata": {},
   "outputs": [],
   "source": [
    "import numpy as np\n",
    "import pandas as pd\n",
    "import time"
   ]
  },
  {
   "cell_type": "code",
   "execution_count": null,
   "metadata": {},
   "outputs": [],
   "source": [
    "import holoviews as hv\n",
    "from holoviews import opts, dim\n",
    "from holoviews.streams import *\n",
    "\n",
    "import panel as pn\n",
    "hv.notebook_extension('bokeh')\n",
    "hv.Dimension.type_formatters[np.datetime64] = '%Y-%m-%d'\n",
    "pn.extension()"
   ]
  },
  {
   "cell_type": "code",
   "execution_count": null,
   "metadata": {},
   "outputs": [],
   "source": [
    "import streamz\n",
    "import streamz.dataframe"
   ]
  },
  {
   "cell_type": "markdown",
   "metadata": {},
   "source": [
    "One way to represent a curve on a plane (aka. planary curve) is to specify a parametrization, which is a function from an interval $I \\in R$ to $R^2$. Image taking a segment in 1D, transform it in a \"smooth\" way (eg. bend/stretch/rotate/translate it) and put it in a 2D space.  This means, we need to specify the followings:\n",
    "- a parameter, eg. p $\\in [0,1]$, which  specify where you are on the line segment\n",
    "- two functions $x(p)$ and $y(p)$, which define the coordinate of the point $C(p)$ in x and y axis, respectively"
   ]
  },
  {
   "cell_type": "markdown",
   "metadata": {},
   "source": [
    "## Curve Generator\n",
    "- Generates a point on the curve at a given value $p$  and sends $(x(p), y(p))$ to the buffer stream, which will update the dynamic maps linked to the buffer "
   ]
  },
  {
   "cell_type": "code",
   "execution_count": null,
   "metadata": {},
   "outputs": [],
   "source": [
    "class CurveSimulator(param.Parameterized):\n",
    "    \"\"\"\n",
    "    Params:\n",
    "    - n_steps: Number of points on the curve, ie. number of steps in [0,1] range\n",
    "    - p : parameter for curve function. It runs from 0 to 1, inclusively\n",
    "    - reset : action parameter that sets the value of the p parameter to zero and clears the buffer stream\n",
    "    - t_interval: time interval to pause in between sending data points while simulation is running\n",
    "    \"\"\"\n",
    "\n",
    "    n_steps = param.Integer(label='Number of simulation steps', default=100)\n",
    "    p = param.ObjectSelector(label='p', default=0., objects=np.linspace(0,1,num=n_steps.default))\n",
    "    reset = param.Action(lambda x: x.reset_handler(), doc=\"Click to clear the buffer and reset p\")\n",
    "    t_interval = param.Number(label='t_interval', doc='Time interval between plotting two points',\n",
    "                              softbounds=(0., 5.),\n",
    "                              default=0.)\n",
    "\n",
    "    \n",
    "    ################################################################################\n",
    "    # Constant class properties\n",
    "    ################################################################################\n",
    "    H,W = 500,500\n",
    "    curve_opts = opts.Points(size=5,width=W, height=H, \n",
    "                             xlim=(-1,1), ylim=(-1,1),\n",
    "                             color=dim('p')*256-50,\n",
    "                             tools=['hover']\n",
    "                            )\n",
    "    xopts = opts.Points('XCoord', width=W, height=H, size=5, xlim=(0,1), \n",
    "                        padding=0.1, invert_axes=True, invert_yaxis=True)\n",
    "    yopts = opts.Points('YCoord', width=W, height=H, size=5, xlim=(0,1), padding=0.1, invert_xaxis=True)\n",
    "    \n",
    "    \n",
    "    ################################################################################\n",
    "    # Parameter Dependencies\n",
    "    ################################################################################    \n",
    "    @param.depends('n_steps', watch=True)\n",
    "    def _update_p(self):\n",
    "        self.count['p'] += 1\n",
    "        self.param['p'].objects = np.linspace(0,1,num=self.n_steps)\n",
    "        print('updated p with new number of simulation steps: ', self.n_steps)\n",
    "    \n",
    "    @param.depends('p', watch=True)\n",
    "    def send_point(self):\n",
    "        point = pd.DataFrame([(self.p, *self.cfunc(self.p))], columns=['p','x','y'])\n",
    "        self.data_src.emit(point)\n",
    "        time.sleep(self.t_interval)\n",
    "        \n",
    "    def reset_handler(self):\n",
    "        self.set_param(p=0.)\n",
    "        self.dfstream.clear()\n",
    "\n",
    "        \n",
    "    ################################################################################\n",
    "    # Initialization\n",
    "    ################################################################################\n",
    "    def __init__(self, cfunc, n_steps=100, **kwargs):\n",
    "        \"\"\"\n",
    "        Args:\n",
    "        - cfunc (function): given an input of a float p in [0,1], returns (x,y), a \n",
    "        tuple of x and y coords\n",
    "        \n",
    "        - n_steps (int): number of simulation steps along the range of [0,1] for \n",
    "        the parameter, p\n",
    "        \"\"\"\n",
    "        super().__init__(**kwargs) # this is super important\n",
    "        self.cfunc = cfunc \n",
    "        self.n_steps = n_steps\n",
    "        \n",
    "        self.example = pd.DataFrame({'p': [], 'x':[], 'y':[]})\n",
    "        self.data_src = streamz.dataframe.DataFrame(example=self.example)\n",
    "        self.dfstream = Buffer(self.data_src, length=min(self.n_steps, 100), index=False)\n",
    "        self.set_dmap_curve()\n",
    "        self.set_dmap_x()\n",
    "        self.set_dmap_y()\n",
    "        self.overlay = (self.dmap_curve + self.dmap_y + self.dmap_x).cols(2)\n",
    "    \n",
    "\n",
    "    def set_dmap_curve(self):\n",
    "        dmap_curve = hv.DynamicMap(\n",
    "            lambda data: hv.Points(data, kdims=['x','y'], group='Curve'),\n",
    "            streams=[self.dfstream])#.opts(color='p')\n",
    "        self.dmap_curve = dmap_curve.opts(self.curve_opts)\n",
    "        \n",
    "    def set_dmap_x(self):\n",
    "        dmap_x = hv.DynamicMap(\n",
    "            lambda data: hv.Points( data, kdims=['p','x'], group='XCoord'),\n",
    "            streams=[self.dfstream]).opts(color='p')\n",
    "        self.dmap_x = dmap_x.opts(self.xopts)\n",
    "        \n",
    "    def set_dmap_y(self):\n",
    "        dmap_y = hv.DynamicMap(\n",
    "            lambda data: hv.Points( data, kdims=['p','y'], group='YCoord'),\n",
    "            streams=[self.dfstream]).opts(color='p')\n",
    "        self.dmap_y = dmap_y.opts(self.yopts)\n",
    "    \n",
    "    \n",
    "    ################################################################################\n",
    "    # Display DynammicMaps\n",
    "    ################################################################################ \n",
    "    def viewable(self):\n",
    "        return self.overlay\n",
    "        \n"
   ]
  },
  {
   "cell_type": "markdown",
   "metadata": {},
   "source": [
    "### Define curve function"
   ]
  },
  {
   "cell_type": "code",
   "execution_count": null,
   "metadata": {},
   "outputs": [],
   "source": [
    "xfunc = lambda p: np.sin(2*np.pi*p)\n",
    "yfunc = lambda p: np.cos(2*np.pi*p)"
   ]
  },
  {
   "cell_type": "code",
   "execution_count": null,
   "metadata": {},
   "outputs": [],
   "source": [
    "# Try different functions\n",
    "xfunc = lambda p: np.sin(2*np.pi*p)**2\n",
    "yfunc = lambda p: np.cos(2*np.pi*p)"
   ]
  },
  {
   "cell_type": "code",
   "execution_count": null,
   "metadata": {},
   "outputs": [],
   "source": [
    "xfunc = lambda p: np.sin(2*np.pi*p)**10\n",
    "yfunc = lambda p: np.cos(2*np.pi*p)"
   ]
  },
  {
   "cell_type": "code",
   "execution_count": null,
   "metadata": {},
   "outputs": [],
   "source": [
    "# Alternating along a straight line \n",
    "xfunc = lambda p: np.sin(2*np.pi*p)**2\n",
    "yfunc = lambda p: np.cos(2*np.pi*p)**2"
   ]
  },
  {
   "cell_type": "code",
   "execution_count": null,
   "metadata": {},
   "outputs": [],
   "source": [
    "# Doesn't have to choose a periodic function\n",
    "xfunc = lambda p: np.log(p)\n",
    "yfunc = lambda p: p"
   ]
  },
  {
   "cell_type": "code",
   "execution_count": null,
   "metadata": {},
   "outputs": [],
   "source": [
    "# Something happens at p=0.5\n",
    "xfunc = lambda p: np.sin(2*np.pi*p**2)*p**3\n",
    "yfunc = lambda p: np.sin(np.pi*p**0.5)"
   ]
  },
  {
   "cell_type": "markdown",
   "metadata": {},
   "source": [
    "### Create the simulator for the curve"
   ]
  },
  {
   "cell_type": "code",
   "execution_count": null,
   "metadata": {},
   "outputs": [],
   "source": [
    "cfunc = lambda p: (xfunc(p), yfunc(p))\n",
    "c = CurveSimulator(cfunc)"
   ]
  },
  {
   "cell_type": "markdown",
   "metadata": {},
   "source": [
    "### Show the simulator"
   ]
  },
  {
   "cell_type": "code",
   "execution_count": null,
   "metadata": {},
   "outputs": [],
   "source": [
    "pn.Row(\n",
    "    pn.Param(c.param, width=500, widgets={\n",
    "        'p': pn.widgets.DiscretePlayer,\n",
    "        'reset': pn.widgets.Button(name=c.param['reset'].label),\n",
    "        't_interval': pn.widgets.FloatSlider\n",
    "    }),\n",
    "    pn.panel(c.viewable())\n",
    ")"
   ]
  },
  {
   "cell_type": "markdown",
   "metadata": {},
   "source": [
    "---\n",
    "### Spirograph\n",
    "Spirograph has a nice parametric equation we can try with our curve simulator. Since it has two parameters that generate different type of spirograph, let's create a subclass of CurveSimulator with these two extra parameters to play with."
   ]
  },
  {
   "cell_type": "markdown",
   "metadata": {},
   "source": [
    "![spirograph](../assets/spirograph.png)\n",
    "![spiro](../assets/spiro_equation.png)\n",
    "\n",
    "[src](https://upload.wikimedia.org/wikipedia/commons/9/90/Various_Spirograph_Designs.jpg)"
   ]
  },
  {
   "cell_type": "code",
   "execution_count": null,
   "metadata": {},
   "outputs": [],
   "source": [
    "class SpirographSimulator(CurveSimulator):\n",
    "\n",
    "    R = param.Number(label='R', default=1., \n",
    "                     doc=\"\"\"Radius of a circle (Doesn't affect the shape)\"\"\")\n",
    "    k = param.Number(label='k', default=0.5, bounds=(0., 1.), softbounds=(1e-4, 1.0),\n",
    "                     doc=\"\"\"Ratio between the radius of the inner circle to the outer one\"\"\")\n",
    "    l = param.Number(label='l', default=0.5, bounds=(0., 1.),\n",
    "                     doc=\"\"\"Parameter for how far the point A is located from the inner circle\"\"\")\n",
    "    \n",
    "    def __init__(self, **kwargs):\n",
    "        self.temp_count = defaultdict(int)\n",
    "        self._update_cfunc()\n",
    "        super().__init__(self.cfunc, **kwargs)\n",
    "        \n",
    "    @param.depends('k','R','l', watch=True)\n",
    "    def _update_cfunc(self):\n",
    "        self.temp_count['cfunc'] += 1\n",
    "        xfunc = lambda p: self.R*( (1-self.k)*np.cos(2*np.pi*p) + self.l*self.k*np.cos( ((1-self.k)/self.k)*2*np.pi*p))\n",
    "        yfunc = lambda p: self.R*( (1-self.k)*np.sin(2*np.pi*p) + self.l*self.k*np.sin( ((1-self.k)/self.k)*2*np.pi*p))\n",
    "        cfunc = lambda p: (xfunc(p), yfunc(p))\n",
    "        self.cfunc = cfunc\n",
    "        \n",
    "        "
   ]
  },
  {
   "cell_type": "code",
   "execution_count": null,
   "metadata": {},
   "outputs": [],
   "source": [
    "spiro = SpirographSimulator()"
   ]
  },
  {
   "cell_type": "markdown",
   "metadata": {},
   "source": [
    "Try different values of $k$ and $l$\n",
    "eg: \n",
    "- $k, l=0.5, 0.5 $  --> circle\n",
    "- $k, l = 0.1, 0.5$\n",
    "- $k, l = 0.8, 0.5$"
   ]
  },
  {
   "cell_type": "code",
   "execution_count": null,
   "metadata": {},
   "outputs": [],
   "source": [
    "# Create the widgets\n",
    "pn.Row(\n",
    "    pn.Param(spiro.param, width=500, widgets={\n",
    "        'p': pn.widgets.DiscretePlayer,\n",
    "        'reset': pn.widgets.Button,\n",
    "        'k': pn.widgets.FloatSlider(name=spiro.param.k.label,\n",
    "                                    value=spiro.k, \n",
    "                                    #callback_policy=\"mouseup\" \n",
    "                                   ),\n",
    "        'l': pn.widgets.FloatSlider(name=spiro.param.l.label,\n",
    "                                    value=spiro.l, \n",
    "                                    #callback_policy=\"mouseup\"\n",
    "                                    ),\n",
    "    }),\n",
    "    pn.panel(spiro.viewable())\n",
    ")"
   ]
  },
  {
   "cell_type": "code",
   "execution_count": null,
   "metadata": {},
   "outputs": [],
   "source": []
  }
 ],
 "metadata": {
  "kernelspec": {
   "display_name": "Python [conda env:aiviz]",
   "language": "python",
   "name": "conda-env-aiviz-py"
  },
  "language_info": {
   "codemirror_mode": {
    "name": "ipython",
    "version": 3
   },
   "file_extension": ".py",
   "mimetype": "text/x-python",
   "name": "python",
   "nbconvert_exporter": "python",
   "pygments_lexer": "ipython3",
   "version": "3.7.3"
  }
 },
 "nbformat": 4,
 "nbformat_minor": 2
}
