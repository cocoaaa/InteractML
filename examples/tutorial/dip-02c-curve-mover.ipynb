{
 "cells": [
  {
   "cell_type": "code",
   "execution_count": null,
   "metadata": {},
   "outputs": [],
   "source": [
    "%load_ext autoreload\n",
    "%autoreload 2\n",
    "\n",
    "import os, sys, time\n",
    "import numpy as np\n",
    "import scipy as sp\n",
    "import pandas as pd\n",
    "import intake\n",
    "    \n",
    "from pathlib import Path\n",
    "from pprint import pprint as pp\n",
    "p = print \n",
    "\n",
    "from sklearn.externals import joblib\n",
    "import pdb\n",
    "\n",
    "import matplotlib.pyplot as plt\n",
    "%matplotlib inline\n",
    "\n",
    "# ignore warnings\n",
    "import warnings\n",
    "if not sys.warnoptions:\n",
    "    warnings.simplefilter('ignore')\n",
    "    \n",
    "# Don't generate bytecode\n",
    "sys.dont_write_bytecode = True"
   ]
  },
  {
   "cell_type": "code",
   "execution_count": null,
   "metadata": {},
   "outputs": [],
   "source": [
    "import holoviews as hv\n",
    "import xarray as xr\n",
    "\n",
    "from holoviews import opts\n",
    "from holoviews.operation.datashader import datashade, shade, dynspread, rasterize\n",
    "from holoviews.streams import *\n",
    "from holoviews import streams\n",
    "\n",
    "import panel as pn\n",
    "hv.notebook_extension('bokeh')\n",
    "hv.Dimension.type_formatters[np.datetime64] = '%Y-%m-%d'\n",
    "pn.extension()"
   ]
  },
  {
   "cell_type": "code",
   "execution_count": null,
   "metadata": {},
   "outputs": [],
   "source": [
    "# Add the utils directory to the search path\n",
    "UTILS_DIR = Path('../utils').absolute()\n",
    "assert UTILS_DIR.exists()\n",
    "if str(UTILS_DIR) not in sys.path:\n",
    "    sys.path.insert(0, str(UTILS_DIR))\n",
    "    print(f\"Added {str(UTILS_DIR)} to sys.path\")\n",
    "\n",
    "pp(sys.path)\n",
    "    "
   ]
  },
  {
   "cell_type": "code",
   "execution_count": null,
   "metadata": {},
   "outputs": [],
   "source": [
    "from utils import get_mro as mro, nprint\n",
    "import utils\n",
    "from config import Config"
   ]
  },
  {
   "cell_type": "code",
   "execution_count": null,
   "metadata": {},
   "outputs": [],
   "source": [
    "# Grab registered bokeh renderer\n",
    "print(\"Currently available renderers: \", *hv.Store.renderers.keys())\n",
    "renderer = hv.renderer('bokeh')"
   ]
  },
  {
   "cell_type": "markdown",
   "metadata": {},
   "source": [
    "To deinf a curve on a plane (ie. planary curve) we need\n",
    "- parameter, eg. p $\\in [0,1]$\n",
    "- two functions $x(p)$ and $y(p)$, which define the coordinate of the point $C(p)$ in x and y axis, respectively"
   ]
  },
  {
   "cell_type": "code",
   "execution_count": null,
   "metadata": {},
   "outputs": [],
   "source": [
    "class Curve():\n",
    "    \"\"\"\n",
    "    Explicit Curve representation using parametrization \n",
    "    \n",
    "    #- xfunc\n",
    "    #- yfunc\n",
    "    - data: ndarray of shape n_points x 2 \n",
    "    - n_points: number of sampled points on the curve)\n",
    "    - ps: curve parameter ps, 1-dimensional \n",
    "\n",
    "    ---\n",
    "    - set_data(self, new_data):\n",
    "    - reset(self):\n",
    "        self.set_data(np.zeros_like(curve's npoints)\n",
    "    \n",
    "    - compute_tangents(self):\n",
    "        \n",
    "    - compute_normals(self):\n",
    "    \n",
    "    \"\"\"\n",
    "    \n",
    "    ################################################################################\n",
    "    # Initialization\n",
    "    ###############################################################################\n",
    "    def __init__(self, ps, data):\n",
    "        self.n_points = len(ps)\n",
    "        self.data = self.to_df(ps,data)\n",
    "        \n",
    "    @classmethod\n",
    "    def fromPoints(cls, ps, points):\n",
    "        \"\"\"\n",
    "        Args:\n",
    "        - points (2dim ndarray): two dimensional ndarray of points. Each column corresponds\n",
    "        to x and y coordinates\n",
    "        \"\"\"\n",
    "        return cls(ps, points)\n",
    "    \n",
    "    @classmethod\n",
    "    def fromFunctions(cls, ps, xfunc, yfunc):\n",
    "        \"\"\"\n",
    "        Args:\n",
    "        - xfunc (callable): given input of a float or a list of floats,\n",
    "            returns a list of float(s) representing the xcoordinate(s)\n",
    "        - yfunc (callable): similar to xfunc, but returns ycoordinate(s)\n",
    "        \n",
    "        \"\"\"\n",
    "        data = np.c_[xfunc(ps), yfunc(ps)]\n",
    "        return cls(ps, data)\n",
    "    \n",
    "    @classmethod\n",
    "    def fromDF(cls, df):\n",
    "        \"\"\"\n",
    "        Args:\n",
    "        - df (pd.DataFrame): has information on the parameter space and xy coordinates \n",
    "            - must have three columns representing 'p','x','y'\n",
    "        \"\"\"\n",
    "        if df.shape[1] != 3:\n",
    "            raise ValueError (f\"\"\"\n",
    "            Input df must have three columns representing the parameter p, xcoord, and ycoord:\n",
    "            {df.shape[1]}\n",
    "            \"\"\")\n",
    "        ps, data = df.iloc[:,0], df.iloc[:,[1,2]]\n",
    "        return cls(ps, data)\n",
    "    \n",
    "    @classmethod\n",
    "    def fromConfig(cls, config, data):\n",
    "        \"\"\"\n",
    "        Args:\n",
    "        - config (dict or Config)\n",
    "            - keys: n_points, prange\n",
    "        \"\"\"\n",
    "        ps = np.linspace(*config.p_range, num=config.n_points)\n",
    "        return cls(ps, data)\n",
    "    \n",
    "    @staticmethod\n",
    "    def to_df(ps, data):\n",
    "        if isinstance(ps, pd.DataFrame):\n",
    "            ps = ps.to_numpy()\n",
    "        if isinstance(data, pd.DataFrame):\n",
    "            data = data.to_numpy()\n",
    "        return pd.DataFrame({'p': ps, 'x': data[:,0], 'y':data[:,1]})\n",
    "        \n",
    "    ################################################################################\n",
    "    # Tangents and Normals\n",
    "    ###############################################################################\n",
    "    def compute_tangents(self):\n",
    "        \"\"\"\n",
    "        Estimate tangent vectors \\vec{t}(p) at each parameter p's values\n",
    "        using central finite difference \n",
    "            - assumes neighboring p values are mapped to neighboring points\n",
    "            on the curve\n",
    "        \"\"\"\n",
    "        pass\n",
    "    \n",
    "    def compute_normals(self):\n",
    "        \"\"\"\n",
    "        Estimate normal vectors based on the computed tangent vectors \n",
    "        by rotating tangents 90 degrees counterclockwise\n",
    "        \"\"\"\n",
    "        pass\n",
    "\n",
    "    ###############################################################################\n",
    "    # Visualization\n",
    "    ###############################################################################\n",
    "    def hvplot(self):\n",
    "        #hv.Points\n",
    "        return (\n",
    "            hv.Points(self.data).opts(padding=0.1, width=300, height=300, size=3, color='black')\n",
    "        )\n",
    "    def reset(self):\n",
    "        pass\n",
    "    "
   ]
  },
  {
   "cell_type": "code",
   "execution_count": null,
   "metadata": {},
   "outputs": [],
   "source": [
    "%opts Points [tools=['hover'], active_tools=['wheel_zoom']]"
   ]
  },
  {
   "cell_type": "code",
   "execution_count": null,
   "metadata": {},
   "outputs": [],
   "source": [
    "# Test1: Curve(ps, points) or Curve.fromPoints(ps, points)\n",
    "def test_curve_fromPoints():\n",
    "    ps = np.linspace(0,1,5)\n",
    "    points = np.array([(0,0),(0,1),(1,0),(1,-1),(-1,1)])\n",
    "    c1 = Curve(ps,points)\n",
    "    c2 = Curve.fromPoints(ps, points)\n",
    "    display(c1.hvplot())\n",
    "    display(c2.hvplot())\n",
    "# test_curve_fromPoints()"
   ]
  },
  {
   "cell_type": "code",
   "execution_count": null,
   "metadata": {},
   "outputs": [],
   "source": [
    "# Test2: Curve.fromeFunctions(ps, xfunc, yfunc)\n",
    "def test_curve_fromFunctions():\n",
    "    ps = np.linspace(0,1,5)\n",
    "    xfunc = lambda p: p\n",
    "    yfunc = lambda p: [0]*len(p)\n",
    "    \n",
    "    c = Curve.fromFunctions(ps,xfunc, yfunc)\n",
    "    display(c.hvplot())\n",
    "# test_curve_fromFunctions()"
   ]
  },
  {
   "cell_type": "code",
   "execution_count": null,
   "metadata": {},
   "outputs": [],
   "source": [
    "# Test3: Curve.fromDF(df)\n",
    "def test_curve_fromDF():\n",
    "    ps = np.linspace(0,1,5)\n",
    "    points = np.array([(0,0),(0,1),(1,0),(1,-1),(-1,1)])\n",
    "    df = pd.DataFrame({'p': ps, 'x': points[:,0], 'y':points[:,1]})\n",
    "    c = Curve.fromDF(df)\n",
    "    display(c.hvplot())\n",
    "# test_curve_fromDF()"
   ]
  },
  {
   "cell_type": "code",
   "execution_count": null,
   "metadata": {},
   "outputs": [],
   "source": [
    "# Test4: Curve.fromConfig\n",
    "## c = Curve(config, data)\n",
    "def test_curve_fromConfig():\n",
    "    from config import Config\n",
    "\n",
    "    ps = np.linspace(0,1,5)\n",
    "    ps_config = Config(n_points=5,p_range=(0,2*np.pi))\n",
    "    points = np.array([(0,0),(0,1),(1,0),(1,-1),(-1,1)])\n",
    "    df = pd.DataFrame({'p': ps, 'x': points[:,0], 'y':points[:,1]})\n",
    "    c = Curve.fromConfig(ps_config, points)\n",
    "    c.show()\n",
    "# test_curve_fromConfig()"
   ]
  },
  {
   "cell_type": "code",
   "execution_count": null,
   "metadata": {},
   "outputs": [],
   "source": []
  },
  {
   "cell_type": "code",
   "execution_count": null,
   "metadata": {},
   "outputs": [],
   "source": [
    "class CurveGen(param.Parametrized):\n",
    "    \"\"\"\n",
    "    Explicit Curve representation using parametrization \n",
    "    \n",
    "    #- xfunc\n",
    "    #- yfunc\n",
    "    - data (n_points by 2 ndarray)\n",
    "    - n_points (number of sampled points on the curve)\n",
    "    - p (curve parameter)'s range\n",
    "    \n",
    "    ---\n",
    "    - set_data(self, new_data):\n",
    "    - reset(self):\n",
    "        self.set_data(np.zeros_like(curve's npoints)\n",
    "    \n",
    "    - compute_tangents(self):\n",
    "        \n",
    "    - compute_normals(self):\n",
    "    \n",
    "    \"\"\"\n",
    "    p_range = param.Range(default=(0,1), label=\"parameter p's range\")\n",
    "    n_points = param.Integer(default=100, label='Number of sampled points on the curve')\n",
    "    p = param.Selector(objects=np.linspace(*p_range, num=n_points.default))\n",
    "    \n",
    "    @param.depends('n_points', 'prange')\n",
    "    def _reset_param_p(self):\n",
    "        p.objects = np.linspace(*self.p_range, num=self.n_points)\n",
    "                       \n",
    "                       \n",
    "    ################################################################################\n",
    "    # Initialization\n",
    "    ###############################################################################\n",
    "    def __init__(self):\n",
    "        super().__init__() #(*args, **kwargs)?\n",
    "        ps = p.objects\n",
    "        curve = Curve(ps,[])\n",
    "        \n",
    "        pass\n",
    "    \n",
    "    def compute_tangents(self):\n",
    "        \"\"\"\n",
    "        Estimate tangent vectors \\vec{t}(p) at each parameter p's values\n",
    "        using central finite difference \n",
    "            - assumes neighboring p values are mapped to neighboring points\n",
    "            on the curve\n",
    "        \n",
    "        \"\"\"\n",
    "        pass\n",
    "    \n",
    "    def compute_normals(self):\n",
    "        \"\"\"\n",
    "        Estimate normal vectors based on the computed tangent vectors \n",
    "        by rotating tangents 90 degrees counterclockwise\n",
    "        \"\"\"\n",
    "        pass\n",
    "    \n",
    "    def show(self):\n",
    "        #hv.Points\n",
    "        pass\n",
    "    def reset(self):\n",
    "            "
   ]
  },
  {
   "cell_type": "code",
   "execution_count": null,
   "metadata": {},
   "outputs": [],
   "source": [
    "class CurveViewer(param.Parametrized):\n",
    "    "
   ]
  },
  {
   "cell_type": "code",
   "execution_count": null,
   "metadata": {},
   "outputs": [],
   "source": [
    "ps = np.linspace(0,1,5)\n",
    "points = np.array([(0,0),(0,1),(1,0),(1,-1),(-1,1)])\n",
    "df = pd.DataFrame({'p': ps, 'x': points[:,0], 'y':points[:,1]})\n",
    "c = Curve.fromDF(df)\n",
    "\n",
    "hv.DynamicMap(lambda p: c.hvplot() * hv.Points( ["
   ]
  },
  {
   "cell_type": "code",
   "execution_count": null,
   "metadata": {},
   "outputs": [],
   "source": [
    "class CurveMover(param.Parametrized):\n",
    "    \"\"\"\n",
    "    \n",
    "    \"\"\"\n",
    "    def __init__(self):\n",
    "        \"\"\"\n",
    "        curves (list): n_curves by n_points (ie. parameter p's resolution)\n",
    "        time (float):\n",
    "        \n",
    "        \"\"\"\n",
    "        super().__init__()\n",
    "        pass\n",
    "    \n",
    "    def move(self, curve, V):\n",
    "        \"\"\"\n",
    "        V: external velocity field at each point on the curve\n",
    "         - V is a function of p, the curve parameter\n",
    "         - or a ndarray of the same shape as any curve c's c.data,\n",
    "             ie. self.curves.shape[1]\n",
    "        \"\"\"\n",
    "        if V is callable: \n",
    "            evaluate V at each point p\n",
    "        return curve.clone().set_data(curve.data + V) #check if .clone() is the right function in param.Parametrized \n",
    "    \n",
    "            \n",
    "        \n"
   ]
  },
  {
   "cell_type": "code",
   "execution_count": null,
   "metadata": {},
   "outputs": [],
   "source": [
    "# Tensorboard\n",
    "%load_ext tensorboard"
   ]
  },
  {
   "cell_type": "code",
   "execution_count": null,
   "metadata": {},
   "outputs": [],
   "source": [
    "%tensorboard --logdir ../logs/\n"
   ]
  },
  {
   "cell_type": "code",
   "execution_count": null,
   "metadata": {},
   "outputs": [],
   "source": []
  },
  {
   "cell_type": "code",
   "execution_count": null,
   "metadata": {},
   "outputs": [],
   "source": []
  },
  {
   "cell_type": "code",
   "execution_count": null,
   "metadata": {},
   "outputs": [],
   "source": []
  },
  {
   "cell_type": "code",
   "execution_count": null,
   "metadata": {},
   "outputs": [],
   "source": []
  },
  {
   "cell_type": "code",
   "execution_count": null,
   "metadata": {},
   "outputs": [],
   "source": []
  },
  {
   "cell_type": "code",
   "execution_count": null,
   "metadata": {},
   "outputs": [],
   "source": []
  },
  {
   "cell_type": "code",
   "execution_count": null,
   "metadata": {},
   "outputs": [],
   "source": []
  },
  {
   "cell_type": "code",
   "execution_count": null,
   "metadata": {},
   "outputs": [],
   "source": []
  },
  {
   "cell_type": "code",
   "execution_count": null,
   "metadata": {},
   "outputs": [],
   "source": []
  },
  {
   "cell_type": "code",
   "execution_count": null,
   "metadata": {},
   "outputs": [],
   "source": []
  },
  {
   "cell_type": "code",
   "execution_count": null,
   "metadata": {},
   "outputs": [],
   "source": []
  },
  {
   "cell_type": "code",
   "execution_count": null,
   "metadata": {},
   "outputs": [],
   "source": []
  },
  {
   "cell_type": "code",
   "execution_count": null,
   "metadata": {},
   "outputs": [],
   "source": []
  },
  {
   "cell_type": "code",
   "execution_count": null,
   "metadata": {},
   "outputs": [],
   "source": []
  }
 ],
 "metadata": {
  "kernelspec": {
   "display_name": "Python [conda env:aiviz]",
   "language": "python",
   "name": "conda-env-aiviz-py"
  },
  "language_info": {
   "codemirror_mode": {
    "name": "ipython",
    "version": 3
   },
   "file_extension": ".py",
   "mimetype": "text/x-python",
   "name": "python",
   "nbconvert_exporter": "python",
   "pygments_lexer": "ipython3",
   "version": "3.7.3"
  }
 },
 "nbformat": 4,
 "nbformat_minor": 2
}
