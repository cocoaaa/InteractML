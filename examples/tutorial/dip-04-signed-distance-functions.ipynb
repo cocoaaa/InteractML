{
 "cells": [
  {
   "cell_type": "markdown",
   "metadata": {},
   "source": [
    "Modified: Jul 20, 2019\n",
    "\n",
    "# Sign Distance Function & Gradient field visualization\n",
    "- Visualize various sdfs and its gradient fields\n",
    "- Enable to explore the parameter spaces of the sdfs using `params`\n",
    "\n"
   ]
  },
  {
   "cell_type": "code",
   "execution_count": null,
   "metadata": {},
   "outputs": [],
   "source": [
    "%load_ext autoreload\n",
    "%autoreload 2\n",
    "\n",
    "import os, sys, time\n",
    "import numpy as np\n",
    "import scipy as sp\n",
    "from scipy.signal import correlate2d\n",
    "import pandas as pd\n",
    "    \n",
    "from pathlib import Path\n",
    "from pprint import pprint as pp\n",
    "\n",
    "from sklearn.externals import joblib\n",
    "import pdb\n",
    "\n",
    "import matplotlib.pyplot as plt\n",
    "%matplotlib inline\n",
    "\n",
    "# ignore warnings\n",
    "import warnings\n",
    "if not sys.warnoptions:\n",
    "    warnings.simplefilter('ignore')\n",
    "    \n",
    "# Don't generate bytecode\n",
    "sys.dont_write_bytecode = True"
   ]
  },
  {
   "cell_type": "code",
   "execution_count": null,
   "metadata": {},
   "outputs": [],
   "source": [
    "import holoviews as hv\n",
    "import xarray as xr\n",
    "\n",
    "from holoviews import opts, dim\n",
    "from holoviews.operation.datashader import datashade, shade, dynspread, rasterize\n",
    "from holoviews.streams import Stream, param\n",
    "from holoviews import streams\n",
    "\n",
    "import panel as pn\n",
    "\n",
    "\n",
    "hv.notebook_extension('bokeh')\n",
    "hv.Dimension.type_formatters[np.datetime64] = '%Y-%m-%d'\n",
    "pn.extension()"
   ]
  },
  {
   "cell_type": "code",
   "execution_count": null,
   "metadata": {},
   "outputs": [],
   "source": [
    "# Add the utils directory to the search path\n",
    "UTILS_DIR = Path('../utils').absolute()\n",
    "assert UTILS_DIR.exists()\n",
    "if str(UTILS_DIR) not in sys.path:\n",
    "    sys.path.insert(0, str(UTILS_DIR))\n",
    "    print(f\"Added {str(UTILS_DIR)} to sys.path\")\n"
   ]
  },
  {
   "cell_type": "code",
   "execution_count": null,
   "metadata": {},
   "outputs": [],
   "source": [
    "from utils import get_mro as mro, nprint\n",
    "import utils as u\n",
    "\n",
    "## sdf functions\n",
    "from sdfs import *\n",
    "# from vector import Vector as vec"
   ]
  },
  {
   "cell_type": "markdown",
   "metadata": {},
   "source": [
    "### Set visualization options"
   ]
  },
  {
   "cell_type": "code",
   "execution_count": null,
   "metadata": {},
   "outputs": [],
   "source": [
    "%opts Image [colorbar=True, active_tools=['wheel_zoom'], tools=['hover']] Curve [tools=['hover'], active_tools=['wheel_zoom']] RGB [active_tools=['wheel_zoom'], tools=['hover']]"
   ]
  },
  {
   "cell_type": "code",
   "execution_count": null,
   "metadata": {},
   "outputs": [],
   "source": [
    "H, W = 300,300\n",
    "img_opts = opts.Image(height=H, width=W, colorbar_position='bottom')\n",
    "vfield_opts = opts.VectorField(width=W, height=H, color='Magnitude',\n",
    "#                                magnitude=dim('Magnitude').norm()*0.2,\n",
    "                               pivot='tip',\n",
    "                               rescale_lengths=True)\n",
    "curve_opts = opts.Points(size=5,width=W, height=H, padding=0.1, \n",
    "#                             xlim=(-10,10), ylim=(-10,10),\n",
    "#                         color=dim('p')*256-50\n",
    "                        )\n",
    "contour_opts = opts.Contours(width=W, height=H, \n",
    "                             colorbar=False, \n",
    "                             tools=['hover'])"
   ]
  },
  {
   "cell_type": "code",
   "execution_count": null,
   "metadata": {},
   "outputs": [],
   "source": [
    "# Grab registered bokeh renderer\n",
    "print(\"Currently available renderers: \", *hv.Store.renderers.keys())\n",
    "renderer = hv.renderer('bokeh')"
   ]
  },
  {
   "cell_type": "markdown",
   "metadata": {},
   "source": [
    "### SDF evaluation wrapper\n",
    "- a wrapper to evaluate zz from sdf functions on the given x,y plane defined by `xs` and `ys`\n"
   ]
  },
  {
   "cell_type": "code",
   "execution_count": null,
   "metadata": {},
   "outputs": [],
   "source": [
    "def eval_sdf(xs, ys, sdFunc):\n",
    "    zz = np.empty( (len(ys), len(xs)) )\n",
    "    \n",
    "    for j in range(len(ys)):\n",
    "        for i in range(len(xs)):\n",
    "            q = vec(xs[i],ys[j])\n",
    "            zz[j,i] = sdFunc(q)\n",
    "    return zz"
   ]
  },
  {
   "cell_type": "markdown",
   "metadata": {},
   "source": [
    "## SDF explorer"
   ]
  },
  {
   "cell_type": "code",
   "execution_count": null,
   "metadata": {},
   "outputs": [],
   "source": [
    "partial_sdfs = [sdUnitHline, sdUnitCircle]\n",
    "for f in partial_sdfs:\n",
    "    print (f)\n",
    "    functools.update_wrapper(f, f.func)\n",
    "print(partial_sdfs)"
   ]
  },
  {
   "cell_type": "code",
   "execution_count": null,
   "metadata": {},
   "outputs": [],
   "source": [
    "# functions that takes more than the query vector as arguments\n",
    "generic_sdfs = [ sdLine, sdCircle, sdEquilateralTriangle, sdTriangle, sdStar]\n",
    "nprint(partial_sdfs + generic_sdfs )"
   ]
  },
  {
   "cell_type": "code",
   "execution_count": null,
   "metadata": {},
   "outputs": [],
   "source": [
    "# for f in partial_sdfs + generic_sdfs :\n",
    "#     print(f)"
   ]
  },
  {
   "cell_type": "code",
   "execution_count": null,
   "metadata": {},
   "outputs": [],
   "source": [
    "# sdfs to explore\n",
    "sdfs = [ f for f in partial_sdfs + generic_sdfs ]\n",
    "from bokeh.palettes import GnBu9\n",
    "from collections import defaultdict\n",
    "from functools import wraps"
   ]
  },
  {
   "cell_type": "code",
   "execution_count": null,
   "metadata": {},
   "outputs": [],
   "source": [
    "# # Cache decorator for sdf's to be used in sdf explorer (ie. the key to the cache is the current sdf's parameter settings\n",
    "# # Reference: https://is.gd/77xA20\n",
    "# def memoize(orig_func):\n",
    "#     memo = {}\n",
    "#     @wraps(orig_func)\n",
    "#     def wrapper(*args, **kwargs):\n",
    "#         try:\n",
    "# #             memo[...] # handling the key (as the class's properties is hard..)\n",
    "#             result = orig_func(*args, **kwargs)\n",
    "#             return result\n",
    "    \n",
    "#     return wrapper\n"
   ]
  },
  {
   "cell_type": "code",
   "execution_count": null,
   "metadata": {},
   "outputs": [],
   "source": [
    "CACHE = {}\n",
    "HITS = defaultdict(int)"
   ]
  },
  {
   "cell_type": "code",
   "execution_count": null,
   "metadata": {},
   "outputs": [],
   "source": [
    "class sdfExplorer(param.Parameterized):\n",
    "    \n",
    "    ################################################################################\n",
    "    # Instance Parameters\n",
    "    ################################################################################\n",
    "    xrange = param.Range(default=(-2,2), bounds=(-10,10))\n",
    "    yrange = param.Range(default=(-2,2), bounds=(-10,10))\n",
    "    n_points = param.Integer(default=100, label='Number of points per axis')\n",
    "    show_gradfield = param.Boolean(default=True, label='Show gradient field')\n",
    "    sdf = param.Selector( objects=partial_sdfs, label='SDF')\n",
    "\n",
    "    \n",
    "    ################################################################################\n",
    "    # Constant class properties\n",
    "    ################################################################################\n",
    "    H, W = 500,500\n",
    "    img_opts = opts.Image(height=H, width=W, colorbar_position='bottom')\n",
    "    vfield_opts = opts.VectorField(width=W, height=H, color='Magnitude',\n",
    "                                   pivot='tip',\n",
    "                                   rescale_lengths=True)\n",
    "    contour_opts = opts.Contours(width=W, height=H, \n",
    "                                 colorbar=False, \n",
    "                                 cmap='gray',\n",
    "                                 tools=['hover'])\n",
    "    overlay_opts = opts.Overlay(width=W, height=H)\n",
    "    \n",
    "    \n",
    "    ################################################################################\n",
    "    # Initialization\n",
    "    ################################################################################\n",
    "    def __init__(self, **kwargs):\n",
    "        super().__init__(**kwargs)\n",
    "        self.kernel = kwargs.get('kernel', np.array([[-0.5, 0, 0.5]]) )\n",
    "        self.set_dmap_overlay()\n",
    "    \n",
    "    \n",
    "    ################################################################################\n",
    "    # Holoviews components, Parmaeter Dependencies\n",
    "    ################################################################################\n",
    "    @param.depends(\"xrange\", \"yrange\", \"n_points\", \"sdf\", watch=True)\n",
    "    def get_img(self):\n",
    "        xs = np.linspace(*self.xrange,num=self.n_points)\n",
    "        ys = np.linspace(*self.yrange,num=self.n_points)\n",
    "        key = str(self.xrange, self.yrange, self.n_points, self.sdf)\n",
    "\n",
    "        try:\n",
    "            zz = CACHE[key]\n",
    "            HITS[key] += 1\n",
    "\n",
    "        except KeyError:\n",
    "            zz = eval_sdf(xs, ys, self.sdf)\n",
    "            CACHE[key] = zz\n",
    "        \n",
    "        zz_img = hv.Image( (xs, ys, zz) ) \\\n",
    "                    .opts(self.img_opts)\\\n",
    "                    .opts(xlim=self.xrange, ylim=self.yrange)\n",
    "        zz_contour_op = lambda: hv.operation.contours(zz_img, levels=0) \\\n",
    "                    .opts(self.contour_opts) \\\n",
    "                    .opts(xlim=self.xrange, ylim=self.yrange)\n",
    "        return zz_img * zz_contour\n",
    "\n",
    "        # compute gradients\n",
    "        gradx = correlate2d(zz, self.kernel, mode='same')\n",
    "        grady = correlate2d(zz, self.kernel.T, mode='same')\n",
    "        ang, mag = u.UV2angMag(gradx, grady)\n",
    "        \n",
    "        gradfield_op = lambda: hv.VectorField((xs, ys, ang, mag)).opts(self.vfield_opts)\n",
    "        \n",
    "        dmap_img = datashade(zz_img, cmap=GnBu9) * hv.DynamicMap(zz_contour_op)\n",
    "        dmap_gradfield = hv.DynamicMap(gradfield_op)\n",
    "        \n",
    "        self.dmap_img = dmap_img\n",
    "        self.dmap_gradfield = dmap_gradfield\n",
    "        \n",
    "        return dmap_img * dmap_gradfield\n",
    "    \n",
    "    ################################################################################\n",
    "    # Display DynammicMaps\n",
    "    ################################################################################ \n",
    "#     @param.depends(\"show_gradfield\", watch=True)\n",
    "    def viewable(self):\n",
    "        return self.dmap_img"
   ]
  },
  {
   "cell_type": "code",
   "execution_count": null,
   "metadata": {},
   "outputs": [],
   "source": [
    "class sdfExplorer2(param.Parameterized):\n",
    "    \n",
    "    ################################################################################\n",
    "    # Instance Parameters\n",
    "    ################################################################################\n",
    "    xrange = param.Range(default=(-2,2), bounds=(-10,10))\n",
    "    yrange = param.Range(default=(-2,2), bounds=(-10,10))\n",
    "    n_points = param.Integer(default=100, label='Number of points per axis')\n",
    "    show_gradfield = param.Boolean(default=True, label='Show gradient field')\n",
    "    sdf = param.Selector( objects=partial_sdfs, label='SDF')\n",
    "\n",
    "    \n",
    "    ################################################################################\n",
    "    # Constant class properties\n",
    "    ################################################################################\n",
    "    H, W = 500,500\n",
    "    img_opts = opts.Image(height=H, width=W, colorbar_position='bottom')\n",
    "    vfield_opts = opts.VectorField(width=W, height=H, color='Magnitude',\n",
    "                                   pivot='tip',\n",
    "                                   rescale_lengths=True)\n",
    "    contour_opts = opts.Contours(width=W, height=H, \n",
    "                                 colorbar=False, \n",
    "                                 cmap='gray',\n",
    "                                 tools=['hover'])\n",
    "    overlay_opts = opts.Overlay(width=W, height=H)\n",
    "    \n",
    "    \n",
    "    ################################################################################\n",
    "    # Initialization\n",
    "    ################################################################################\n",
    "    def __init__(self, **kwargs):\n",
    "        super().__init__(**kwargs)\n",
    "        self.count = defaultdict(int)\n",
    "        self.kernel = kwargs.get('kernel', np.array([[-0.5, 0, 0.5]]) )\n",
    "\n",
    "        self.dmap_img = hv.DynamicMap(self.get_img)\n",
    "        self.dmap_gradfield = hv.DynamicMap(self.get_gradfield)\n",
    "        self.set_viewable()\n",
    "    \n",
    "    \n",
    "    ################################################################################\n",
    "    # Holoviews components, Parmaeter Dependencies\n",
    "    ################################################################################\n",
    "    \n",
    "    @param.depends(\"xrange\", \"yrange\", \"n_points\", \"sdf\", watch=True)\n",
    "    def get_img(self):\n",
    "        self.count['get_img'] += 1\n",
    "        xs = np.linspace(*self.xrange,num=self.n_points)\n",
    "        ys = np.linspace(*self.yrange,num=self.n_points)\n",
    "        key = str((self.xrange, self.yrange, self.n_points, self.sdf))\n",
    "\n",
    "        try:\n",
    "            zz = CACHE[key]\n",
    "            HITS[key] += 1\n",
    "\n",
    "        except KeyError:\n",
    "            zz = eval_sdf(xs, ys, self.sdf)\n",
    "            CACHE[key] = zz\n",
    "        \n",
    "        zz_img = hv.Image( (xs, ys, zz) ).opts(self.img_opts) \\\n",
    "                    .opts(xlim=self.xrange, ylim=self.yrange)\n",
    "        zz_contour = hv.operation.contours(zz_img, levels=0).opts(self.contour_opts) \\\n",
    "                    .opts(xlim=self.xrange, ylim=self.yrange)\n",
    "        return zz_img * zz_contour\n",
    "    \n",
    "    @param.depends(\"xrange\", \"yrange\", \"n_points\", \"sdf\", watch=True)\n",
    "    def get_gradfield(self):\n",
    "        self.count['get_gradfield'] += 1\n",
    "        xs = np.linspace(*self.xrange,num=self.n_points)\n",
    "        ys = np.linspace(*self.yrange,num=self.n_points)\n",
    "        key = str((self.xrange, self.yrange, self.n_points, self.sdf))\n",
    "\n",
    "        try:\n",
    "            zz = CACHE[key]\n",
    "            HITS[key] += 1\n",
    "\n",
    "        except KeyError:\n",
    "            zz = eval_sdf(xs, ys, self.sdf)\n",
    "            CACHE[key] = zz\n",
    "            \n",
    "        # compute gradients\n",
    "        gradx = correlate2d(zz, self.kernel, mode='same')\n",
    "        grady = correlate2d(zz, self.kernel.T, mode='same')\n",
    "        ang, mag = u.UV2angMag(gradx, grady)\n",
    "        \n",
    "        gradfield = hv.VectorField((xs, ys, ang, mag)).opts(self.vfield_opts)\n",
    "        return gradfield\n",
    "    \n",
    "    @param.depends('show_gradfield', watch=True)\n",
    "    def set_viewable(self):\n",
    "        self.count['make_viewable'] += 1\n",
    "        if self.show_gradfield:\n",
    "            self.viewable = self.dmap_img * self.dmap_gradfield\n",
    "        else:\n",
    "            self.viewable = hv.DynamicMap(self.dmap_img)\n",
    "    \n",
    "    ################################################################################\n",
    "    # Display DynammicMaps\n",
    "    ################################################################################ \n",
    "    def viewable(self):\n",
    "        return self.viewable\n",
    "        "
   ]
  },
  {
   "cell_type": "code",
   "execution_count": null,
   "metadata": {},
   "outputs": [],
   "source": [
    "ex = sdfExplorer2()"
   ]
  },
  {
   "cell_type": "code",
   "execution_count": null,
   "metadata": {},
   "outputs": [],
   "source": [
    "pn.Column(\n",
    "    pn.Param(ex.param), \n",
    "    pn.panel(ex.viewable())\n",
    ")"
   ]
  },
  {
   "cell_type": "code",
   "execution_count": null,
   "metadata": {},
   "outputs": [],
   "source": []
  },
  {
   "cell_type": "code",
   "execution_count": null,
   "metadata": {},
   "outputs": [],
   "source": []
  },
  {
   "cell_type": "code",
   "execution_count": null,
   "metadata": {},
   "outputs": [],
   "source": []
  },
  {
   "cell_type": "code",
   "execution_count": null,
   "metadata": {},
   "outputs": [],
   "source": []
  },
  {
   "cell_type": "code",
   "execution_count": null,
   "metadata": {},
   "outputs": [],
   "source": []
  },
  {
   "cell_type": "code",
   "execution_count": null,
   "metadata": {},
   "outputs": [],
   "source": []
  },
  {
   "cell_type": "code",
   "execution_count": null,
   "metadata": {},
   "outputs": [],
   "source": []
  },
  {
   "cell_type": "code",
   "execution_count": null,
   "metadata": {},
   "outputs": [],
   "source": []
  },
  {
   "cell_type": "code",
   "execution_count": null,
   "metadata": {},
   "outputs": [],
   "source": []
  },
  {
   "cell_type": "code",
   "execution_count": null,
   "metadata": {},
   "outputs": [],
   "source": []
  },
  {
   "cell_type": "code",
   "execution_count": null,
   "metadata": {},
   "outputs": [],
   "source": []
  },
  {
   "cell_type": "code",
   "execution_count": null,
   "metadata": {},
   "outputs": [],
   "source": []
  },
  {
   "cell_type": "code",
   "execution_count": null,
   "metadata": {},
   "outputs": [],
   "source": []
  },
  {
   "cell_type": "code",
   "execution_count": null,
   "metadata": {},
   "outputs": [],
   "source": []
  },
  {
   "cell_type": "code",
   "execution_count": null,
   "metadata": {},
   "outputs": [],
   "source": []
  },
  {
   "cell_type": "code",
   "execution_count": null,
   "metadata": {},
   "outputs": [],
   "source": []
  },
  {
   "cell_type": "code",
   "execution_count": null,
   "metadata": {},
   "outputs": [],
   "source": []
  },
  {
   "cell_type": "code",
   "execution_count": null,
   "metadata": {},
   "outputs": [],
   "source": []
  },
  {
   "cell_type": "code",
   "execution_count": null,
   "metadata": {},
   "outputs": [],
   "source": []
  },
  {
   "cell_type": "code",
   "execution_count": null,
   "metadata": {},
   "outputs": [],
   "source": []
  },
  {
   "cell_type": "code",
   "execution_count": null,
   "metadata": {},
   "outputs": [],
   "source": []
  },
  {
   "cell_type": "code",
   "execution_count": null,
   "metadata": {},
   "outputs": [],
   "source": []
  },
  {
   "cell_type": "code",
   "execution_count": null,
   "metadata": {},
   "outputs": [],
   "source": []
  },
  {
   "cell_type": "code",
   "execution_count": null,
   "metadata": {},
   "outputs": [],
   "source": []
  },
  {
   "cell_type": "code",
   "execution_count": null,
   "metadata": {},
   "outputs": [],
   "source": []
  },
  {
   "cell_type": "code",
   "execution_count": null,
   "metadata": {},
   "outputs": [],
   "source": []
  },
  {
   "cell_type": "code",
   "execution_count": null,
   "metadata": {},
   "outputs": [],
   "source": [
    "functools.update_wrapper(temp, temp.func)#s.func)"
   ]
  },
  {
   "cell_type": "code",
   "execution_count": null,
   "metadata": {},
   "outputs": [],
   "source": [
    "ex._set_dmap()"
   ]
  },
  {
   "cell_type": "code",
   "execution_count": null,
   "metadata": {},
   "outputs": [],
   "source": [
    "    integer_range           = param.Range(default=(3,7),bounds=(0, 10))\n"
   ]
  },
  {
   "cell_type": "code",
   "execution_count": null,
   "metadata": {},
   "outputs": [],
   "source": []
  },
  {
   "cell_type": "code",
   "execution_count": null,
   "metadata": {},
   "outputs": [],
   "source": []
  },
  {
   "cell_type": "code",
   "execution_count": null,
   "metadata": {},
   "outputs": [],
   "source": []
  },
  {
   "cell_type": "code",
   "execution_count": null,
   "metadata": {},
   "outputs": [],
   "source": []
  },
  {
   "cell_type": "code",
   "execution_count": null,
   "metadata": {},
   "outputs": [],
   "source": []
  },
  {
   "cell_type": "code",
   "execution_count": null,
   "metadata": {},
   "outputs": [],
   "source": []
  },
  {
   "cell_type": "code",
   "execution_count": null,
   "metadata": {},
   "outputs": [],
   "source": []
  },
  {
   "cell_type": "code",
   "execution_count": null,
   "metadata": {},
   "outputs": [],
   "source": []
  },
  {
   "cell_type": "code",
   "execution_count": null,
   "metadata": {},
   "outputs": [],
   "source": []
  },
  {
   "cell_type": "code",
   "execution_count": null,
   "metadata": {},
   "outputs": [],
   "source": []
  },
  {
   "cell_type": "code",
   "execution_count": null,
   "metadata": {},
   "outputs": [],
   "source": []
  },
  {
   "cell_type": "code",
   "execution_count": null,
   "metadata": {},
   "outputs": [],
   "source": []
  },
  {
   "cell_type": "code",
   "execution_count": null,
   "metadata": {},
   "outputs": [],
   "source": []
  },
  {
   "cell_type": "code",
   "execution_count": null,
   "metadata": {},
   "outputs": [],
   "source": []
  },
  {
   "cell_type": "code",
   "execution_count": null,
   "metadata": {},
   "outputs": [],
   "source": []
  },
  {
   "cell_type": "code",
   "execution_count": null,
   "metadata": {},
   "outputs": [],
   "source": []
  },
  {
   "cell_type": "code",
   "execution_count": null,
   "metadata": {},
   "outputs": [],
   "source": []
  },
  {
   "cell_type": "code",
   "execution_count": null,
   "metadata": {},
   "outputs": [],
   "source": []
  },
  {
   "cell_type": "code",
   "execution_count": null,
   "metadata": {},
   "outputs": [],
   "source": []
  },
  {
   "cell_type": "code",
   "execution_count": null,
   "metadata": {},
   "outputs": [],
   "source": []
  }
 ],
 "metadata": {
  "kernelspec": {
   "display_name": "Python [conda env:earthml_v2]",
   "language": "python",
   "name": "conda-env-earthml_v2-py"
  },
  "language_info": {
   "codemirror_mode": {
    "name": "ipython",
    "version": 3
   },
   "file_extension": ".py",
   "mimetype": "text/x-python",
   "name": "python",
   "nbconvert_exporter": "python",
   "pygments_lexer": "ipython3",
   "version": "3.7.3"
  }
 },
 "nbformat": 4,
 "nbformat_minor": 2
}
