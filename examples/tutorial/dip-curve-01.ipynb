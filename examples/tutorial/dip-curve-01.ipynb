{
 "cells": [
  {
   "cell_type": "code",
   "execution_count": null,
   "metadata": {},
   "outputs": [],
   "source": []
  },
  {
   "cell_type": "code",
   "execution_count": null,
   "metadata": {},
   "outputs": [],
   "source": [
    "%load_ext autoreload\n",
    "%autoreload 2\n",
    "\n",
    "import os, sys, time\n",
    "import numpy as np\n",
    "import scipy as sp\n",
    "import pandas as pd\n",
    "import intake\n",
    "    \n",
    "from pathlib import Path\n",
    "from pprint import pprint as pp\n",
    "p = print \n",
    "\n",
    "from sklearn.externals import joblib\n",
    "import pdb\n",
    "\n",
    "import matplotlib.pyplot as plt\n",
    "%matplotlib inline\n",
    "\n",
    "# ignore warnings\n",
    "import warnings\n",
    "if not sys.warnoptions:\n",
    "    warnings.simplefilter('ignore')\n",
    "    \n",
    "# Don't generate bytecode\n",
    "sys.dont_write_bytecode = True"
   ]
  },
  {
   "cell_type": "code",
   "execution_count": null,
   "metadata": {},
   "outputs": [],
   "source": [
    "import holoviews as hv\n",
    "import xarray as xr\n",
    "\n",
    "from holoviews import opts\n",
    "from holoviews.operation.datashader import datashade, shade, dynspread, rasterize\n",
    "from holoviews.streams import *\n",
    "from holoviews import streams\n",
    "import geoviews as gv\n",
    "import geoviews.feature as gf\n",
    "from geoviews import tile_sources as gvts\n",
    "\n",
    "\n",
    "import geopandas as gpd\n",
    "import cartopy.crs as ccrs\n",
    "import cartopy.feature as cf\n",
    "\n",
    "import panel as pn\n",
    "hv.notebook_extension('bokeh')\n",
    "hv.Dimension.type_formatters[np.datetime64] = '%Y-%m-%d'\n",
    "pn.extension()"
   ]
  },
  {
   "cell_type": "code",
   "execution_count": null,
   "metadata": {},
   "outputs": [],
   "source": [
    "# Add the utils directory to the search path\n",
    "UTILS_DIR = Path('../utils').absolute()\n",
    "assert UTILS_DIR.exists()\n",
    "if str(UTILS_DIR) not in sys.path:\n",
    "    sys.path.insert(0, str(UTILS_DIR))\n",
    "    print(f\"Added {str(UTILS_DIR)} to sys.path\")\n",
    "\n",
    "pp(sys.path)\n",
    "    "
   ]
  },
  {
   "cell_type": "code",
   "execution_count": null,
   "metadata": {},
   "outputs": [],
   "source": [
    "from utils import get_mro as mro, nprint\n",
    "import utils as u"
   ]
  },
  {
   "cell_type": "code",
   "execution_count": null,
   "metadata": {},
   "outputs": [],
   "source": [
    "# Grab registered bokeh renderer\n",
    "print(\"Currently available renderers: \", *hv.Store.renderers.keys())\n",
    "renderer = hv.renderer('bokeh')"
   ]
  },
  {
   "cell_type": "markdown",
   "metadata": {},
   "source": [
    "To deinf a curve on a plane (ie. planary curve) we need\n",
    "- parameter, eg. p $\\in [0,1]$\n",
    "- two functions $x(p)$ and $y(p)$, which define the coordinate of the point $C(p)$ in x and y axis, respectively"
   ]
  },
  {
   "cell_type": "code",
   "execution_count": null,
   "metadata": {},
   "outputs": [],
   "source": [
    "class Curve(param.Parameterized):\n",
    "    p = param.Number(default=0.0, bounds=(0,1))\n",
    "    \n",
    "    def __init__(self, xfunc=None, yfunc=None):\n",
    "        self.xfunc= xfunc or (lambda p: np.sin(2*np.pi*p))\n",
    "        self.yfunc = yfunc or (lambda p: np.cos(2*np.pi*p))\n",
    "\n",
    "        self.overview = self.get_overview()\n",
    "        self.x = self.xfunc(self.p)\n",
    "        self.y = self.yfunc(self.p)\n",
    "        self.dmap_point = hv.Dynamic(hv.Points( [(self.x, self.y)], kdims=['x','y']))\n",
    "\n",
    "        \n",
    "    @param.depends('p')\n",
    "    def update_xy(self):\n",
    "        print('p changed and get_xy is called')\n",
    "        self.x = self.xfunc(self.p)\n",
    "        self.y = self.yfunc(self.p)\n",
    "        self.hv_point = hv\n",
    "        \n",
    "    def get_overview(self):\n",
    "        xs = [self.xfunc(p) for p in np.linspace(0,1,100)]\n",
    "        ys = [self.yfunc(p) for p in np.linspace(0,1,100)]\n",
    "        overview = hv.Points( (xs,ys), ['x','y'] ).opts(padding=0.1)\n",
    "#         display(points)\n",
    "        return overview\n",
    "    \n",
    "    def view(self):\n",
    "        display(self.overview * hv."
   ]
  },
  {
   "cell_type": "code",
   "execution_count": null,
   "metadata": {},
   "outputs": [],
   "source": [
    "curve = Curve()"
   ]
  },
  {
   "cell_type": "code",
   "execution_count": null,
   "metadata": {},
   "outputs": [],
   "source": [
    "curve.show()"
   ]
  },
  {
   "cell_type": "code",
   "execution_count": null,
   "metadata": {},
   "outputs": [],
   "source": [
    "PStream = Stream.define('pstream', p=0.0, bounds=(0,1))"
   ]
  },
  {
   "cell_type": "code",
   "execution_count": null,
   "metadata": {},
   "outputs": [],
   "source": [
    "pstream = PStream()"
   ]
  },
  {
   "cell_type": "code",
   "execution_count": null,
   "metadata": {},
   "outputs": [],
   "source": [
    "pstream.print_param_values()"
   ]
  },
  {
   "cell_type": "code",
   "execution_count": null,
   "metadata": {},
   "outputs": [],
   "source": [
    "pstream.event(p=2.)"
   ]
  },
  {
   "cell_type": "code",
   "execution_count": null,
   "metadata": {},
   "outputs": [],
   "source": []
  },
  {
   "cell_type": "code",
   "execution_count": null,
   "metadata": {},
   "outputs": [],
   "source": [
    "#using `pipe` to push data to the visualization\n",
    "## 1. setup a dynamicmap with empty element \n",
    "pipe = Pipe(data=[])\n",
    "dmap_points = hv.DynamicMap(hv.Points,streams=[pipe])\n",
    "dmap_points.opts(\n",
    "    opts.Points(color='green', \n",
    "                size=5,\n",
    "                xlim=(-1,1), ylim=(-1,1),width=500, height=500)\n",
    ").opts(padding=0.1);\n"
   ]
  },
  {
   "cell_type": "markdown",
   "metadata": {},
   "source": [
    "## Curve Generator"
   ]
  },
  {
   "cell_type": "code",
   "execution_count": null,
   "metadata": {},
   "outputs": [],
   "source": [
    "def gen_curve(cfunc, n_steps=100):\n",
    "    p = 0\n",
    "    dp = 1./n_steps\n",
    "    count = 0\n",
    "    while p<=1:\n",
    "        x,y = cfunc(p)\n",
    "        p, curr_p = p+dp, p\n",
    "        count, curr_count = count+1, count\n",
    "        yield pd.DataFrame([(curr_count, curr_p, x, y)], columns=['count', 'p', 'x','y'])\n",
    "        "
   ]
  },
  {
   "cell_type": "code",
   "execution_count": null,
   "metadata": {},
   "outputs": [],
   "source": [
    "n = 100\n",
    "ps = np.linspace(0,1,num=n)\n",
    "\n",
    "# define curve function\n",
    "xfunc = lambda p: np.sin(2*np.pi*p)\n",
    "yfunc = lambda p: np.cos(2*np.pi*p)\n",
    "cfunc = lambda p: (xfunc(p), yfunc(p))"
   ]
  },
  {
   "cell_type": "code",
   "execution_count": null,
   "metadata": {},
   "outputs": [],
   "source": [
    "# another function\n",
    "xfunc = lambda p: np.sin(2*np.pi*p)\n",
    "yfunc = lambda p: np.sin(2*np.pi*p)\n",
    "cfunc = lambda p: (xfunc(p), yfunc(p))"
   ]
  },
  {
   "cell_type": "code",
   "execution_count": null,
   "metadata": {},
   "outputs": [],
   "source": [
    "# another function\n",
    "xfunc = lambda p: np.sin(4*np.pi*p)\n",
    "yfunc = lambda p: np.cos(2*np.pi*p)\n",
    "cfunc = lambda p: (xfunc(p), yfunc(p))"
   ]
  },
  {
   "cell_type": "code",
   "execution_count": null,
   "metadata": {},
   "outputs": [],
   "source": [
    "cfunc(0), cfunc(1)"
   ]
  },
  {
   "cell_type": "code",
   "execution_count": null,
   "metadata": {},
   "outputs": [],
   "source": [
    "g_curve = gen_curve(cfunc, n)\n",
    "next(g_curve)\n",
    "# "
   ]
  },
  {
   "cell_type": "code",
   "execution_count": null,
   "metadata": {},
   "outputs": [],
   "source": []
  },
  {
   "cell_type": "markdown",
   "metadata": {},
   "source": [
    "---\n",
    "## Method1: Buffer to push data\n",
    "Push data  using pipe or buffer"
   ]
  },
  {
   "cell_type": "code",
   "execution_count": null,
   "metadata": {},
   "outputs": [],
   "source": [
    "# Define buffer \n",
    "example = pd.DataFrame({'count': [], 'p': [], 'x':[], 'y':[]})\n",
    "dfstream = Buffer(example, length=100, index=False)"
   ]
  },
  {
   "cell_type": "code",
   "execution_count": null,
   "metadata": {},
   "outputs": [],
   "source": [
    "## visualization components\n",
    "H,W = 500,500\n",
    "dmap_points = hv.DynamicMap(\n",
    "    lambda data: hv.Points(data, kdims=['x','y'], group='Curve'),\n",
    "    streams=[dfstream]).opts(color='p')\n",
    "curve_opts = opts.Points(size=5,xlim=(-1,1), ylim=(-1,1),width=W, height=H)\n",
    "dmap_points.opts(curve_opts);\n",
    "# dmap_points"
   ]
  },
  {
   "cell_type": "code",
   "execution_count": null,
   "metadata": {},
   "outputs": [],
   "source": [
    "dmap_x = hv.DynamicMap(\n",
    "    lambda data: hv.Points( data, kdims=['p','x'], group='XCoord'),\n",
    "    streams=[dfstream]).opts(color='p')\n",
    "xopts = opts.Points('XCoord', width=W, height=H, size=5, xlim=(0,1), \n",
    "                    padding=0.1, invert_axes=True, invert_yaxis=True)\n",
    "\n",
    "dmap_x.opts(xopts);\n",
    "# dmap_x"
   ]
  },
  {
   "cell_type": "code",
   "execution_count": null,
   "metadata": {},
   "outputs": [],
   "source": [
    "dmap_y = hv.DynamicMap(\n",
    "    lambda data: hv.Points( data, kdims=['p','y'], group='YCoord'),\n",
    "    streams=[dfstream]).opts(color='p')\n",
    "yopts = opts.Points('YCoord', width=W, height=H, size=5, xlim=(0,1), padding=0.1, invert_xaxis=True)\n",
    "dmap_y.opts(yopts);\n",
    "# dmap_y\n"
   ]
  },
  {
   "cell_type": "code",
   "execution_count": null,
   "metadata": {},
   "outputs": [],
   "source": [
    "(\n",
    "    dmap_points + dmap_y\n",
    "    + dmap_x\n",
    ").cols(2)"
   ]
  },
  {
   "cell_type": "code",
   "execution_count": null,
   "metadata": {},
   "outputs": [],
   "source": [
    "# send data through the buffer\n",
    "dfstream.clear()\n",
    "n = 100\n",
    "g_curve = gen_curve(cfunc, n)\n",
    "for i in range(n):\n",
    "    dfstream.send(next(g_curve))\n",
    "    time.sleep(0.3)\n",
    "\n",
    "        "
   ]
  },
  {
   "cell_type": "markdown",
   "metadata": {},
   "source": [
    "---\n",
    "## Method2: Use `streamz.dataframe` and `hv.streams.Buffer`"
   ]
  },
  {
   "cell_type": "code",
   "execution_count": null,
   "metadata": {},
   "outputs": [],
   "source": [
    "import streamz\n",
    "import streamz.dataframe"
   ]
  },
  {
   "cell_type": "code",
   "execution_count": null,
   "metadata": {},
   "outputs": [],
   "source": [
    "sdf = streamz.dataframe.DataFrame(example=example)"
   ]
  },
  {
   "cell_type": "code",
   "execution_count": null,
   "metadata": {},
   "outputs": [],
   "source": [
    "sdf.example\n"
   ]
  },
  {
   "cell_type": "code",
   "execution_count": null,
   "metadata": {},
   "outputs": [],
   "source": [
    "next(gen_curve())\n"
   ]
  },
  {
   "cell_type": "code",
   "execution_count": null,
   "metadata": {},
   "outputs": [],
   "source": [
    "dmap2 = hv.DynamicMap(\n",
    "    lambda data: hv.Points(data, kdims=['x','y'], group='Curve'),\n",
    "    streams=[Buffer(sdf)]).opts(color='p')\n",
    "# dmap2"
   ]
  },
  {
   "cell_type": "code",
   "execution_count": null,
   "metadata": {},
   "outputs": [],
   "source": [
    "dmap2_x = hv.DynamicMap(\n",
    "    lambda data: hv.Points( data, kdims=['p','x'], group='XCoord'),\n",
    "    streams=[Buffer(sdf)]).opts(color='p')\n",
    "\n",
    "xopts = opts.Points('XCoord', width=W, height=H, size=5, xlim=(0,1), \n",
    "                    padding=0.1, invert_axes=True, invert_yaxis=True)\n",
    "\n",
    "dmap2_x.opts(xopts);\n",
    "# dmap_x"
   ]
  },
  {
   "cell_type": "code",
   "execution_count": null,
   "metadata": {},
   "outputs": [],
   "source": [
    "dmap2_y = hv.DynamicMap(\n",
    "    lambda data: hv.Points( data, kdims=['p','y'], group='YCoord'),\n",
    "    streams=[Buffer(sdf)]).opts(color='p')\n",
    "yopts = opts.Points('YCoord', width=W, height=H, size=5, xlim=(0,1), padding=0.1)\n",
    "dmap_y.opts(yopts);"
   ]
  },
  {
   "cell_type": "code",
   "execution_count": null,
   "metadata": {},
   "outputs": [],
   "source": [
    "g_curve = gen_curve()\n",
    "for i in range(100):\n",
    "    sdf.emit(next(g_curve))"
   ]
  },
  {
   "cell_type": "code",
   "execution_count": null,
   "metadata": {},
   "outputs": [],
   "source": [
    "(dmap2 + dmap2_y +dmap2_x).cols(2)"
   ]
  },
  {
   "cell_type": "markdown",
   "metadata": {},
   "source": [
    "## Let's encaptulate the simulation process, given a curve generator \n"
   ]
  },
  {
   "cell_type": "code",
   "execution_count": null,
   "metadata": {},
   "outputs": [],
   "source": [
    "def get_new_plots(dfstream):\n",
    "    \n",
    "    ## visualization components\n",
    "    H,W = 500,500\n",
    "    dmap_points = hv.DynamicMap(\n",
    "        lambda data: hv.Points(data, kdims=['x','y'], group='Curve'),\n",
    "        streams=[dfstream]).opts(color='p')\n",
    "    \n",
    "    curve_opts = opts.Points(size=5,xlim=(-1,1), ylim=(-1,1),width=W, height=H)\n",
    "    dmap_points.opts(curve_opts);\n",
    "    # dmap_points\n",
    "    \n",
    "    \n",
    "    dmap_x = hv.DynamicMap(\n",
    "    lambda data: hv.Points( data, kdims=['p','x'], group='XCoord'),\n",
    "    streams=[dfstream]).opts(color='p')\n",
    "    xopts = opts.Points('XCoord', width=W, height=H, size=5, xlim=(0,1), \n",
    "                        padding=0.1, invert_axes=True, invert_yaxis=True)\n",
    "\n",
    "    dmap_x.opts(xopts);\n",
    "    \n",
    "    dmap_y = hv.DynamicMap(\n",
    "    lambda data: hv.Points( data, kdims=['p','y'], group='YCoord'),\n",
    "    streams=[dfstream]).opts(color='p')\n",
    "    yopts = opts.Points('YCoord', width=W, height=H, size=5, xlim=(0,1), padding=0.1, invert_xaxis=True)\n",
    "    dmap_y.opts(yopts);\n",
    "\n",
    "    overlay = (dmap_points + dmap_y + dmap_x).cols(2)\n",
    "    return overlay"
   ]
  },
  {
   "cell_type": "markdown",
   "metadata": {},
   "source": [
    "### Setup for the simulation"
   ]
  },
  {
   "cell_type": "code",
   "execution_count": null,
   "metadata": {},
   "outputs": [],
   "source": [
    "# Define buffer \n",
    "example = pd.DataFrame({'count': [], 'p': [], 'x':[], 'y':[]})\n",
    "dfstream = Buffer(example, length=100, index=False)\n",
    "\n",
    "# Define curve function\n",
    "n_steps = 100\n",
    "a,b = 1,0.5\n",
    "xfunc = lambda p: (a-b)*np.cos(p) + b*np.cos((a/b-1)*p)\n",
    "yfunc = lambda p: (a-b)*np.sin(p) - b*np.sin((a/b-1)*p)\n",
    "cfunc = lambda p: (xfunc(p), yfunc(p))\n",
    "g_curve = gen_curve(cfunc, n_steps)\n",
    "\n",
    "\n",
    "# run\n",
    "# get a new overlay\n",
    "display(get_new_plots(dfstream))\n",
    "\n",
    "\n",
    "# send data through the buffer\n",
    "dfstream.clear()\n",
    "for i in range(n_steps):\n",
    "    dfstream.send(next(g_curve))\n",
    "    time.sleep(0.3)\n"
   ]
  },
  {
   "cell_type": "markdown",
   "metadata": {},
   "source": [
    "Try the simulation with various curve equations\n",
    "- [fifty famous curves](https://elepa.files.wordpress.com/2013/11/fifty-famous-curves.pdf)"
   ]
  },
  {
   "cell_type": "markdown",
   "metadata": {},
   "source": [
    "## Let's make a simulator class\n",
    "- [important reference](http://holoviews.org/user_guide/Dashboards.html)\n",
    "- [Linking pn.widgets and holoviews plots](https://panel.pyviz.org/user_guide/Links.html)"
   ]
  },
  {
   "cell_type": "code",
   "execution_count": null,
   "metadata": {},
   "outputs": [],
   "source": [
    "def get_new_plots(dfstream):\n",
    "    \n",
    "    ## visualization components\n",
    "    H,W = 500,500\n",
    "    dmap_points = hv.DynamicMap(\n",
    "        lambda data: hv.Points(data, kdims=['x','y'], group='Curve'),\n",
    "        streams=[dfstream]).opts(color='p')\n",
    "    \n",
    "    curve_opts = opts.Points(size=5,xlim=(-1,1), ylim=(-1,1),width=W, height=H)\n",
    "    dmap_points.opts(curve_opts);\n",
    "    # dmap_points\n",
    "    \n",
    "    \n",
    "    dmap_x = hv.DynamicMap(\n",
    "    lambda data: hv.Points( data, kdims=['p','x'], group='XCoord'),\n",
    "    streams=[dfstream]).opts(color='p')\n",
    "    xopts = opts.Points('XCoord', width=W, height=H, size=5, xlim=(0,1), \n",
    "                        padding=0.1, invert_axes=True, invert_yaxis=True)\n",
    "\n",
    "    dmap_x.opts(xopts);\n",
    "    \n",
    "    dmap_y = hv.DynamicMap(\n",
    "    lambda data: hv.Points( data, kdims=['p','y'], group='YCoord'),\n",
    "    streams=[dfstream]).opts(color='p')\n",
    "    yopts = opts.Points('YCoord', width=W, height=H, size=5, xlim=(0,1), padding=0.1, invert_xaxis=True)\n",
    "    dmap_y.opts(yopts);\n",
    "\n",
    "    overlay = (dmap_points + dmap_y + dmap_x).cols(2)\n",
    "    return overlay"
   ]
  },
  {
   "cell_type": "code",
   "execution_count": null,
   "metadata": {},
   "outputs": [],
   "source": [
    "import streamz\n",
    "import streamz.dataframe\n",
    "class Simulator(param.Parameterized):\n",
    "    \n",
    "    ################################################################################\n",
    "    # Instance Parameters\n",
    "    ################################################################################\n",
    "    a = param.Number(default=1.0)\n",
    "    b = param.Number(default=0.25)\n",
    "    to_run_clean = param.Boolean(False, doc='Simulation run boolean parameter')\n",
    "    \n",
    "    \n",
    "    ################################################################################\n",
    "    # Constant class properties\n",
    "    ################################################################################\n",
    "    H,W = 500,500\n",
    "    curve_opts = opts.Points(size=5,xlim=(-1,1), ylim=(-1,1),width=W, height=H)\n",
    "    xopts = opts.Points('XCoord', width=W, height=H, size=5, xlim=(0,1), \n",
    "                        padding=0.1, invert_axes=True, invert_yaxis=True)\n",
    "    yopts = opts.Points('YCoord', width=W, height=H, size=5, xlim=(0,1), padding=0.1, invert_xaxis=True)\n",
    "\n",
    "    \n",
    "    ################################################################################\n",
    "    # Initialization\n",
    "    ################################################################################\n",
    "    def __init__(self, n_steps=100, **kwargs):\n",
    "        super().__init__(**kwargs)\n",
    "\n",
    "        self.count = defaultdict(int)\n",
    "        self.n_steps = n_steps\n",
    "        self.example = pd.DataFrame({'count': [], 'p': [], 'x':[], 'y':[]})\n",
    "        self.data_src = streamz.dataframe.DataFrame(example=self.example)\n",
    "        self.dfstream = Buffer(self.data_src, length=100, index=False)\n",
    "        self.set_dmap_curve()\n",
    "        self.set_dmap_x()\n",
    "        self.set_dmap_y()\n",
    "        self.overlay = (self.dmap_curve + self.dmap_y + self.dmap_x).cols(2)\n",
    "        \n",
    "        self.set_funcs()\n",
    "\n",
    "    def set_dmap_curve(self):\n",
    "        self.count['set_curve'] += 1\n",
    "\n",
    "        dmap_curve = hv.DynamicMap(\n",
    "            lambda data: hv.Points(data, kdims=['x','y'], group='Curve'),\n",
    "            streams=[self.dfstream]).opts(color='p')\n",
    "        self.dmap_curve = dmap_curve.opts(self.curve_opts);\n",
    "\n",
    "    def set_dmap_x(self):\n",
    "        self.count['set_x'] += 1\n",
    "        dmap_x = hv.DynamicMap(\n",
    "            lambda data: hv.Points( data, kdims=['p','x'], group='XCoord'),\n",
    "            streams=[self.dfstream]).opts(color='p')\n",
    "        self.dmap_x = dmap_x.opts(self.xopts)\n",
    "        \n",
    "    def set_dmap_y(self):\n",
    "        self.count['set_y'] += 1\n",
    "        dmap_y = hv.DynamicMap(\n",
    "            lambda data: hv.Points( data, kdims=['p','y'], group='YCoord'),\n",
    "            streams=[self.dfstream]).opts(color='p')\n",
    "        self.dmap_y = dmap_y.opts(self.yopts)\n",
    "        \n",
    "    @param.depends('a','b',watch=True)\n",
    "    def set_funcs(self):\n",
    "        print('set_funcs called')\n",
    "        self.count['set_funcs'] += 1\n",
    "        self.xfunc = lambda p: (self.a-self.b)*np.cos(p) + self.b*np.cos((self.a/self.b-1)*p)\n",
    "        self.yfunc = lambda p: (self.a-self.b)*np.sin(p) - self.b*np.sin((self.a/self.b-1)*p)\n",
    "        self.cfunc = lambda p: (self.xfunc(p), self.yfunc(p))\n",
    "        \n",
    "    ################################################################################\n",
    "    # Holoviews components\n",
    "    ################################################################################\n",
    "    @param.depends('a','b','to_run_clean', watch=True)\n",
    "    def get_count(self):\n",
    "        df = pd.DataFrame(self.count.items(), columns=['name', 'count'])\n",
    "        return hv.Table(df)\n",
    "    \n",
    "\n",
    "    @param.depends('to_run_clean', watch=True)\n",
    "    def run_clean(self):\n",
    "        # send data through the buffer\n",
    "        self.count['run'] += 1\n",
    "        self.dfstream.clear()\n",
    "\n",
    "        if self.to_run_clean:\n",
    "            curve_generator = gen_curve(self.cfunc, self.n_steps)\n",
    "\n",
    "            for i in range(self.n_steps):\n",
    "                self.data_src.emit(next(curve_generator))\n",
    "                time.sleep(0.1)\n",
    "        \n",
    "        \n",
    "    ################################################################################\n",
    "    # Set DynamicMaps for linking the plots with parameters\n",
    "    ################################################################################\n",
    "    def view(self):\n",
    "        return pn.panel(self.overlay)\n",
    "\n",
    "    def dyn_count(self):\n",
    "        return pn.panel(hv.DynamicMap(self.get_count))\n",
    "\n",
    "    "
   ]
  },
  {
   "cell_type": "code",
   "execution_count": null,
   "metadata": {},
   "outputs": [],
   "source": [
    "sim = Simulator()\n",
    "# pn.panel( sim.view())"
   ]
  },
  {
   "cell_type": "code",
   "execution_count": null,
   "metadata": {},
   "outputs": [],
   "source": [
    "pn.Column(\n",
    "    pn.Row(pn.WidgetBox(sim.param), sim.view()),\n",
    "    pn.panel(sim.dyn_count())\n",
    ")"
   ]
  },
  {
   "cell_type": "markdown",
   "metadata": {},
   "source": [
    "---\n",
    "### Animation with `play` and `stop`\n"
   ]
  },
  {
   "cell_type": "code",
   "execution_count": null,
   "metadata": {},
   "outputs": [],
   "source": [
    "from bokeh.models import Slider, Button\n",
    "from bokeh.layouts import layout\n",
    "from bokeh.io import curdoc\n",
    "from bokeh.plotting import show"
   ]
  },
  {
   "cell_type": "code",
   "execution_count": null,
   "metadata": {},
   "outputs": [],
   "source": [
    "curve_gen = gen_curve(cfunc)\n",
    "curve_gen"
   ]
  },
  {
   "cell_type": "code",
   "execution_count": null,
   "metadata": {},
   "outputs": [],
   "source": [
    "next(curve_gen)"
   ]
  },
  {
   "cell_type": "code",
   "execution_count": null,
   "metadata": {},
   "outputs": [],
   "source": []
  },
  {
   "cell_type": "code",
   "execution_count": null,
   "metadata": {},
   "outputs": [],
   "source": [
    "# Declare the HoloViews object\n",
    "start = 0\n",
    "end = 10\n",
    "hmap = hv.HoloMap({i: hv.Image(np.random.rand(10,10)) for i in range(start, end+1)})\n",
    "\n",
    "# Convert the HoloViews object into a plot\n",
    "plot = renderer.get_plot(hmap)\n",
    "\n",
    "def animate_update():\n",
    "    year = slider.value + 1\n",
    "    if year > end:\n",
    "        year = start\n",
    "    slider.value = year\n",
    "\n",
    "def slider_update(attrname, old, new):\n",
    "    plot.update(slider.value)\n",
    "\n",
    "slider = Slider(start=start, end=end, value=0, step=1, title=\"Year\")\n",
    "slider.on_change('value', slider_update)\n",
    "\n",
    "def animate():\n",
    "    if button.label == '► Play':\n",
    "        button.label = '❚❚ Pause'\n",
    "        curdoc().add_periodic_callback(animate_update, 200)\n",
    "    else:\n",
    "        button.label = '► Play'\n",
    "        curdoc().remove_periodic_callback(animate_update)\n",
    "\n",
    "button = Button(label='► Play', width=60)\n",
    "button.on_click(animate)\n",
    "\n",
    "# Combine the bokeh plot on plot.state with the widgets\n",
    "layout = layout([\n",
    "    [plot.state],\n",
    "    [slider, button],\n",
    "], sizing_mode='fixed')\n",
    "\n",
    "curdoc().add_root(layout)"
   ]
  },
  {
   "cell_type": "code",
   "execution_count": null,
   "metadata": {},
   "outputs": [],
   "source": [
    "show(plot.state)"
   ]
  },
  {
   "cell_type": "code",
   "execution_count": null,
   "metadata": {},
   "outputs": [],
   "source": [
    "pn.panel(button), type(pn.panel(button))"
   ]
  },
  {
   "cell_type": "code",
   "execution_count": null,
   "metadata": {},
   "outputs": [],
   "source": [
    "type(pn.panel(slider))"
   ]
  },
  {
   "cell_type": "code",
   "execution_count": null,
   "metadata": {},
   "outputs": [],
   "source": []
  },
  {
   "cell_type": "code",
   "execution_count": null,
   "metadata": {},
   "outputs": [],
   "source": [
    "n = 100\n",
    "ps = np.linspace(0,1,num=n)\n",
    "\n",
    "# define curve function\n",
    "xfunc = lambda p: np.sin(2*np.pi*p)\n",
    "yfunc = lambda p: np.cos(2*np.pi*p)\n",
    "cfunc = lambda p: (xfunc(p), yfunc(p))"
   ]
  },
  {
   "cell_type": "code",
   "execution_count": null,
   "metadata": {},
   "outputs": [],
   "source": [
    "debugbox = pn.widgets.TextInput()\n",
    "debugbox\n",
    "    "
   ]
  },
  {
   "cell_type": "code",
   "execution_count": null,
   "metadata": {},
   "outputs": [],
   "source": [
    "gcount = 0\n",
    "def reset_cb(x):\n",
    "    gcount += 1\n",
    "    debugbox.value = x\n",
    "    "
   ]
  },
  {
   "cell_type": "markdown",
   "metadata": {},
   "source": [
    "# Continue here!"
   ]
  },
  {
   "cell_type": "code",
   "execution_count": null,
   "metadata": {},
   "outputs": [],
   "source": [
    "# todo:\n",
    "# Define a button widget (bokeh or panel.widgets object) outside here\n",
    "# then, link this widget's parameter's callable to a parameterized object's method to set the value of p parameter to 0\n",
    "reset_button = Button(label='Reset')\n",
    "show(reset_button)"
   ]
  },
  {
   "cell_type": "code",
   "execution_count": null,
   "metadata": {},
   "outputs": [],
   "source": [
    "def reset_cb(event):\n",
    "    print(event)\n",
    "    debugbox.value = str(event)\n",
    "    "
   ]
  },
  {
   "cell_type": "code",
   "execution_count": null,
   "metadata": {},
   "outputs": [],
   "source": [
    "reset_button.on_click(reset_cb)"
   ]
  },
  {
   "cell_type": "code",
   "execution_count": null,
   "metadata": {},
   "outputs": [],
   "source": [
    "class CurveSimulator(param.Parameterized):\n",
    "\n",
    "    n_steps = param.Integer(label='Number of simulation steps', default=100)\n",
    "    p = param.ObjectSelector(label='p', default=0., objects=np.linspace(0,1,num=n_steps.default))\n",
    "    reset = param.Action(lambda x: reset_cb(x), doc=\"Click to clear the buffer and reset p\")\n",
    "#     reset = param.Boolean(default=False,doc=\"Click to clear the buffer and reset p\")\n",
    "\n",
    "\n",
    "    \n",
    "    ################################################################################\n",
    "    # Constant class properties\n",
    "    ################################################################################\n",
    "    H,W = 500,500\n",
    "    curve_opts = opts.Points(size=5,xlim=(-1,1), ylim=(-1,1),width=W, height=H)\n",
    "    xopts = opts.Points('XCoord', width=W, height=H, size=5, xlim=(0,1), \n",
    "                        padding=0.1, invert_axes=True, invert_yaxis=True)\n",
    "    yopts = opts.Points('YCoord', width=W, height=H, size=5, xlim=(0,1), padding=0.1, invert_xaxis=True)\n",
    "    \n",
    "    \n",
    "    ################################################################################\n",
    "    # Parameter Dependencies\n",
    "    ################################################################################    \n",
    "    @param.depends('n_steps', watch=True)\n",
    "    def _update_p(self):\n",
    "        self.count['p'] += 1\n",
    "        self.param['p'].objects = np.linspace(0,1,num=self.n_steps)\n",
    "        print('updated p with new number of simulation steps: ', self.n_steps)\n",
    "    \n",
    "    @param.depends('p', watch=True)\n",
    "    def send_point(self):\n",
    "        point = pd.DataFrame([(self.p, *self.cfunc(self.p))], columns=['p', 'x','y'])\n",
    "        self.data_src.emit(point)\n",
    "        time.sleep(0.1)\n",
    "        \n",
    "#     @param.depends('reset', watch=True)\n",
    "#     def reset_handler(self):\n",
    "#         self.count['reset'] += 1\n",
    "# #         self.p = 0.0\n",
    "#         self.set_param(p=0.0)\n",
    "\n",
    "        \n",
    "    ################################################################################\n",
    "    # Initialization\n",
    "    ################################################################################\n",
    "    def __init__(self, cfunc, n_steps=100, **kwargs):\n",
    "        \"\"\"\n",
    "        Args:\n",
    "        - cfunc (function): given an input of a float p in [0,1], returns (x,y), a \n",
    "        tuple of x and y coords\n",
    "        \n",
    "        - n_steps (int): number of simulation steps along the range of [0,1] for \n",
    "        the parameter, p\n",
    "        \"\"\"\n",
    "        super().__init__(**kwargs)\n",
    "        self.count = defaultdict(int)\n",
    "        self.cfunc = cfunc \n",
    "        self.n_steps = n_steps\n",
    "        self.curve_generator = gen_curve(self.cfunc, self.n_steps)\n",
    "        \n",
    "        self.example = pd.DataFrame({'p': [], 'x':[], 'y':[]})\n",
    "        self.data_src = streamz.dataframe.DataFrame(example=self.example)\n",
    "        self.dfstream = Buffer(self.data_src, length=100, index=False)\n",
    "        self.set_dmap_curve()\n",
    "        self.set_dmap_x()\n",
    "        self.set_dmap_y()\n",
    "        self.overlay = (self.dmap_curve + self.dmap_y + self.dmap_x).cols(2)\n",
    "    \n",
    "    def set_curve_generator(self):\n",
    "        self.curve_generator = gen_curve(self.cfunc, self.n_steps)\n",
    "\n",
    "    def set_dmap_curve(self):\n",
    "        self.count['set_curve'] += 1\n",
    "        dmap_curve = hv.DynamicMap(\n",
    "            lambda data: hv.Points(data, kdims=['x','y'], group='Curve'),\n",
    "            streams=[self.dfstream]).opts(color='p')\n",
    "        self.dmap_curve = dmap_curve.opts(self.curve_opts)\n",
    "        \n",
    "    def set_dmap_x(self):\n",
    "        self.count['set_x'] += 1\n",
    "        dmap_x = hv.DynamicMap(\n",
    "            lambda data: hv.Points( data, kdims=['p','x'], group='XCoord'),\n",
    "            streams=[self.dfstream]).opts(color='p')\n",
    "        self.dmap_x = dmap_x.opts(self.xopts)\n",
    "        \n",
    "    def set_dmap_y(self):\n",
    "        self.count['set_y'] += 1\n",
    "        dmap_y = hv.DynamicMap(\n",
    "            lambda data: hv.Points( data, kdims=['p','y'], group='YCoord'),\n",
    "            streams=[self.dfstream]).opts(color='p')\n",
    "        self.dmap_y = dmap_y.opts(self.yopts)\n",
    "    \n",
    "    \n",
    "    ################################################################################\n",
    "    # Display DynammicMaps\n",
    "    ################################################################################ \n",
    "    def viewable(self):\n",
    "        return self.overlay\n",
    "        \n",
    "    ################################################################################\n",
    "    # Print Info\n",
    "    ################################################################################ \n",
    "    def get_info(self):\n",
    "        info = dict()\n",
    "        info['n_steps']= self.n_steps\n",
    "        info['example'] = self.example\n",
    "        info['data_src'] = self.data_src\n",
    "        info['dfstream'] = self.dfstream.data.describe() if len(self.dfstream.data)  else None\n",
    "        info['to_go']= self.to_go\n",
    "        return info \n",
    "\n",
    "    \n",
    "        "
   ]
  },
  {
   "cell_type": "code",
   "execution_count": null,
   "metadata": {},
   "outputs": [],
   "source": [
    "# define curve function\n",
    "xfunc = lambda p: np.sin(2*np.pi*p)\n",
    "yfunc = lambda p: np.cos(2*np.pi*p)\n",
    "cfunc = lambda p: (xfunc(p), yfunc(p))\n",
    "c = CurveSimulator(cfunc)"
   ]
  },
  {
   "cell_type": "code",
   "execution_count": null,
   "metadata": {},
   "outputs": [],
   "source": [
    "# pp(c.get_info())"
   ]
  },
  {
   "cell_type": "code",
   "execution_count": null,
   "metadata": {},
   "outputs": [],
   "source": [
    "pn.Row(\n",
    "    pn.Param(c.param, widgets={\n",
    "    'p': pn.widgets.DiscretePlayer,\n",
    "    'reset': pn.widgets.Button\n",
    "        \n",
    "        }, width=500),\n",
    "    pn.panel(c.viewable())\n",
    ")\n",
    "# pn.Param(c.param)\n"
   ]
  },
  {
   "cell_type": "markdown",
   "metadata": {},
   "source": [
    "---\n",
    "Modified: Jul 13, 2019\n",
    "## Button widget"
   ]
  },
  {
   "cell_type": "code",
   "execution_count": null,
   "metadata": {},
   "outputs": [],
   "source": [
    "button = pn.widgets"
   ]
  },
  {
   "cell_type": "code",
   "execution_count": null,
   "metadata": {},
   "outputs": [],
   "source": [
    "pslider = Slider(start=0., end=1., value=0., step=0.01)"
   ]
  },
  {
   "cell_type": "code",
   "execution_count": null,
   "metadata": {},
   "outputs": [],
   "source": [
    "show(pslider)"
   ]
  },
  {
   "cell_type": "code",
   "execution_count": null,
   "metadata": {},
   "outputs": [],
   "source": [
    "getattr?"
   ]
  },
  {
   "cell_type": "code",
   "execution_count": null,
   "metadata": {},
   "outputs": [],
   "source": [
    "c.get_param_values('p')"
   ]
  },
  {
   "cell_type": "code",
   "execution_count": null,
   "metadata": {},
   "outputs": [],
   "source": [
    "c.p"
   ]
  },
  {
   "cell_type": "code",
   "execution_count": null,
   "metadata": {},
   "outputs": [],
   "source": []
  }
 ],
 "metadata": {
  "kernelspec": {
   "display_name": "Python [conda env:aiviz]",
   "language": "python",
   "name": "conda-env-aiviz-py"
  },
  "language_info": {
   "codemirror_mode": {
    "name": "ipython",
    "version": 3
   },
   "file_extension": ".py",
   "mimetype": "text/x-python",
   "name": "python",
   "nbconvert_exporter": "python",
   "pygments_lexer": "ipython3",
   "version": "3.7.3"
  }
 },
 "nbformat": 4,
 "nbformat_minor": 2
}
