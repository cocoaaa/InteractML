{
 "cells": [
  {
   "cell_type": "markdown",
   "metadata": {},
   "source": [
    "# skimage and shapely \n",
    "- skimage: main purpose is image processing, so the underlying data stored in np.array is interpreted in pixel cooridnate system\n",
    "- shapely: more \"mathematical\" treatment on polygons and geometric operations\n",
    "    - many of the strong geospatial libraries (eg. geopandas, osmnx, rasterio) uses some kind of derivatives of `fiona` or `gdal` etc, on which `shapely` is also built upon. \n",
    "    - it seems more natural to use with those geospatial data (ie. data with actual earth coordinates attached)\n",
    "    - less headache to think about crs conversion between image crs and cartesian coordinate system)or vector (or line and other shapes in cartesian coordinate)"
   ]
  },
  {
   "cell_type": "code",
   "execution_count": null,
   "metadata": {},
   "outputs": [],
   "source": [
    "%load_ext autoreload\n",
    "%autoreload 2\n",
    "\n",
    "import os, sys, time\n",
    "import numpy as np\n",
    "import scipy as sp\n",
    "import pandas as pd\n",
    "import intake\n",
    "    \n",
    "from pathlib import Path\n",
    "from pprint import pprint as pp\n",
    "p = print \n",
    "\n",
    "from sklearn.externals import joblib\n",
    "import pdb\n",
    "\n",
    "import matplotlib.pyplot as plt\n",
    "%matplotlib inline\n",
    "\n",
    "# ignore warnings\n",
    "import warnings\n",
    "if not sys.warnoptions:\n",
    "    warnings.simplefilter('ignore')\n",
    "    \n",
    "# Don't generate bytecode\n",
    "sys.dont_write_bytecode = True"
   ]
  },
  {
   "cell_type": "code",
   "execution_count": null,
   "metadata": {},
   "outputs": [],
   "source": [
    "import holoviews as hv\n",
    "import xarray as xr\n",
    "\n",
    "from holoviews import opts\n",
    "from holoviews.operation.datashader import datashade, shade, dynspread, rasterize\n",
    "from holoviews.streams import Stream, param\n",
    "from holoviews import streams\n",
    "import geoviews as gv\n",
    "import geoviews.feature as gf\n",
    "from geoviews import tile_sources as gvts\n",
    "import panel as pn\n",
    "hv.notebook_extension('bokeh')\n",
    "hv.Dimension.type_formatters[np.datetime64] = '%Y-%m-%d'\n",
    "pn.extension()\n",
    "\n",
    "import geopandas as gpd\n",
    "import cartopy.crs as ccrs\n",
    "import cartopy.feature as cf"
   ]
  },
  {
   "cell_type": "code",
   "execution_count": null,
   "metadata": {},
   "outputs": [],
   "source": [
    "# Add the utils directory to the search path\n",
    "UTILS_DIR = Path('../utils').absolute()\n",
    "assert UTILS_DIR.exists()\n",
    "if str(UTILS_DIR) not in sys.path:\n",
    "    sys.path.insert(0, str(UTILS_DIR))\n",
    "    print(f\"Added {str(UTILS_DIR)} to sys.path\")\n",
    "\n",
    "pp(sys.path)\n",
    "    "
   ]
  },
  {
   "cell_type": "code",
   "execution_count": null,
   "metadata": {},
   "outputs": [],
   "source": [
    "from utils import get_mro as mro, nprint\n",
    "import utils as u\n",
    "from vector import Vector as vec"
   ]
  },
  {
   "cell_type": "code",
   "execution_count": null,
   "metadata": {},
   "outputs": [],
   "source": [
    "# list_cmaps(provider='colorcet', category='Sequential')"
   ]
  },
  {
   "cell_type": "code",
   "execution_count": null,
   "metadata": {},
   "outputs": [],
   "source": [
    "%opts Image [colorbar=True, tools=['hover']] Curve [tools=['hover']]"
   ]
  },
  {
   "cell_type": "code",
   "execution_count": null,
   "metadata": {},
   "outputs": [],
   "source": [
    "# Grab registered bokeh renderer\n",
    "print(\"Currently available renderers: \", *hv.Store.renderers.keys())\n",
    "renderer = hv.renderer('bokeh')"
   ]
  },
  {
   "cell_type": "code",
   "execution_count": null,
   "metadata": {},
   "outputs": [],
   "source": [
    "class Line2d():\n",
    "    \"\"\" \n",
    "    Representation of a line in two dimsional space defined by two end points\n",
    "    \"\"\"\n",
    "    \n",
    "    def __init__(self, p0, p1):\n",
    "        \"\"\"\"\n",
    "        Args:\n",
    "        - p0 (2dim vec)\n",
    "        - p1 (2dim vec)\n",
    "        \"\"\"\n",
    "        assert p0.ndim == 2 and p1.ndim == 2\n",
    "        self.p0 = p0\n",
    "        self.p1 = p1\n",
    "        \n",
    "    def length(self):\n",
    "        return (p0-p1).norm\n",
    "    \n",
    "    def slope(self):\n",
    "        return (p1[1]-p0[1])/(p1[0]-p0[0])\n",
    "    \n",
    "    def unit_tangent(self):\n",
    "        \"\"\"Unit tangent(ie. velocity vector)\n",
    "        \"\"\"\n",
    "        return (p1-p0).normalize()\n",
    "        \n",
    "    def unit_normal(self):\n",
    "        x,y = self.unit_tangent()\n",
    "        return vec(-y,x)\n",
    "    \n",
    "    def get_normal_band(self, distance):\n",
    "        \"\"\"\n",
    "        Use the normal vector as the directional vector to construct a bbox around this line\n",
    "        - distance (float)\n",
    "        \"\"\"\n",
    "        return self.get_band(self.unit_normal(), distance)\n",
    "    \n",
    "    def get_band(self, direction, distance):\n",
    "        \"\"\"\n",
    "        Args:\n",
    "        - direction (2d vec): Doesn't have to be of unit length as we will do the normalization again.\n",
    "        If the angle from self.tangent to direction vector is not in range [0,np.pi], \n",
    "        we negate the direction vector in order to preserve the ordering of returned band box\n",
    "        - distance (positive float)\n",
    "        \n",
    "        Returns:\n",
    "        - (top-left, bottom-left, bottom-right, top-right): a list of Vector that represents\n",
    "        the band bbox\n",
    "        \"\"\"\n",
    "        assert direction.ndim == 2 and distance >= 0\n",
    "        direction = direction.normalize() \n",
    "        \n",
    "        if self.unit_tangent().inner(direction) < 0:\n",
    "            print(\"direction vector is flipped\")\n",
    "            direction = i\n",
    "        b0 = self.p0 + direction\n",
    "        b1 = self.p0 - direction\n",
    "        b2 = self.p1 - direction\n",
    "        b3 = self.p1 + direction\n",
    "        \n",
    "        return (b0, b1, b2, b3)\n",
    "    \n",
    "    def hvplot(self, **opts):\n",
    "        return hv.Curve([self.p0, self.p1]).opts(**opts).opts(padding=0.1, aspect='equal')#,data_aspect=1))\n",
    "    \n",
    "    def __repr__(self):\n",
    "        return f\"Line2d({self.p0.values}, {self.p1.values})\"\n",
    "        \n",
    "    "
   ]
  },
  {
   "cell_type": "code",
   "execution_count": null,
   "metadata": {},
   "outputs": [],
   "source": [
    "p0 = vec(0,0)\n",
    "p1 = vec(2,1)\n",
    "l = Line2d(p0,p1)"
   ]
  },
  {
   "cell_type": "code",
   "execution_count": null,
   "metadata": {},
   "outputs": [],
   "source": [
    "l"
   ]
  },
  {
   "cell_type": "code",
   "execution_count": null,
   "metadata": {},
   "outputs": [],
   "source": [
    "l.hvplot() * p0.hvplot(color='b', size=10) * p1.hvplot(color='r', size=10) *p1.rotate(90).hvplot(color='g', size=10)"
   ]
  },
  {
   "cell_type": "code",
   "execution_count": null,
   "metadata": {},
   "outputs": [],
   "source": [
    "l2 = Line2d(p0, p1.rotate(90))\n",
    "(\n",
    "    l.hvplot() \n",
    "    * p0.hvplot(color='b', size=10) \n",
    "    * p1.hvplot(color='r', size=10) \n",
    "    *p1.rotate(90).hvplot(color='g', size=10)\n",
    "    * l2.hvplot()\n",
    ")"
   ]
  },
  {
   "cell_type": "code",
   "execution_count": null,
   "metadata": {},
   "outputs": [],
   "source": [
    "t = l.unit_tangent()\n",
    "n = l.unit_normal()\n",
    "(\n",
    "    l.hvplot() \n",
    "    * t.hvplot(color='r')\n",
    "    * n.hvplot(color='g')\n",
    "    \n",
    ")"
   ]
  },
  {
   "cell_type": "code",
   "execution_count": null,
   "metadata": {},
   "outputs": [],
   "source": [
    "t.norm(), n.norm()"
   ]
  },
  {
   "cell_type": "markdown",
   "metadata": {},
   "source": [
    "Let's get a bbox of a buffer around the line object.\n",
    "\n",
    "![line_buffer](../assets/line_buffer.png)"
   ]
  },
  {
   "cell_type": "code",
   "execution_count": null,
   "metadata": {},
   "outputs": [],
   "source": [
    "band = l.get_normal_band(1.)"
   ]
  },
  {
   "cell_type": "code",
   "execution_count": null,
   "metadata": {},
   "outputs": [],
   "source": [
    "def test_Line2d_get_normal_band_1():\n",
    "    from shapely.geometry import Polygon\n",
    "    p0 = vec(0,0)\n",
    "    p1 = vec(0,1)\n",
    "\n",
    "    l = Line2d(p0,p1)\n",
    "    band = l.get_normal_band(distance=1)\n",
    "    overlay = (\n",
    "        l.hvplot() \n",
    "        * l.unit_normal().hvplot(color='r', size=10)\n",
    "        * hv.Polygons([Polygon(band)]).opts(alpha=0.1)\n",
    "    )\n",
    "    display(overlay)\n",
    "    \n",
    "def test_Line2d_get_normal_band_2():\n",
    "    from shapely.geometry import Polygon\n",
    "\n",
    "    p0 = vec(0,0)\n",
    "    p1 = vec(2,1)\n",
    "\n",
    "    l = Line2d(p0,p1)\n",
    "    band = l.get_normal_band(1)\n",
    "    overlay = (\n",
    "        l.hvplot() \n",
    "        * l.unit_normal().hvplot(color='r', size=10)\n",
    "        * hv.Polygons([Polygon(band)]).opts(alpha=0.1)\n",
    "    )\n",
    "    display(overlay)\n",
    "    \n"
   ]
  },
  {
   "cell_type": "code",
   "execution_count": null,
   "metadata": {},
   "outputs": [],
   "source": [
    "test_Line2d_get_normal_band_2()"
   ]
  },
  {
   "cell_type": "code",
   "execution_count": null,
   "metadata": {},
   "outputs": [],
   "source": [
    "p0 = vec(0,0)\n",
    "p1 = vec(2,1)\n",
    "\n",
    "l = Line2d(p0,p1)\n",
    "band = l.get_normal_band(1)"
   ]
  },
  {
   "cell_type": "code",
   "execution_count": null,
   "metadata": {},
   "outputs": [],
   "source": [
    "(\n",
    "    l.hvplot() \n",
    "    *l.unit_normal().hvplot(color='r', size=10)\n",
    "    * hv.Polygons([Polygon(band)]).opts(alpha=0.1)\n",
    "        \n",
    ")"
   ]
  },
  {
   "cell_type": "code",
   "execution_count": null,
   "metadata": {},
   "outputs": [],
   "source": [
    "# We can easily specify a directional vector for the band box method\n",
    "ydir = vec(0,1)\n",
    "band1 = l.get_band(ydir, 1)\n",
    "\n",
    "xdir = vec(1,0) # this will trigger the flipping when requested to get the band box\n",
    "band2 = l.get_band(xdir, 1)\n",
    "(\n",
    "    l.hvplot() \n",
    "    * hv.Polygons([Polygon(band1)]).opts(alpha=0.1, color='b')\n",
    "    * hv.Polygons([Polygon(band2)]).opts(alpha=0.1, color='r')\n",
    "\n",
    "        \n",
    ")"
   ]
  },
  {
   "cell_type": "code",
   "execution_count": null,
   "metadata": {},
   "outputs": [],
   "source": []
  }
 ],
 "metadata": {
  "kernelspec": {
   "display_name": "Python [conda env:earthml]",
   "language": "python",
   "name": "conda-env-earthml-py"
  },
  "language_info": {
   "codemirror_mode": {
    "name": "ipython",
    "version": 3
   },
   "file_extension": ".py",
   "mimetype": "text/x-python",
   "name": "python",
   "nbconvert_exporter": "python",
   "pygments_lexer": "ipython3",
   "version": "3.7.3"
  }
 },
 "nbformat": 4,
 "nbformat_minor": 2
}
