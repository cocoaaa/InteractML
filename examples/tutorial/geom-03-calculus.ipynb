{
 "cells": [
  {
   "cell_type": "markdown",
   "metadata": {},
   "source": [
    "Modified: Jul 30, 2019\n",
    "# Basic Calculus Operations"
   ]
  },
  {
   "cell_type": "code",
   "execution_count": null,
   "metadata": {},
   "outputs": [],
   "source": [
    "%load_ext autoreload\n",
    "%autoreload 2\n",
    "\n",
    "import os, sys, time\n",
    "import numpy as np\n",
    "import scipy as sp\n",
    "import pandas as pd\n",
    "import intake\n",
    "    \n",
    "from pathlib import Path\n",
    "from pprint import pprint as pp\n",
    "p = print \n",
    "\n",
    "from sklearn.externals import joblib\n",
    "import pdb\n",
    "\n",
    "import matplotlib.pyplot as plt\n",
    "%matplotlib inline\n",
    "\n",
    "# ignore warnings\n",
    "import warnings\n",
    "if not sys.warnoptions:\n",
    "    warnings.simplefilter('ignore')\n",
    "    \n",
    "# Don't generate bytecode\n",
    "sys.dont_write_bytecode = True"
   ]
  },
  {
   "cell_type": "code",
   "execution_count": null,
   "metadata": {},
   "outputs": [],
   "source": [
    "import holoviews as hv\n",
    "import xarray as xr\n",
    "\n",
    "from holoviews import opts\n",
    "from holoviews.operation.datashader import datashade, shade, dynspread, rasterize\n",
    "from holoviews.streams import Stream, param\n",
    "from holoviews import streams\n",
    "import panel as pn\n",
    "\n",
    "hv.notebook_extension('bokeh')\n",
    "hv.Dimension.type_formatters[np.datetime64] = '%Y-%m-%d'\n",
    "pn.extension()"
   ]
  },
  {
   "cell_type": "code",
   "execution_count": null,
   "metadata": {},
   "outputs": [],
   "source": [
    "import geopandas as gpd\n",
    "import cartopy.crs as ccrs\n",
    "import cartopy.feature as cf\n",
    "\n",
    "import geoviews as gv\n",
    "import geoviews.feature as gf\n",
    "from geoviews import tile_sources as gvts"
   ]
  },
  {
   "cell_type": "code",
   "execution_count": null,
   "metadata": {},
   "outputs": [],
   "source": [
    "# Add the utils directory to the search path\n",
    "UTILS_DIR = Path('../utils').absolute()\n",
    "assert UTILS_DIR.exists()\n",
    "if str(UTILS_DIR) not in sys.path:\n",
    "    sys.path.insert(0, str(UTILS_DIR))\n",
    "    print(f\"Added {str(UTILS_DIR)} to sys.path\")\n",
    "\n",
    "pp(sys.path)"
   ]
  },
  {
   "cell_type": "code",
   "execution_count": null,
   "metadata": {},
   "outputs": [],
   "source": [
    "from utils import get_mro as mro, nprint\n",
    "import utils as u\n",
    "\n",
    "from vector import Vector as vec\n",
    "from line import Line2d\n",
    "import calculus as calc"
   ]
  },
  {
   "cell_type": "code",
   "execution_count": null,
   "metadata": {},
   "outputs": [],
   "source": [
    "opts.defaults(\n",
    "    opts.Image(colorbar=True, tools=['hover'], active_tools=['wheel_zoom'],\n",
    "               padding=0.1, aspect='equal'),\n",
    "    opts.Curve(tools=['hover'], padding=0.1),\n",
    ")\n"
   ]
  },
  {
   "cell_type": "code",
   "execution_count": null,
   "metadata": {},
   "outputs": [],
   "source": [
    "# Grab registered bokeh renderer\n",
    "print(\"Currently available renderers: \", *hv.Store.renderers.keys())\n",
    "renderer = hv.renderer('bokeh')"
   ]
  },
  {
   "cell_type": "code",
   "execution_count": null,
   "metadata": {},
   "outputs": [],
   "source": [
    "# test grid class\n",
    "from grid import CartesianGrid\n",
    "from sdfs import sdUnitHline, sdStar1, eval_sdf\n",
    "from functools import partial\n",
    "from samples import LSTestSample\n",
    "\n",
    "xs = np.linspace(-1,1,10)\n",
    "ys = np.linspace(-1,1,10)[::-1]\n",
    "zz = eval_sdf(xs, ys, sdStar1)"
   ]
  },
  {
   "cell_type": "code",
   "execution_count": null,
   "metadata": {},
   "outputs": [],
   "source": [
    "xs, ys, zz = LSTestSample.linear_array()\n"
   ]
  },
  {
   "cell_type": "code",
   "execution_count": null,
   "metadata": {},
   "outputs": [],
   "source": [
    "hv.Image("
   ]
  },
  {
   "cell_type": "code",
   "execution_count": null,
   "metadata": {},
   "outputs": [],
   "source": [
    "hv.Image((xs,ys,zz))"
   ]
  },
  {
   "cell_type": "code",
   "execution_count": null,
   "metadata": {},
   "outputs": [],
   "source": [
    "r0 = [0]*9\n",
    "r1 = [1]*9\n",
    "\n",
    "np.r_[ [r0,r0,r0, r1,r1,r1, r0,r0,r0, r1,r1,r1] ]\n",
    "np.c_[r0,r0,r0, r1,r1,r1, r0,r0,r0, r1,r1,r1 ]"
   ]
  },
  {
   "cell_type": "code",
   "execution_count": null,
   "metadata": {},
   "outputs": [],
   "source": [
    "r = np.r_[ [r0,r1] ] ; r"
   ]
  },
  {
   "cell_type": "code",
   "execution_count": null,
   "metadata": {},
   "outputs": [],
   "source": [
    "np.tile(r, (1,2))"
   ]
  },
  {
   "cell_type": "code",
   "execution_count": null,
   "metadata": {},
   "outputs": [],
   "source": [
    "pattern = np.atleast_2d([0,0,0,1,1,1])\n",
    "np.tile(pattern, (3,3))"
   ]
  },
  {
   "cell_type": "code",
   "execution_count": null,
   "metadata": {},
   "outputs": [],
   "source": [
    "np.tile(pattern.T, (2,"
   ]
  },
  {
   "cell_type": "code",
   "execution_count": null,
   "metadata": {},
   "outputs": [],
   "source": [
    "pulse = LSTestSample.pulse_grid()\n",
    "test = LSTestSample.manual_grid1()"
   ]
  },
  {
   "cell_type": "code",
   "execution_count": null,
   "metadata": {},
   "outputs": [],
   "source": [
    "pulse"
   ]
  },
  {
   "cell_type": "code",
   "execution_count": null,
   "metadata": {},
   "outputs": [],
   "source": [
    "pulse.shape\n"
   ]
  },
  {
   "cell_type": "code",
   "execution_count": null,
   "metadata": {},
   "outputs": [],
   "source": [
    "(\n",
    "    hv.Image(pulse, label='x-pulse') \n",
    "    + hv.Image(pulse.T, label='y-pulse') \n",
    "    + hv.Image(test, label='test')\n",
    ").opts(normalize=False).opts( opts.Image(cmap='gray') ).cols(2)"
   ]
  },
  {
   "cell_type": "code",
   "execution_count": null,
   "metadata": {},
   "outputs": [],
   "source": [
    "dxb, dxf = calc.gradx_bf(pulse, True)\n",
    "dyb, dyf = calc.grady_bf(pulse, True)"
   ]
  },
  {
   "cell_type": "code",
   "execution_count": null,
   "metadata": {},
   "outputs": [],
   "source": [
    "bounds = (0,0,*pulse.shape)\n",
    "gridstyle = {\n",
    "#     'grid_line_dash': [10, 10],\n",
    "    'grid_line_color': 'black', \n",
    "    'minor_grid_line_color':'lightgray',\n",
    "    'grid_bounds':(0,pulse.shape[0]),\n",
    "}"
   ]
  },
  {
   "cell_type": "code",
   "execution_count": null,
   "metadata": {},
   "outputs": [],
   "source": [
    "%%opts Image (cmap='gray', alpha=0.9) [show_grid=True, gridstyle=gridstyle]\n",
    "base = hv.Image(pulse, bounds=bounds, label='original') \n",
    "(\n",
    "    base + hv.Image(dxb, bounds=bounds, label='dxb') \n",
    "    + base + hv.Image(dxf, bounds=bounds, label='dxf')\n",
    "    + base + hv.Image(dyb, bounds=bounds, label='dyb') \n",
    "    + base + hv.Image(dyf, bounds=bounds, label='dyf')\n",
    ").cols(2)"
   ]
  },
  {
   "cell_type": "code",
   "execution_count": null,
   "metadata": {},
   "outputs": [],
   "source": [
    "calc.run_grad_tests()"
   ]
  },
  {
   "cell_type": "code",
   "execution_count": null,
   "metadata": {},
   "outputs": [],
   "source": [
    "calc.test_diff1_bf_on_pulse_x()"
   ]
  },
  {
   "cell_type": "code",
   "execution_count": null,
   "metadata": {},
   "outputs": [],
   "source": [
    "calc.test_diff1_central_on_pulse_x()"
   ]
  },
  {
   "cell_type": "code",
   "execution_count": null,
   "metadata": {},
   "outputs": [],
   "source": [
    "calc.test_diff1_bf_on_linear_array()"
   ]
  },
  {
   "cell_type": "code",
   "execution_count": null,
   "metadata": {},
   "outputs": [],
   "source": [
    "*_, linear = LSTestSample.linear_array()\n",
    "dxb,dxf, dyb, dyf= calc.diff1_bf(linear[:10,:10])"
   ]
  },
  {
   "cell_type": "code",
   "execution_count": null,
   "metadata": {},
   "outputs": [],
   "source": [
    "dyf_img = hv.Image(dyf)"
   ]
  },
  {
   "cell_type": "code",
   "execution_count": null,
   "metadata": {},
   "outputs": [],
   "source": [
    "%opts Image (cmap='gray') {+axiswise}\n",
    "\n",
    "dyf_img + hv.operation.histogram(dyf_img, bin_range=(-.05,.05))"
   ]
  },
  {
   "cell_type": "code",
   "execution_count": null,
   "metadata": {},
   "outputs": [],
   "source": [
    "clipping = {'min': 'red', 'max': 'green', 'NaN': 'gray'}\n",
    "temp_opts = dict(cmap='Blues_r', colorbar=True, width=300, height=230, axiswise=True)\n"
   ]
  },
  {
   "cell_type": "code",
   "execution_count": null,
   "metadata": {},
   "outputs": [],
   "source": [
    "dyf_img.opts(width=500, height=500, data_aspect=1, cmap='gray', clipping_colors=clipping)"
   ]
  },
  {
   "cell_type": "markdown",
   "metadata": {},
   "source": [
    "The cause of the stripe pattern is the floating point precision. Even though numpy semantically acknowledges they are really really close, thus the same number (determined by np.isclose), python's `==` will say they are not the same number. This will occur often during the finite difference operations, so let's write a function that remaps all close-enough-that-they-are-the-same values to a unqie representative number. \n",
    "\n",
    "- Modified: Jul 30, 2019\n",
    "    - this function is in `uitls.py`, and is called 'clip_close_values'"
   ]
  },
  {
   "cell_type": "code",
   "execution_count": null,
   "metadata": {},
   "outputs": [],
   "source": [
    "from utils import clip_close_values"
   ]
  },
  {
   "cell_type": "code",
   "execution_count": null,
   "metadata": {},
   "outputs": [],
   "source": [
    "def linear_array():\n",
    "    h,w = 100,100\n",
    "    xs = np.linspace(-1,1,num=w)\n",
    "    ys = np.linspace(-1,1,num=h)[::-1]\n",
    "    zz = np.empty((w,h))\n",
    "    for i in range(len(xs)):\n",
    "        for j in range(len(ys)):\n",
    "            zz[j,i] = ys[j] \n",
    "    return (xs,ys,zz)\n",
    "\n",
    "xs,ys,zz = linear_array()"
   ]
  },
  {
   "cell_type": "code",
   "execution_count": null,
   "metadata": {},
   "outputs": [],
   "source": [
    "plt.imshow(zz,cmap='gray')"
   ]
  },
  {
   "cell_type": "code",
   "execution_count": null,
   "metadata": {},
   "outputs": [],
   "source": [
    "# dy, dx = np.gradient(zz)\n",
    "dy,dx = calc.diff1_central(zz)"
   ]
  },
  {
   "cell_type": "code",
   "execution_count": null,
   "metadata": {},
   "outputs": [],
   "source": [
    "plt.imshow(dy,cmap='gray')"
   ]
  },
  {
   "cell_type": "code",
   "execution_count": null,
   "metadata": {},
   "outputs": [],
   "source": [
    "hv.Image(dy).opts(cmap='gray').hist()"
   ]
  },
  {
   "cell_type": "markdown",
   "metadata": {},
   "source": [
    "Lovely!:)"
   ]
  },
  {
   "cell_type": "code",
   "execution_count": null,
   "metadata": {},
   "outputs": [],
   "source": [
    "tiny1 = 0#0.02020202020202011\n",
    "tiny2 = 1#0.020202020202020332\n",
    "original = np.atleast_2d([tiny1,tiny1, tiny2, tiny2, tiny1])"
   ]
  },
  {
   "cell_type": "code",
   "execution_count": null,
   "metadata": {},
   "outputs": [],
   "source": [
    "original = dyf\n",
    "clipped = clip_close_values(original)\n",
    "f,ax = plt.subplots(1,2)\n",
    "ax[0].imshow(original)\n",
    "ax[0].set_title('original')\n",
    "ax[1].imshow(clipped)\n",
    "ax[1].set_title('clipped')"
   ]
  },
  {
   "cell_type": "markdown",
   "metadata": {},
   "source": [
    "Beautiful!! well done:)\n",
    "Now moving on...."
   ]
  },
  {
   "cell_type": "markdown",
   "metadata": {},
   "source": [
    "Next step is to check if this cleaning up fixes the levelset propagation bugs. "
   ]
  },
  {
   "cell_type": "code",
   "execution_count": null,
   "metadata": {},
   "outputs": [],
   "source": []
  }
 ],
 "metadata": {
  "kernelspec": {
   "display_name": "Python [conda env:earthml]",
   "language": "python",
   "name": "conda-env-earthml-py"
  },
  "language_info": {
   "codemirror_mode": {
    "name": "ipython",
    "version": 3
   },
   "file_extension": ".py",
   "mimetype": "text/x-python",
   "name": "python",
   "nbconvert_exporter": "python",
   "pygments_lexer": "ipython3",
   "version": "3.7.3"
  }
 },
 "nbformat": 4,
 "nbformat_minor": 2
}
