{
 "cells": [
  {
   "cell_type": "markdown",
   "metadata": {},
   "source": [
    "Modified: Jul 18, 2019\n",
    "# Gradient field visualization\n",
    "- Correctly ground numpy array to visualize in the Cartesian coordinate system\n"
   ]
  },
  {
   "cell_type": "code",
   "execution_count": null,
   "metadata": {},
   "outputs": [],
   "source": [
    "%load_ext autoreload\n",
    "%autoreload 2\n",
    "\n",
    "import os, sys, time\n",
    "import numpy as np\n",
    "import scipy as sp\n",
    "from scipy.signal import correlate2d\n",
    "import pandas as pd\n",
    "    \n",
    "from pathlib import Path\n",
    "from pprint import pprint as pp\n",
    "\n",
    "from sklearn.externals import joblib\n",
    "import pdb\n",
    "\n",
    "import matplotlib.pyplot as plt\n",
    "%matplotlib inline\n",
    "\n",
    "# ignore warnings\n",
    "import warnings\n",
    "if not sys.warnoptions:\n",
    "    warnings.simplefilter('ignore')\n",
    "    \n",
    "# Don't generate bytecode\n",
    "sys.dont_write_bytecode = True"
   ]
  },
  {
   "cell_type": "code",
   "execution_count": null,
   "metadata": {},
   "outputs": [],
   "source": [
    "import holoviews as hv\n",
    "import xarray as xr\n",
    "\n",
    "from holoviews import opts, dim\n",
    "from holoviews.operation.datashader import datashade, shade, dynspread, rasterize\n",
    "from holoviews.streams import Stream, param\n",
    "from holoviews import streams\n",
    "import geoviews as gv\n",
    "import geoviews.feature as gf\n",
    "from geoviews import tile_sources as gvts\n",
    "\n",
    "import panel as pn\n",
    "import geopandas as gpd\n",
    "import cartopy.crs as ccrs\n",
    "import cartopy.feature as cf\n",
    "\n",
    "hv.notebook_extension('bokeh')\n",
    "hv.Dimension.type_formatters[np.datetime64] = '%Y-%m-%d'\n",
    "pn.extension()"
   ]
  },
  {
   "cell_type": "code",
   "execution_count": null,
   "metadata": {},
   "outputs": [],
   "source": [
    "# Add the utils directory to the search path\n",
    "UTILS_DIR = Path('../utils').absolute()\n",
    "assert UTILS_DIR.exists()\n",
    "if str(UTILS_DIR) not in sys.path:\n",
    "    sys.path.insert(0, str(UTILS_DIR))\n",
    "    print(f\"Added {str(UTILS_DIR)} to sys.path\")\n",
    "\n",
    "# pp(sys.path)\n",
    "    "
   ]
  },
  {
   "cell_type": "code",
   "execution_count": null,
   "metadata": {},
   "outputs": [],
   "source": [
    "from utils import get_mro as mro, nprint\n",
    "import utils as u\n",
    "from vector import Vector as vec"
   ]
  },
  {
   "cell_type": "markdown",
   "metadata": {},
   "source": [
    "### Set visualization options"
   ]
  },
  {
   "cell_type": "code",
   "execution_count": null,
   "metadata": {},
   "outputs": [],
   "source": [
    "%opts Image [colorbar=True, active_tools=['wheel_zoom'], tools=['hover']] Curve [tools=['hover'], active_tools=['wheel_zoom']] RGB [active_tools=['wheel_zoom'], tools=['hover']]"
   ]
  },
  {
   "cell_type": "code",
   "execution_count": null,
   "metadata": {},
   "outputs": [],
   "source": [
    "H, W = 300,300\n",
    "img_opts = opts.Image(height=H, width=W, colorbar_position='bottom')\n",
    "vfield_opts = opts.VectorField(width=W, height=H, color='Magnitude',\n",
    "#                                magnitude=dim('Magnitude').norm()*0.2,\n",
    "                               pivot='tip',\n",
    "                               rescale_lengths=True)\n",
    "curve_opts = opts.Points(size=5,width=W, height=H, padding=0.1, \n",
    "#                             xlim=(-10,10), ylim=(-10,10),\n",
    "#                         color=dim('p')*256-50\n",
    "                        )\n",
    "contour_opts = opts.Contours(width=W, height=H, \n",
    "                             colorbar=False, \n",
    "                             tools=['hover'])"
   ]
  },
  {
   "cell_type": "code",
   "execution_count": null,
   "metadata": {},
   "outputs": [],
   "source": [
    "# Grab registered bokeh renderer\n",
    "print(\"Currently available renderers: \", *hv.Store.renderers.keys())\n",
    "renderer = hv.renderer('bokeh')"
   ]
  },
  {
   "cell_type": "code",
   "execution_count": null,
   "metadata": {},
   "outputs": [],
   "source": [
    "def UV2angMag(U,V):\n",
    "    \"\"\"\n",
    "    Args:\n",
    "    - U,V (MxN np.ndarray): encodes X,Y coordinate grids respectively\n",
    "    \n",
    "    Returns:\n",
    "    - angle, mag: tuple of MxN np.ndarray that encode ang (or mag) for the grid space\n",
    "    That means, angle[j][i] at (X[j][i],Y[j][i]) location\n",
    "    \"\"\"\n",
    "    mag = np.sqrt(U**2 + V**2)\n",
    "    angle = (np.pi/2.) - np.arctan2(U/mag, V/mag)\n",
    "\n",
    "    return (angle, mag)"
   ]
  },
  {
   "cell_type": "code",
   "execution_count": null,
   "metadata": {},
   "outputs": [],
   "source": [
    "test_h, test_w = 51, 51\n",
    "\n",
    "test = np.zeros((test_h,test_w))\n",
    "ones = np.ones((7,7))\n",
    "\n",
    "test[7:14,7:14]=ones\n",
    "test[27:34,27:34]=ones\n",
    "\n",
    "\n",
    "plt.imshow(test, cmap='gray')"
   ]
  },
  {
   "cell_type": "code",
   "execution_count": null,
   "metadata": {},
   "outputs": [],
   "source": [
    "kernel = np.array([[-0.5,0,0.5]])\n",
    "\n",
    "gradx = correlate2d(test, kernel, mode='same')\n",
    "grady = correlate2d(test, kernel.T, mode='same')"
   ]
  },
  {
   "cell_type": "code",
   "execution_count": null,
   "metadata": {},
   "outputs": [],
   "source": [
    "f,ax = plt.subplots(1,2)\n",
    "ax = ax.flatten()\n",
    "ax[0].imshow(np.abs(gradx),cmap='gray');\n",
    "ax[1].imshow(np.abs(grady),cmap='gray');\n"
   ]
  },
  {
   "cell_type": "code",
   "execution_count": null,
   "metadata": {},
   "outputs": [],
   "source": [
    "test.shape, gradx.shape, grady.shape, kernel.shape\n"
   ]
  },
  {
   "cell_type": "code",
   "execution_count": null,
   "metadata": {},
   "outputs": [],
   "source": [
    "# Explicitly specify the gird to link/ground the values to cartesian coord. system\n",
    "test_xs, test_ys = list(range(test_w)), list(range(test_h))\n",
    "# x,y coordinate values in grid\n",
    "test_xx, test_yy = np.meshgrid(test_xs, test_ys)\n"
   ]
  },
  {
   "cell_type": "markdown",
   "metadata": {},
   "source": [
    "In other words, we will explicitly say the coordinates and function evaluate at the coordinates\n",
    "by providing actual <mark>values(!!)</mark> for the x,y coordinates! To visualize the numpy array (`test`) as shown, but grounded in our desired coordinates, we should flip the order of cooridnates in `test_yy` grid. Currently it's in decreasing order, but the cartesian cs's yaxis decreases as we move downwards.\n"
   ]
  },
  {
   "cell_type": "code",
   "execution_count": null,
   "metadata": {},
   "outputs": [],
   "source": [
    "(\n",
    "    hv.Image((test_xs, test_ys, test), label='ys=[0,..,50]').opts(img_opts) # test_ys = [0,...,50]\n",
    "    + hv.Image((test_xs, np.flip(test_ys), test), label='ys=[50,..,0]').opts(img_opts)\n",
    ").cols(2)"
   ]
  },
  {
   "cell_type": "code",
   "execution_count": null,
   "metadata": {},
   "outputs": [],
   "source": [
    "test_angle, test_mag = UV2angMag(gradx,grady)\n"
   ]
  },
  {
   "cell_type": "code",
   "execution_count": null,
   "metadata": {},
   "outputs": [],
   "source": [
    "gradfield = hv.VectorField( (test_xs, np.flip(test_ys), test_angle, test_mag) ).opts(vfield_opts)#"
   ]
  },
  {
   "cell_type": "code",
   "execution_count": null,
   "metadata": {},
   "outputs": [],
   "source": [
    "gradfield"
   ]
  },
  {
   "cell_type": "markdown",
   "metadata": {},
   "source": [
    "In summary, if you are visualizing a 2D data that is computed from the coordinate, eg: $zz = f(xx,yy) $, it is implicitly guaranteed that $ zz[j,i] == f(xx[j,i], yy[j,i])$. In this case, we don't need to worry about flipping the yaxis:\n",
    "\n",
    "```python\n",
    "xs = np.linspace(0,10)\n",
    "ys = list(range(4))\n",
    "xx, yy = np.meshgrid(xs, ys)\n",
    "zz = xx+yy\n",
    "\n",
    "hv.Image( (xs, ys, zz) )\n",
    "```\n",
    "\n",
    "However, if we need to specify which $zz[j,i]$ value corresponds to in x-y plane (eg. $zz$ is a numpy array or an image read from the disk), then we need to make sure the value $zz[j,i]$ is the value at $xx[j,i] and yy[j,i]$. In such case, we often need to flip `ys` to be in decreasing order (big->small) to be consistent with the Cartesian Coordinate System.\n",
    "\n",
    "```python\n",
    "img = imageio.imread('test.png')\n",
    "xs = list(range(img.width))\n",
    "ys = list(range(img.height)) # currently [0,...,height-1], ie. reverse of cartesian yaxis\n",
    "ys = np.flip(ys) # now, consistent with the cartesiann yaxis order\n",
    "\n",
    "hv.Image( (xs, ys, img) ) # this will show what you see with plt.imshow(img), grounded in the cartesian coordinate system\n",
    "\n",
    "```"
   ]
  },
  {
   "cell_type": "markdown",
   "metadata": {},
   "source": [
    "### Summary\n",
    "Workflow to read image, compute its gradx, grady, and visualizing the gradient field using hv.VectorField\n"
   ]
  },
  {
   "cell_type": "code",
   "execution_count": null,
   "metadata": {},
   "outputs": [],
   "source": [
    "# arr = iio.imread('../data/test/gradient.jpg')\n",
    "# or create a test arr\n",
    "arr = test"
   ]
  },
  {
   "cell_type": "code",
   "execution_count": null,
   "metadata": {},
   "outputs": [],
   "source": [
    "# compute image gradients in x direction and y direction\n",
    "kernel = np.array([[-1,1]]) #forward grad operation\n",
    "# kernel = np.array([[-0.5,0, 0.5]]) #centered grad operation\n",
    "gradx = correlate2d(test, kernel, mode='same')\n",
    "grady = correlate2d(test, kernel.T, mode='same')\n",
    "# angles and magnidute for the values at each [j,i] values in gradx and grady\n",
    "ang,mag = UV2angMag(gradx, grady)"
   ]
  },
  {
   "cell_type": "code",
   "execution_count": null,
   "metadata": {},
   "outputs": [],
   "source": [
    "# Since the `arr` is not grounded with x-y coordinates, we need to explicitly specify \n",
    "# which x,y coordinate arr[j,i] should be plotted on\n",
    "nr, nc = arr.shape\n",
    "xs = list(range(nc))\n",
    "ys = list(range(nr)) # currently reverse order of Cartesian yaxis\n",
    "ys = np.flip(ys) # now consistent with the Cartesian yaxis ordering"
   ]
  },
  {
   "cell_type": "code",
   "execution_count": null,
   "metadata": {},
   "outputs": [],
   "source": [
    "\n",
    "\n",
    "(\n",
    "    hv.Image( (xs, ys, arr) ).opts(img_opts)\n",
    "    * hv.VectorField( (xs, ys, ang, mag) ).opts(vfield_opts)\n",
    ")"
   ]
  },
  {
   "cell_type": "markdown",
   "metadata": {},
   "source": [
    "Viola! now what we see using `holoviews` is exactly what we see using `plt.imshow`, and it is also what we intend to visualize. So, this shows how we can ground a numpy array (without x-y coordinate dimension labelled explicitly) to a cartesian coordinate system. "
   ]
  },
  {
   "cell_type": "markdown",
   "metadata": {},
   "source": [
    "The workflow is simpler, (ie. no need to flip the `ys`) when we can explicitly compute the `zz` value from `xx` and `yy`, as in that case, the mapping of `zz[j,i][ == func(xx[j,i], yy[j,i])` is gruanteed."
   ]
  },
  {
   "cell_type": "markdown",
   "metadata": {},
   "source": [
    "\n",
    "---\n",
    "\n",
    "## 2. Visualizing `zz` computed from `xx` and `yy` \n",
    "Now, we are more interested in mathematical domain, ie. x,y coordinates -> function value at each coordinate, rather than visualizing an array which natually doesn't have a notion of a coordinate system"
   ]
  },
  {
   "cell_type": "code",
   "execution_count": null,
   "metadata": {},
   "outputs": [],
   "source": [
    "def circle_phi(x,y):\n",
    "    \"\"\"Signed Distance function for a unit circle\"\"\"\n",
    "    return np.sqrt(x**2 + y**2) - 1\n",
    "\n",
    "def line_phi(x,y, ax,ay, bx, by):\n",
    "    \"\"\"\n",
    "    Signed Distance function for a line with endpoints a,b \n",
    "    \n",
    "    Args:\n",
    "    - x,y (float): query point's x,y coordinate\n",
    "    - ax, ay (float): one endpoint of the line\n",
    "    - bx, by (float): the other endpoint of the line\n",
    "    \"\"\"\n",
    "    return np.sqrt(x**2 + y**2) - 1"
   ]
  },
  {
   "cell_type": "code",
   "execution_count": null,
   "metadata": {},
   "outputs": [],
   "source": [
    "n_points = 100\n",
    "phi = circle_phi\n",
    "xs = np.linspace(-2, 2, num=n_points)\n",
    "ys = np.linspace(-1, 1, num=n_points)\n",
    "\n",
    "xx,yy = np.meshgrid(xs, ys)\n",
    "zz = phi(xx,yy)\n",
    "\n",
    "zz_img = hv.Image( (xs, ys, zz) ).opts(img_opts).opts(colorbar_position='bottom')\n",
    "zz_contour = hv.operation.contours(zz_img, levels=1).opts(contour_opts).opts(cmap='gray') #love this level=0:D\n"
   ]
  },
  {
   "cell_type": "code",
   "execution_count": null,
   "metadata": {},
   "outputs": [],
   "source": [
    "gradx = correlate2d(zz, kernel, mode='same')\n",
    "grady = correlate2d(zz, kernel.T, mode='same')\n",
    "ang, mag = UV2angMag(gradx, grady)"
   ]
  },
  {
   "cell_type": "code",
   "execution_count": null,
   "metadata": {},
   "outputs": [],
   "source": [
    "gradfield = hv.VectorField( (xs, ys, ang, mag) ).opts(vfield_opts)\n",
    "gradfield"
   ]
  },
  {
   "cell_type": "markdown",
   "metadata": {},
   "source": [
    "Finally, this is what we get:D"
   ]
  },
  {
   "cell_type": "code",
   "execution_count": null,
   "metadata": {},
   "outputs": [],
   "source": [
    "(\n",
    "    zz_img * zz_contour * gradfield\n",
    ").opts(height=500, width=500)\n"
   ]
  },
  {
   "cell_type": "code",
   "execution_count": null,
   "metadata": {},
   "outputs": [],
   "source": [
    "## sdf functions\n",
    "from sdfs import *\n",
    "# from vector import Vector as vec"
   ]
  },
  {
   "cell_type": "code",
   "execution_count": null,
   "metadata": {},
   "outputs": [],
   "source": [
    "n_points = 100\n",
    "xs = np.linspace(-2,2,n_points)\n",
    "ys = np.linspace(-2,2,n_points)"
   ]
  },
  {
   "cell_type": "code",
   "execution_count": null,
   "metadata": {},
   "outputs": [],
   "source": [
    "# wrapper to evaluate zz from sdf functions on the given x,y plane defined by `xs` and `ys`\n",
    "def eval_sdf(xs, ys, sdFunc):\n",
    "    zz = np.empty( (len(ys), len(xs)) )\n",
    "    \n",
    "    for j in range(len(ys)):\n",
    "        for i in range(len(xs)):\n",
    "            q = vec(xs[i],ys[j])\n",
    "            zz[j,i] = sdFunc(q)\n",
    "    return zz"
   ]
  },
  {
   "cell_type": "code",
   "execution_count": null,
   "metadata": {},
   "outputs": [],
   "source": [
    "def unit_xline_sdf(query):\n",
    "    a = vec(0.,0.)\n",
    "    b = vec(1.,0.)\n",
    "    return sdLine(query, a, b)\n",
    "\n",
    "\n",
    "# Alternatively\n",
    "from functools import partial\n",
    "sdUnitHline = partial(sdLine, a=vec(0.,0.), b=vec(1.0, 0.0))\n",
    "                      "
   ]
  },
  {
   "cell_type": "markdown",
   "metadata": {},
   "source": [
    "## Let's try different sdfs "
   ]
  },
  {
   "cell_type": "code",
   "execution_count": null,
   "metadata": {},
   "outputs": [],
   "source": [
    "# zz = eval_sdf(xs, ys, partial(sdCircle, radius=1))\n",
    "# sdfFunc = partial(sdTriangle, v0=vec(0,0), v1=vec(1,0), v2=vec(0.5, 0.5))\n",
    "sdfFunc = partial(sdStar, radius=1, n=5, m=5.)\n",
    "\n",
    "zz = eval_sdf(xs, ys, sdfFunc)"
   ]
  },
  {
   "cell_type": "code",
   "execution_count": null,
   "metadata": {},
   "outputs": [],
   "source": [
    "zz_img = hv.Image( (xs, ys, zz) ).opts(img_opts) \n",
    "zz_contour = hv.operation.contours(zz_img, levels=0).opts(contour_opts).opts(cmap='gray') #love this level=0:D\n",
    "zz_img * zz_contour;"
   ]
  },
  {
   "cell_type": "code",
   "execution_count": null,
   "metadata": {},
   "outputs": [],
   "source": [
    "gradx = correlate2d(zz, kernel, mode='same')\n",
    "grady = correlate2d(zz, kernel.T, mode='same')\n",
    "ang, mag = UV2angMag(gradx, grady)"
   ]
  },
  {
   "cell_type": "code",
   "execution_count": null,
   "metadata": {},
   "outputs": [],
   "source": [
    "gradfield = hv.VectorField( (xs, ys, ang, mag) ).opts(vfield_opts)\n",
    "gradfield;"
   ]
  },
  {
   "cell_type": "code",
   "execution_count": null,
   "metadata": {},
   "outputs": [],
   "source": [
    "(\n",
    "    zz_img * zz_contour * gradfield\n",
    ").opts(height=500, width=500)\n"
   ]
  },
  {
   "cell_type": "code",
   "execution_count": null,
   "metadata": {},
   "outputs": [],
   "source": [
    "q = vec2(0.,-1.)\n",
    "v0, v1, v2 = vec2(0,0), vec2(1,0), vec2(0.5, 0.5)\n",
    "sdTriangle(q, v0, v1, v2)"
   ]
  },
  {
   "cell_type": "code",
   "execution_count": null,
   "metadata": {},
   "outputs": [],
   "source": [
    "v = vec(1,0)\n",
    "u = vec(0,1)\n",
    "v.cross(u)"
   ]
  },
  {
   "cell_type": "markdown",
   "metadata": {},
   "source": [
    "---\n",
    "Modified: Jul 29, 2019\n",
    "## Two ways to annotate hv.Image's axis\n",
    "1. hv.Image((xs,ys,zz))\n",
    "2. hv.Image(zz, bounds=(xmin,ymin,xmax,ymax)"
   ]
  },
  {
   "cell_type": "markdown",
   "metadata": {},
   "source": [
    "## 1. hv.Image((xs,ys,zz))\n"
   ]
  },
  {
   "cell_type": "code",
   "execution_count": null,
   "metadata": {},
   "outputs": [],
   "source": [
    "h,w = 10,10\n",
    "xs = np.linspace(-1,1,num=w)\n",
    "ys = np.linspace(-1,1,num=h)#[::-1]\n",
    "zz = np.empty((w,h))\n",
    "for i in range(len(xs)):\n",
    "    for j in range(len(ys)):\n",
    "        zz[j,i] = ys[j] \n",
    "plt.imshow(zz)"
   ]
  },
  {
   "cell_type": "code",
   "execution_count": null,
   "metadata": {},
   "outputs": [],
   "source": [
    "%opts Image [tools=['hover'], colorbar_position='bottom'] (cmap='viridis')"
   ]
  },
  {
   "cell_type": "code",
   "execution_count": null,
   "metadata": {},
   "outputs": [],
   "source": [
    "## zz is not carteisan aligned in itself. so to give the right semantic to its axis, ys must be \n",
    "## in the order when zz was computed from xs and ys values\n",
    "(\n",
    "    hv.Image((xs,ys,zz)) # does  work as expected\n",
    "    + hv.Image((xs,ys[::-1], zz)) # doesn't work\n",
    "    + hv.Image(zz, bounds=(-1,-1,1,1)) #doesn't work\n",
    ")"
   ]
  },
  {
   "cell_type": "markdown",
   "metadata": {},
   "source": [
    "On the other hand, if we make a contract to use `ys` as a yaxis, ie. its yvalues decrease as we iterate through the list (or equivalently, as its index increases), then all different cases are in conherent coordinate system, ie. the Cartesian system:"
   ]
  },
  {
   "cell_type": "code",
   "execution_count": null,
   "metadata": {},
   "outputs": [],
   "source": [
    "h,w = 10,10\n",
    "xs = np.linspace(-1,1,num=w)\n",
    "ys = np.linspace(-1,1,num=h)[::-1]\n",
    "zz = np.empty((w,h))\n",
    "for i in range(len(xs)):\n",
    "    for j in range(len(ys)):\n",
    "        zz[j,i] = ys[j] \n",
    "        # underlying data itself is aligned with the cartesian coordinate system\n",
    "plt.imshow(zz);\n",
    "plt.title('Underlying data');"
   ]
  },
  {
   "cell_type": "code",
   "execution_count": null,
   "metadata": {},
   "outputs": [],
   "source": [
    "(\n",
    "    hv.Image((xs,ys,zz))\n",
    "+ hv.Image(zz, bounds=(-1,-1,1,1))\n",
    ")"
   ]
  },
  {
   "cell_type": "markdown",
   "metadata": {},
   "source": [
    "### Another non-trivial example"
   ]
  },
  {
   "cell_type": "code",
   "execution_count": null,
   "metadata": {},
   "outputs": [],
   "source": [
    "from sdfs import sdUnitHline, sdStar1,eval_sdf\n",
    "\n",
    "xs = np.linspace(-1,1,10)\n",
    "ys = np.linspace(-1,1,10)[::-1]\n",
    "zz = eval_sdf(xs, ys, sdStar1)\n",
    "\n"
   ]
  },
  {
   "cell_type": "code",
   "execution_count": null,
   "metadata": {},
   "outputs": [],
   "source": [
    "plt.imshow(zz)"
   ]
  },
  {
   "cell_type": "code",
   "execution_count": null,
   "metadata": {},
   "outputs": [],
   "source": [
    "(\n",
    "    hv.Image((xs,ys,zz)) + hv.Image(zz, bounds=(-1,-1,1,1))\n",
    ")"
   ]
  },
  {
   "cell_type": "code",
   "execution_count": null,
   "metadata": {},
   "outputs": [],
   "source": []
  },
  {
   "cell_type": "code",
   "execution_count": null,
   "metadata": {},
   "outputs": [],
   "source": []
  },
  {
   "cell_type": "code",
   "execution_count": null,
   "metadata": {},
   "outputs": [],
   "source": []
  },
  {
   "cell_type": "code",
   "execution_count": null,
   "metadata": {},
   "outputs": [],
   "source": []
  },
  {
   "cell_type": "code",
   "execution_count": null,
   "metadata": {},
   "outputs": [],
   "source": []
  },
  {
   "cell_type": "code",
   "execution_count": null,
   "metadata": {},
   "outputs": [],
   "source": []
  },
  {
   "cell_type": "markdown",
   "metadata": {},
   "source": [
    "## Conclusion\n",
    "I will stick to the second convension from now on in order to avoid confusing myself. \n",
    "Here is the template I'm going to follow:\n"
   ]
  },
  {
   "cell_type": "markdown",
   "metadata": {},
   "source": [
    "1. xs and ys are the sampled x and y axis in Cartesian cs\n",
    "\n",
    "```python\n",
    "xs = np.linspace(-1,1,w)\n",
    "ys = np.linspace(-1,1,h)[::-1] \n",
    "```\n",
    "2. Compute a function of the regular spaced xy sample domain \n",
    "\n",
    "```python\n",
    "zz = zfunc(xs,ys) \n",
    "```\n",
    "    At this point, zz's underlying data (as a `np.array` for instance) is in alignment with the Cartesian coordinate system.\n",
    "    You can check with matplotlib:\n",
    "    \n",
    "```python\n",
    "plt.imshow(zz)\n",
    "```\n",
    "\n",
    "3. hv.Image also gives the correctly displayed images:\n",
    "\n"
   ]
  },
  {
   "cell_type": "code",
   "execution_count": null,
   "metadata": {},
   "outputs": [],
   "source": [
    "(\n",
    "    hv.Image((xs,ys,zz))\n",
    "+ hv.Image(zz, bounds=(-1,-1,1,1))\n",
    ")"
   ]
  },
  {
   "cell_type": "code",
   "execution_count": null,
   "metadata": {},
   "outputs": [],
   "source": []
  },
  {
   "cell_type": "code",
   "execution_count": null,
   "metadata": {},
   "outputs": [],
   "source": []
  },
  {
   "cell_type": "code",
   "execution_count": null,
   "metadata": {},
   "outputs": [],
   "source": []
  },
  {
   "cell_type": "code",
   "execution_count": null,
   "metadata": {},
   "outputs": [],
   "source": []
  },
  {
   "cell_type": "code",
   "execution_count": null,
   "metadata": {},
   "outputs": [],
   "source": []
  },
  {
   "cell_type": "code",
   "execution_count": null,
   "metadata": {},
   "outputs": [],
   "source": []
  },
  {
   "cell_type": "code",
   "execution_count": null,
   "metadata": {},
   "outputs": [],
   "source": []
  },
  {
   "cell_type": "code",
   "execution_count": null,
   "metadata": {},
   "outputs": [],
   "source": []
  },
  {
   "cell_type": "code",
   "execution_count": null,
   "metadata": {},
   "outputs": [],
   "source": []
  },
  {
   "cell_type": "code",
   "execution_count": null,
   "metadata": {},
   "outputs": [],
   "source": []
  },
  {
   "cell_type": "code",
   "execution_count": null,
   "metadata": {},
   "outputs": [],
   "source": []
  },
  {
   "cell_type": "code",
   "execution_count": null,
   "metadata": {},
   "outputs": [],
   "source": []
  },
  {
   "cell_type": "code",
   "execution_count": null,
   "metadata": {},
   "outputs": [],
   "source": []
  },
  {
   "cell_type": "code",
   "execution_count": null,
   "metadata": {},
   "outputs": [],
   "source": []
  },
  {
   "cell_type": "code",
   "execution_count": null,
   "metadata": {},
   "outputs": [],
   "source": []
  },
  {
   "cell_type": "code",
   "execution_count": null,
   "metadata": {},
   "outputs": [],
   "source": []
  },
  {
   "cell_type": "code",
   "execution_count": null,
   "metadata": {},
   "outputs": [],
   "source": []
  },
  {
   "cell_type": "markdown",
   "metadata": {},
   "source": [
    "---\n",
    "Modified: Jul 19, 2019\n",
    "### `np.meshgrid` vs `np.mgrid`"
   ]
  },
  {
   "cell_type": "code",
   "execution_count": null,
   "metadata": {},
   "outputs": [],
   "source": [
    "a = [1,2,3]\n",
    "b = [10,20]\n",
    "aa,bb = np.meshgrid(a,b)\n",
    "nprint(aa,bb)"
   ]
  },
  {
   "cell_type": "code",
   "execution_count": null,
   "metadata": {},
   "outputs": [],
   "source": [
    "zz = aa+bb"
   ]
  },
  {
   "cell_type": "code",
   "execution_count": null,
   "metadata": {},
   "outputs": [],
   "source": [
    "hv.Image((a,b,zz)).opts(img_opts);"
   ]
  },
  {
   "cell_type": "code",
   "execution_count": null,
   "metadata": {},
   "outputs": [],
   "source": [
    "np.mgrid[0:3, 0:2]"
   ]
  },
  {
   "cell_type": "code",
   "execution_count": null,
   "metadata": {},
   "outputs": [],
   "source": [
    "a1, a2 = np.mgrid[1:4, 10:21:10]\n",
    "nprint(a1, a1.T)\n",
    "nprint (a2, a2.T)\n"
   ]
  },
  {
   "cell_type": "code",
   "execution_count": null,
   "metadata": {},
   "outputs": [],
   "source": [
    "nprint(a2,a1)"
   ]
  },
  {
   "cell_type": "markdown",
   "metadata": {},
   "source": [
    "### Summary "
   ]
  },
  {
   "cell_type": "code",
   "execution_count": null,
   "metadata": {},
   "outputs": [],
   "source": [
    "yy, xx = np.mgrid[10:21:10,1:4] #<-- order is: [yaxis slice, xaxis slice]\n",
    "# gives the same result as\n",
    "xx, yy = np.meshgrid( [1,2,3], [10,20] ) #<-- order is: (xval_list, yval_list)\n",
    "# the idea is we can write quickly with mgrid without using `range(...)` or `np.linspace` alike."
   ]
  },
  {
   "cell_type": "markdown",
   "metadata": {},
   "source": [
    "- Use `np.mgrid` with ys, xs (with slice notation) as input to `np.mgrid[...]`. Note the square bracket. Then the output will be in order of `yy` and `xx`\n",
    "\n",
    "- Use `np.meshgrid` with xs, ys specified with `range(...)` or `np.linspace` alike. \n",
    "    Then the output will be in order of `xx` and `yy`. \n",
    "\n",
    "Simple like that."
   ]
  },
  {
   "cell_type": "code",
   "execution_count": null,
   "metadata": {},
   "outputs": [],
   "source": []
  },
  {
   "cell_type": "code",
   "execution_count": null,
   "metadata": {},
   "outputs": [],
   "source": []
  },
  {
   "cell_type": "code",
   "execution_count": null,
   "metadata": {},
   "outputs": [],
   "source": []
  },
  {
   "cell_type": "code",
   "execution_count": null,
   "metadata": {},
   "outputs": [],
   "source": []
  },
  {
   "cell_type": "code",
   "execution_count": null,
   "metadata": {},
   "outputs": [],
   "source": []
  },
  {
   "cell_type": "code",
   "execution_count": null,
   "metadata": {},
   "outputs": [],
   "source": []
  },
  {
   "cell_type": "code",
   "execution_count": null,
   "metadata": {},
   "outputs": [],
   "source": []
  },
  {
   "cell_type": "code",
   "execution_count": null,
   "metadata": {},
   "outputs": [],
   "source": []
  },
  {
   "cell_type": "code",
   "execution_count": null,
   "metadata": {},
   "outputs": [],
   "source": []
  },
  {
   "cell_type": "code",
   "execution_count": null,
   "metadata": {},
   "outputs": [],
   "source": []
  },
  {
   "cell_type": "code",
   "execution_count": null,
   "metadata": {},
   "outputs": [],
   "source": []
  },
  {
   "cell_type": "code",
   "execution_count": null,
   "metadata": {},
   "outputs": [],
   "source": []
  },
  {
   "cell_type": "code",
   "execution_count": null,
   "metadata": {},
   "outputs": [],
   "source": []
  },
  {
   "cell_type": "code",
   "execution_count": null,
   "metadata": {},
   "outputs": [],
   "source": []
  },
  {
   "cell_type": "code",
   "execution_count": null,
   "metadata": {},
   "outputs": [],
   "source": []
  },
  {
   "cell_type": "code",
   "execution_count": null,
   "metadata": {},
   "outputs": [],
   "source": []
  },
  {
   "cell_type": "code",
   "execution_count": null,
   "metadata": {},
   "outputs": [],
   "source": []
  },
  {
   "cell_type": "code",
   "execution_count": null,
   "metadata": {},
   "outputs": [],
   "source": []
  },
  {
   "cell_type": "code",
   "execution_count": null,
   "metadata": {},
   "outputs": [],
   "source": []
  },
  {
   "cell_type": "code",
   "execution_count": null,
   "metadata": {},
   "outputs": [],
   "source": []
  },
  {
   "cell_type": "code",
   "execution_count": null,
   "metadata": {},
   "outputs": [],
   "source": []
  },
  {
   "cell_type": "code",
   "execution_count": null,
   "metadata": {},
   "outputs": [],
   "source": []
  },
  {
   "cell_type": "code",
   "execution_count": null,
   "metadata": {},
   "outputs": [],
   "source": []
  },
  {
   "cell_type": "code",
   "execution_count": null,
   "metadata": {},
   "outputs": [],
   "source": []
  },
  {
   "cell_type": "code",
   "execution_count": null,
   "metadata": {},
   "outputs": [],
   "source": []
  },
  {
   "cell_type": "code",
   "execution_count": null,
   "metadata": {},
   "outputs": [],
   "source": []
  },
  {
   "cell_type": "code",
   "execution_count": null,
   "metadata": {},
   "outputs": [],
   "source": []
  },
  {
   "cell_type": "code",
   "execution_count": null,
   "metadata": {},
   "outputs": [],
   "source": []
  },
  {
   "cell_type": "code",
   "execution_count": null,
   "metadata": {},
   "outputs": [],
   "source": []
  },
  {
   "cell_type": "code",
   "execution_count": null,
   "metadata": {},
   "outputs": [],
   "source": []
  },
  {
   "cell_type": "code",
   "execution_count": null,
   "metadata": {},
   "outputs": [],
   "source": []
  },
  {
   "cell_type": "code",
   "execution_count": null,
   "metadata": {},
   "outputs": [],
   "source": []
  },
  {
   "cell_type": "code",
   "execution_count": null,
   "metadata": {},
   "outputs": [],
   "source": []
  },
  {
   "cell_type": "code",
   "execution_count": null,
   "metadata": {},
   "outputs": [],
   "source": []
  },
  {
   "cell_type": "code",
   "execution_count": null,
   "metadata": {},
   "outputs": [],
   "source": []
  },
  {
   "cell_type": "code",
   "execution_count": null,
   "metadata": {},
   "outputs": [],
   "source": []
  },
  {
   "cell_type": "code",
   "execution_count": null,
   "metadata": {},
   "outputs": [],
   "source": []
  },
  {
   "cell_type": "code",
   "execution_count": null,
   "metadata": {},
   "outputs": [],
   "source": []
  },
  {
   "cell_type": "code",
   "execution_count": null,
   "metadata": {},
   "outputs": [],
   "source": []
  },
  {
   "cell_type": "code",
   "execution_count": null,
   "metadata": {},
   "outputs": [],
   "source": []
  },
  {
   "cell_type": "code",
   "execution_count": null,
   "metadata": {},
   "outputs": [],
   "source": []
  },
  {
   "cell_type": "code",
   "execution_count": null,
   "metadata": {},
   "outputs": [],
   "source": []
  },
  {
   "cell_type": "code",
   "execution_count": null,
   "metadata": {},
   "outputs": [],
   "source": []
  },
  {
   "cell_type": "code",
   "execution_count": null,
   "metadata": {},
   "outputs": [],
   "source": []
  },
  {
   "cell_type": "code",
   "execution_count": null,
   "metadata": {},
   "outputs": [],
   "source": []
  },
  {
   "cell_type": "code",
   "execution_count": null,
   "metadata": {},
   "outputs": [],
   "source": []
  },
  {
   "cell_type": "code",
   "execution_count": null,
   "metadata": {},
   "outputs": [],
   "source": []
  },
  {
   "cell_type": "code",
   "execution_count": null,
   "metadata": {},
   "outputs": [],
   "source": []
  },
  {
   "cell_type": "code",
   "execution_count": null,
   "metadata": {},
   "outputs": [],
   "source": []
  },
  {
   "cell_type": "code",
   "execution_count": null,
   "metadata": {},
   "outputs": [],
   "source": []
  },
  {
   "cell_type": "code",
   "execution_count": null,
   "metadata": {},
   "outputs": [],
   "source": []
  },
  {
   "cell_type": "code",
   "execution_count": null,
   "metadata": {},
   "outputs": [],
   "source": []
  },
  {
   "cell_type": "code",
   "execution_count": null,
   "metadata": {},
   "outputs": [],
   "source": []
  },
  {
   "cell_type": "code",
   "execution_count": null,
   "metadata": {},
   "outputs": [],
   "source": []
  },
  {
   "cell_type": "code",
   "execution_count": null,
   "metadata": {},
   "outputs": [],
   "source": []
  }
 ],
 "metadata": {
  "kernelspec": {
   "display_name": "Python [conda env:earthml_v2]",
   "language": "python",
   "name": "conda-env-earthml_v2-py"
  },
  "language_info": {
   "codemirror_mode": {
    "name": "ipython",
    "version": 3
   },
   "file_extension": ".py",
   "mimetype": "text/x-python",
   "name": "python",
   "nbconvert_exporter": "python",
   "pygments_lexer": "ipython3",
   "version": "3.7.3"
  }
 },
 "nbformat": 4,
 "nbformat_minor": 2
}
