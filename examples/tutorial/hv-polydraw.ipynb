{
 "cells": [
  {
   "cell_type": "markdown",
   "metadata": {},
   "source": [
    "Modified: Jul 31, 2019\n",
    "# hv.Polydraw linked stream"
   ]
  },
  {
   "cell_type": "code",
   "execution_count": null,
   "metadata": {},
   "outputs": [],
   "source": [
    "%load_ext autoreload\n",
    "%autoreload 2\n",
    "\n",
    "import os, sys\n",
    "import numpy as np\n",
    "import scipy as sp\n",
    "import pandas as pd\n",
    "import intake\n",
    "    \n",
    "from pathlib import Path\n",
    "from pprint import pprint\n",
    "from sklearn.externals import joblib\n",
    "import pdb\n",
    "\n",
    "import matplotlib.pyplot as plt\n",
    "%matplotlib inline\n",
    "\n",
    "# ignore warnings\n",
    "import warnings\n",
    "if not sys.warnoptions:\n",
    "    warnings.simplefilter('ignore')\n",
    "    \n",
    "# Don't generate bytecode\n",
    "sys.dont_write_bytecode = True\n",
    "\n",
    "import holoviews as hv\n",
    "import panel as pn\n",
    "from holoviews import opts\n",
    "hv.notebook_extension('bokeh')"
   ]
  },
  {
   "cell_type": "code",
   "execution_count": null,
   "metadata": {},
   "outputs": [],
   "source": [
    "from holoviews.streams import *"
   ]
  },
  {
   "cell_type": "code",
   "execution_count": null,
   "metadata": {},
   "outputs": [],
   "source": [
    "H,W = 450,450\n",
    "opts.defaults(\n",
    "    opts.Image(width=W, height=H, padding=0.1,\n",
    "               active_tools=['poly_draw','wheel_zoom']),\n",
    "    opts.Path(color='green', line_width=3, \n",
    "            width=W, height=H, padding=0.1),\n",
    "    opts.Polygons(fill_alpha=0.3, active_tools=['poly_draw', 'wheel_zoom'], \n",
    "                 width=W, height=H, padding=0.1)\n",
    ")"
   ]
  },
  {
   "cell_type": "markdown",
   "metadata": {},
   "source": [
    "## Set up a debug box using `param.watch`\n",
    "- refer to this excellent [tutorial](https://holoviz.org/tutorial/Interlinked_Panels.html) on how to add callbacks to param.parameter objects"
   ]
  },
  {
   "cell_type": "code",
   "execution_count": null,
   "metadata": {},
   "outputs": [],
   "source": [
    "mdbox = pn.pane.Markdown('')\n",
    "# mdbox.object = \"Hi!\""
   ]
  },
  {
   "cell_type": "code",
   "execution_count": null,
   "metadata": {},
   "outputs": [],
   "source": [
    "def echo_event(event):\n",
    "    output = f\"\"\"#Event log\n",
    "    {event}\n",
    "    \"\"\"\n",
    "    mdbox.object = output"
   ]
  },
  {
   "cell_type": "code",
   "execution_count": null,
   "metadata": {},
   "outputs": [],
   "source": [
    "slider = pn.widgets.IntSlider(value=0, start=0, end=10)\n"
   ]
  },
  {
   "cell_type": "code",
   "execution_count": null,
   "metadata": {},
   "outputs": [],
   "source": [
    "slider.param.watch(echo_event, 'value')"
   ]
  },
  {
   "cell_type": "code",
   "execution_count": null,
   "metadata": {},
   "outputs": [],
   "source": [
    "pn.Row(slider, mdbox)"
   ]
  },
  {
   "cell_type": "markdown",
   "metadata": {},
   "source": [
    "## Create a hv.Polygon element and add PolyDraw stream \n",
    "which receives the data from these elements"
   ]
  },
  {
   "cell_type": "code",
   "execution_count": null,
   "metadata": {},
   "outputs": [],
   "source": [
    "poly = hv.Polygons([(0,0),(2,0),(1,2)])\n",
    "empty_plot = hv.Polygons([])\n",
    "stream_from_poly = PolyDraw(source=poly, num_objects=10, drag=True, show_vertices=True)\n",
    "stream_from_plot = PolyDraw(source=empty_plot, num_objects=10, drag=True, show_vertices=True)\n",
    "poly + empty_plot"
   ]
  },
  {
   "cell_type": "code",
   "execution_count": null,
   "metadata": {},
   "outputs": [],
   "source": [
    "# poly_stream.param.watch(echo_event, 'data')\n",
    "stream_from_plot.param.watch(echo_event, 'data')"
   ]
  },
  {
   "cell_type": "code",
   "execution_count": null,
   "metadata": {},
   "outputs": [],
   "source": [
    "pn.Row(empty_plot,  mdbox)"
   ]
  },
  {
   "cell_type": "code",
   "execution_count": null,
   "metadata": {},
   "outputs": [],
   "source": [
    "# We can access the coordinates of the drawn polygon from the stream\n",
    "stream_from_plot.data"
   ]
  },
  {
   "cell_type": "markdown",
   "metadata": {},
   "source": [
    "## PolyDraw stream on hv.Image\n",
    "Let's see how it works with the underlying cartesian coordinate system of an hv.Image object. This will be useful for the levelset propagation interaction gui for segmentation."
   ]
  },
  {
   "cell_type": "code",
   "execution_count": null,
   "metadata": {},
   "outputs": [],
   "source": [
    "from skimage import io, img_as_float, data"
   ]
  },
  {
   "cell_type": "code",
   "execution_count": null,
   "metadata": {},
   "outputs": [],
   "source": [
    "img = img_as_float(data.binary_blobs())\n",
    "img.min(), img.max()"
   ]
  },
  {
   "cell_type": "code",
   "execution_count": null,
   "metadata": {},
   "outputs": [],
   "source": [
    "hvimg = hv.Image(img, bounds=(0,0,512,512))\n",
    "polyplot = hv.Polygons([])"
   ]
  },
  {
   "cell_type": "code",
   "execution_count": null,
   "metadata": {},
   "outputs": [],
   "source": [
    "draw_stream = PolyDraw(source=polyplot, num_objects=10, drag=True, show_vertices=True)\n",
    "draw_stream.param.watch(echo_event, 'data')\n",
    "# pn.Row(hvimg*polyplot, mdbox)"
   ]
  },
  {
   "cell_type": "code",
   "execution_count": null,
   "metadata": {},
   "outputs": [],
   "source": [
    "# Access the polydraw's polygon coordinates from the PolyDraw stream object\n",
    "draw_stream.data"
   ]
  },
  {
   "cell_type": "code",
   "execution_count": null,
   "metadata": {},
   "outputs": [],
   "source": [
    "@pn.depends(draw_stream.param.data)\n",
    "def show_polydraw(data):\n",
    "    return hv.Table(data, ['xs','ys'])"
   ]
  },
  {
   "cell_type": "code",
   "execution_count": null,
   "metadata": {},
   "outputs": [],
   "source": [
    "pn.Row(hvimg*polyplot, \n",
    "       pn.Column(show_polydraw, mdbox)\n",
    "      )"
   ]
  },
  {
   "cell_type": "code",
   "execution_count": null,
   "metadata": {},
   "outputs": [],
   "source": []
  }
 ],
 "metadata": {
  "kernelspec": {
   "display_name": "Python [conda env:aiviz]",
   "language": "python",
   "name": "conda-env-aiviz-py"
  },
  "language_info": {
   "codemirror_mode": {
    "name": "ipython",
    "version": 3
   },
   "file_extension": ".py",
   "mimetype": "text/x-python",
   "name": "python",
   "nbconvert_exporter": "python",
   "pygments_lexer": "ipython3",
   "version": "3.7.3"
  }
 },
 "nbformat": 4,
 "nbformat_minor": 2
}
