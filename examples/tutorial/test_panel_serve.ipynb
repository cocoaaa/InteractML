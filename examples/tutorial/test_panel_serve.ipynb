{
 "cells": [
  {
   "cell_type": "code",
   "execution_count": null,
   "metadata": {},
   "outputs": [],
   "source": [
    "from pprint import pprint as pp\n",
    "\n",
    "import numpy as np, pandas as pd, holoviews as hv, geoviews as gv\n",
    "import panel as pn\n",
    "pn.extension()\n",
    "hv.extension('bokeh')"
   ]
  },
  {
   "cell_type": "code",
   "execution_count": null,
   "metadata": {},
   "outputs": [],
   "source": [
    "curve_opts = dict(\n",
    "    framewise=True,\n",
    "    xlim=(-10,10)\n",
    ")\n",
    "def show_func(frequency=1.0, amplitude=1.0, func_name='sin'):\n",
    "    xs = np.linspace(-10,10,num=100)\n",
    "    ys = amplitude * getattr(np, func_name)(frequency *xs)\n",
    "    return hv.Curve( (xs,ys), 'x','y' ).opts(**curve_opts)\n",
    "show_func(func_name='cos')"
   ]
  },
  {
   "cell_type": "code",
   "execution_count": null,
   "metadata": {},
   "outputs": [],
   "source": [
    "dmap_func = (\n",
    "    hv.DynamicMap(show_func, kdims=['frequency', 'amplitude', 'func_name'])\n",
    "    .redim.range(frequency=(1., 5.),amplitude=(-2, 2.))\n",
    "    .redim.values(func_name=['sin', 'cos', 'tan','log'])\n",
    ")\n"
   ]
  },
  {
   "cell_type": "code",
   "execution_count": null,
   "metadata": {},
   "outputs": [],
   "source": [
    "layout = pn.panel(dmap_func)"
   ]
  },
  {
   "cell_type": "code",
   "execution_count": null,
   "metadata": {},
   "outputs": [],
   "source": [
    "layout"
   ]
  },
  {
   "cell_type": "code",
   "execution_count": null,
   "metadata": {},
   "outputs": [],
   "source": [
    "layout.servable()"
   ]
  },
  {
   "cell_type": "code",
   "execution_count": null,
   "metadata": {},
   "outputs": [],
   "source": [
    "type(layout)"
   ]
  },
  {
   "cell_type": "code",
   "execution_count": null,
   "metadata": {},
   "outputs": [],
   "source": [
    "import param\n",
    "from holoviews.streams import SingleTap\n",
    "\n",
    "class Selection(param.Parameterized):\n",
    "    typ = param.ObjectSelector(default='curve', objects=['curve','scatter'])\n",
    "    \n",
    "    def callback(self, x, y):\n",
    "        x = 0 if x is None else x\n",
    "        y = 0 if y is None else y\n",
    "        el = hv.Curve if self.typ == 'curve' else hv.Scatter\n",
    "        h = el(((x,0),(y,1)))\n",
    "        return h.redim.range(x=(-1,1), y=(-1,1)).relabel('{},{}'.format(x,y)).options(show_grid=True)\n",
    "\n",
    "    @param.depends('typ')\n",
    "    def view(self):\n",
    "        return hv.DynamicMap(self.callback, streams=[SingleTap(transient=True)])\n",
    "\n",
    "selection     = Selection(name=\"Ouch\")\n",
    "pn.Column( 'Click on the plot or change plot type', selection.param, selection.view)"
   ]
  },
  {
   "cell_type": "code",
   "execution_count": null,
   "metadata": {},
   "outputs": [],
   "source": []
  }
 ],
 "metadata": {
  "kernelspec": {
   "display_name": "Python [conda env:earthml]",
   "language": "python",
   "name": "conda-env-earthml-py"
  },
  "language_info": {
   "codemirror_mode": {
    "name": "ipython",
    "version": 3
   },
   "file_extension": ".py",
   "mimetype": "text/x-python",
   "name": "python",
   "nbconvert_exporter": "python",
   "pygments_lexer": "ipython3",
   "version": "3.7.1"
  }
 },
 "nbformat": 4,
 "nbformat_minor": 2
}
